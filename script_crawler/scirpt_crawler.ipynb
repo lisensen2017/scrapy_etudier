{
 "cells": [
  {
   "cell_type": "code",
   "execution_count": 1,
   "metadata": {},
   "outputs": [],
   "source": [
    "import requests"
   ]
  },
  {
   "cell_type": "code",
   "execution_count": 2,
   "metadata": {},
   "outputs": [],
   "source": [
    "url = 'http://www.spbeen.com/'"
   ]
  },
  {
   "cell_type": "code",
   "execution_count": 3,
   "metadata": {},
   "outputs": [],
   "source": [
    "response = requests.get(url)"
   ]
  },
  {
   "cell_type": "code",
   "execution_count": 4,
   "metadata": {},
   "outputs": [
    {
     "data": {
      "text/plain": [
       "200"
      ]
     },
     "execution_count": 4,
     "metadata": {},
     "output_type": "execute_result"
    }
   ],
   "source": [
    "response.status_code"
   ]
  },
  {
   "cell_type": "code",
   "execution_count": 5,
   "metadata": {},
   "outputs": [
    {
     "data": {
      "text/plain": [
       "'<!DOCTYPE html>\\n\\n<html lang=\"en\">\\n\\n\\t<head>\\n\\t\\t<meta charset=\"UTF-8\">\\n\\n\\t\\t<meta name=\"viewport\" content=\"width=device-width, initial-scale=1.0\">\\n\\t\\t<meta name=\"keywords\" content=\"Python, Python资讯, Python基础教程, Python学习笔记, Python电子书, Python视频教程, Python编程练习, Python Django, Python Flask, Python Tutorials, Python Video Tutorials Download\">\\n\\t\\t<meta name=\"description\" content=\"www.spbeen.com是一个关于Python技术栈的教程网站，分教程、项目两类，目前有Python3教程、Xpath教程、基于Python的网络爬虫、基于Python的文件备份、\">\\n\\t\\t<meta name=\"author\" content=\"布啦豆\">\\n\\n\\t\\t<meta name=\"baidu_union_verify\" content=\"d4634268483255495b43735addb956bf\">\\n\\n        <meta property=\"og:type\" content=\"article\">\\n        <meta property=\"og:image\" content=\"http://upload-images.jianshu.io/upload_images/174489-0434c2855ab98c3a.JPG?imageMogr2/auto-orient/strip%7CimageView2/2/w/1240\">\\n        <meta property=\"og:url\" content=\"http://spbeen.com/course/Python3%E6%95%99%E7%A8%8B/\">\\n        <meta property=\"og:title\" content=\"Python3.x教程\">\\n        <meta property=\"og:description\" content=\"小白的Python3快速入门教程\">\\n\\n\\n\\t\\t<link rel=\"shortcut icon\" href=\"http://spbeen.oss-cn-qingdao.aliyuncs.com/static%2Ffavicon.ico\">\\n\\n\\t\\t<title>Python技术栈 | Spbeen</title>\\n        \\n    \\n\\t\\t<link rel=\"stylesheet\" type=\"text/css\" href=\"http://spbeen.oss-cn-qingdao.aliyuncs.com/static%2Fwww%2Fcss%2Ftopbottom.css\" />\\n\\n            <script src=\"https://cdn.bootcss.com/vue/2.1.10/vue.js\"></script>\\n\\n\\t\\t<!--<link rel=\"stylesheet\" href=\"https://cdn.jsdelivr.net/semantic-ui/2.2.4/semantic.min.css\">-->\\n        <!--<script src=\"https://cdn.jsdelivr.net/semantic-ui/2.2.4/semantic.min.js\"></script>-->\\n\\n        <link href=\"https://cdnjs.cloudflare.com/ajax/libs/semantic-ui/2.4.1/semantic.css\" rel=\"stylesheet\">\\n        <link rel=\"stylesheet\" href=\"http://spbeen.oss-cn-qingdao.aliyuncs.com/static%2Fwww%2Fcss%2Fmarkdown-www.css\" />\\n        <style>\\n        #bread{background-color: white;box-shadow:0px 0px 0px white;color:black;}\\n        #bread a{color:black;}\\n        #mapicon{font-size: 2em;  margin-right: 0.3em;}\\n        </style>\\n\\n\\n            <script src=\"https://cdn.bootcss.com/jquery/3.3.1/jquery.min.js\"></script>\\n\\n            <script src=\"https://cdnjs.cloudflare.com/ajax/libs/semantic-ui/2.4.1/semantic.js\"></script>\\n\\n            <script src=\"https://cdn.bootcss.com/reqwest/2.0.5/reqwest.js\"></script>\\n\\n\\n        \\n\\n    <script src=\"https://cdn.bootcss.com/highlight.js/9.8.0/highlight.min.js\"></script>\\n    <script>hljs.initHighlightingOnLoad();</script>\\n    <style>\\n        p{margin: 1em 0em 1em 0em;}\\n        a{color:black;}\\n        a:hover{color:#1dbfbf;}\\n    </style>\\n\\n\\n\\n\\t\\t<!--<script>(function(i,s,o,g,r,a,m){i[\"DaoVoiceObject\"]=r;i[r]=i[r]||function(){(i[r].q=i[r].q||[]).push(arguments)},i[r].l=1*new Date();a=s.createElement(o),m=s.getElementsByTagName(o)[0];a.async=1;a.src=g;a.charset=\"utf-8\";m.parentNode.insertBefore(a,m)})(window,document,\"script\",(\\'https:\\' == document.location.protocol ? \\'https:\\' : \\'http:\\') + \"//widget.daovoice.io/widget/c824b807.js\",\"daovoice\")</script>-->\\n\\t\\t<!--<script>-->\\n\\t\\t<!--daovoice(\\'init\\', {-->\\n\\t\\t  <!--app_id: \"c824b807\"-->\\n\\t\\t<!--});-->\\n\\t\\t<!--daovoice(\\'update\\');-->\\n\\t\\t<!--</script>-->\\n\\t</head>\\n\\n\\t<body>\\n    \\n\\n\\n    <div class=\"ui sidebar inverted vertical menu\">\\n\\n        <a href=\"/\" class=\"item bigfont\">\\n            Spbeen <i class=\"home icon\"></i>\\n        </a>\\n        <a class=\"item\" href=\"/index\">\\n          <i class=\"book icon\"></i>教程\\n        </a>\\n        <a class=\"item\" href=\"/index\">\\n          <i class=\"book icon\"></i>项目\\n        </a>\\n\\n\\n\\n    </div>\\n    \\n\\n        <div class=\"pusher\">\\n            <div class=\"ui grid\">\\n                <div class=\"ui computer only sixteen wide computer column \">\\n                    \\n                    <div class=\"ui inverted teal borderless menu noradius\">\\n                        <div class=\"ui container\">\\n                            <a class=\"header item bigfont\" href=\"/\">\\n                                SpBeen\\n                            </a>\\n\\n                            <div class=\"ui simple dropdown item\" >\\n                                <div class=\"text\">教程</div><i class=\"dropdown icon\"></i>\\n                                <div class=\"menu\">\\n                                    <a class=\"item\" href=\"/course/Python3教程\">Python3教程</a>\\n                                    <a class=\"item\" href=\"/course/xpath教程/\" >Xpath教程</a>\\n                                    <a class=\"item\" href=\"/course/Linux常用命令/\" >Linux常用命令</a>\\n                                </div>\\n                            </div>\\n\\n\\n                            <div class=\"ui simple dropdown item\" >\\n                                <div class=\"text\">项目</div><i class=\"dropdown icon\"></i>\\n                                <div class=\"menu\">\\n                                    <a class=\"item\" href=\"/item/基于Flask的微信娱乐机器人\">基于Flask的微信娱乐机器人</a>\\n                                    <a class=\"item\" href=\"/item/基于Python的网络爬虫\">基于Python的网络爬虫</a>\\n                                    <a class=\"item\" href=\"/item/基于 Python 的文件备份\">基于 Python 的文件备份</a>\\n                                </div>\\n                            </div>\\n\\n\\n                            <div class=\"ui simple dropdown item\" >\\n                                <div class=\"text\">工具</div><i class=\"dropdown icon\"></i>\\n                                <div class=\"menu\">\\n                                    <a class=\"item\" href=\"/tool/request_info/\">IP请求信息查询</a>\\n                                </div>\\n                            </div>\\n                        </div>\\n                    </div>\\n                    \\n                </div>\\n                <div class=\"ui mobile only tablet only sixteen wide mobile sixteen wide tablet column\">\\n                    <div class=\"ui inverted teal borderless menu noradius mobile-tablet\">\\n                        <a id=\"sidebar\"  class=\"item\"><i class=\"bigger sidebar icon\"></i></a>\\n\\n                        <a href=\"/\" class=\"right item bigfont mobile-tablet-item\">Spbeen</a>\\n\\n                        <!--</div>-->\\n                    </div>\\n                </div>\\n            </div>\\n\\n        <div class=\"ui container\">\\n            <div id=\"bread\" class=\"ui icon message\">\\n\\n                    <i id=\"mapicon\" class=\"location arrow icon\"></i>\\n                    <div class=\"content\">\\n                    <p>\\n                        <div class=\"ui breadcrumb\">\\n\\n\\n                            \\n                                <a class=\"section\" href=\"/\">Spbeen</a>\\n                                <div class=\"divider\"> > </div>\\n                            \\n\\n                        </div>\\n                    </p>\\n                    </div>\\n\\n\\n            </div>\\n        </div>\\n\\n            <div class=\"content\">\\n                \\n<div id=\"content_show\" class=\"ui container\">\\n    <div class=\"ui grid\">\\n        <div class=\"sixteen wide mobile sixteen wide tablet twelve wide computer column\">\\n            <div class=\"ui blue segment\">\\n                <a class=\"ui red ribbon label\">教程</a>\\n                <!--<h1 class=\"ui header\">教程</h1>-->\\n                \\n                <div class=\"ui vertical segment\">\\n                    <h3 class=\"ui header\">\\n                        <a href=\"/course/Python3教程\">Python3教程</a>\\n                    </h3>\\n                    <div class=\"ui sub\">\\n                        <span class=\"\"><i class=\"user icon\"></i>\\n                        布啦豆\\n                        </span>\\n                        <span class=\"\"><i class=\"eye icon\"></i>\\n                            360314\\n                        </span>\\n                    </div>\\n                    <p>\\n                        Python3教程，从零开始，写一个通俗易懂的教程\\n                    </p>\\n                </div>\\n                \\n                <div class=\"ui vertical segment\">\\n                    <h3 class=\"ui header\">\\n                        <a href=\"/course/xpath教程\">xpath教程</a>\\n                    </h3>\\n                    <div class=\"ui sub\">\\n                        <span class=\"\"><i class=\"user icon\"></i>\\n                        布啦豆\\n                        </span>\\n                        <span class=\"\"><i class=\"eye icon\"></i>\\n                            100917\\n                        </span>\\n                    </div>\\n                    <p>\\n                        xpath是一个分析html的强有力工具，Python爬虫可以方便的使用xpath来获取数据，写个针对爬虫的xpath教程\\n                    </p>\\n                </div>\\n                \\n                <div class=\"ui vertical segment\">\\n                    <h3 class=\"ui header\">\\n                        <a href=\"/course/Linux常用命令\">Linux常用命令</a>\\n                    </h3>\\n                    <div class=\"ui sub\">\\n                        <span class=\"\"><i class=\"user icon\"></i>\\n                        布啦豆\\n                        </span>\\n                        <span class=\"\"><i class=\"eye icon\"></i>\\n                            23048\\n                        </span>\\n                    </div>\\n                    <p>\\n                        入门Linux必备的常用命令\\n                    </p>\\n                </div>\\n                \\n            </div>\\n            <div class=\"ui yellow segment\">\\n                <a class=\"ui red ribbon label\">项目</a>\\n                \\n                <div class=\"ui vertical segment\">\\n                    <h3 class=\"ui header\">\\n                        <a href=\"/item/基于Flask的微信娱乐机器人\">基于Flask的微信娱乐机器人</a>\\n                    </h3>\\n                    <div class=\"ui sub\">\\n                        <span class=\"\"><i class=\"user icon\"></i>\\n                        布啦豆\\n                        </span>\\n                        <span class=\"\"><i class=\"eye icon\"></i>\\n                            35047\\n                        </span>\\n                    </div>\\n                    <p>\\n                        本次课程是基于 Flask Web 框架开发的娱乐级别的微信公众号后台，学习并实践 python 编程，Flask Web 开发以及微信公众平台开发机器人的基本步骤。\\n                    </p>\\n                </div>\\n                \\n                <div class=\"ui vertical segment\">\\n                    <h3 class=\"ui header\">\\n                        <a href=\"/item/基于Python的网络爬虫\">基于Python的网络爬虫</a>\\n                    </h3>\\n                    <div class=\"ui sub\">\\n                        <span class=\"\"><i class=\"user icon\"></i>\\n                        布啦豆\\n                        </span>\\n                        <span class=\"\"><i class=\"eye icon\"></i>\\n                            63979\\n                        </span>\\n                    </div>\\n                    <p>\\n                        单线程python爬虫，爬模特图片，根据图片目录创建本地文件夹并将图图片保存到对应的目录中去。\\n                    </p>\\n                </div>\\n                \\n                <div class=\"ui vertical segment\">\\n                    <h3 class=\"ui header\">\\n                        <a href=\"/item/基于 Python 的文件备份\">基于 Python 的文件备份</a>\\n                    </h3>\\n                    <div class=\"ui sub\">\\n                        <span class=\"\"><i class=\"user icon\"></i>\\n                        布啦豆\\n                        </span>\\n                        <span class=\"\"><i class=\"eye icon\"></i>\\n                            23721\\n                        </span>\\n                    </div>\\n                    <p>\\n                        本课程实现了一个 Python 的文件备份脚本，通过项目的实现，学习并实践 Python 的基础知识，Linux 的文件操作及简单的界面设计。\\n                    </p>\\n                </div>\\n                \\n            </div>\\n        </div>\\n\\n        <div class=\"ui computer only four wide computer column right \">\\n            <div class=\"ui red segment\">\\n                <div class=\"ui vertical text menu\">\\n                    <div class=\"active item\"><h4 class=\"ui headers\">最近更新</h4></div>\\n                    \\n                    <a class=\"item\" href=\"/p/b76a2e49-63c6-4076-a1c8-a09a653515e5\">\\n                        1. ls命令\\n                    </a>\\n                    \\n                    <a class=\"item\" href=\"/p/52e1d29d-4901-4215-bb86-7276ad076457\">\\n                        2. cd命令\\n                    </a>\\n                    \\n                    <a class=\"item\" href=\"/p/bb16e09d-511f-4728-af49-752ced909ec1\">\\n                        3. 逐层检索和全局检索\\n                    </a>\\n                    \\n                    <a class=\"item\" href=\"/p/4fef7500-1f9c-471b-a56e-af741bc16012\">\\n                        4. 通过ID和Class检索\\n                    </a>\\n                    \\n                    <a class=\"item\" href=\"/p/e4a032a4-3cf0-467b-9199-098240925504\">\\n                        5. 简单的标签搜索\\n                    </a>\\n                    \\n                    <a class=\"item\" href=\"/p/a070c2e5-acf9-49e6-9baf-b5bf6bace059\">\\n                        6. 伊始\\n                    </a>\\n                    \\n                    <a class=\"item\" href=\"/p/d91cc59a-93af-491c-b731-115703171a8f\">\\n                        7. 类的继承和多态\\n                    </a>\\n                    \\n                    <a class=\"item\" href=\"/p/036d0200-adb3-46ba-814f-8ee4ff18cd5d\">\\n                        8. 类的不同方法（概念）\\n                    </a>\\n                    \\n                    <a class=\"item\" href=\"/p/c7275ff7-522d-49ae-82d7-469d0eef296f\">\\n                        9. Python线程使用和概念理解\\n                    </a>\\n                    \\n                    <a class=\"item\" href=\"/p/7ecd0743-9e06-43d5-b32d-de0089ab4001\">\\n                        10. yield和生成器是什么？\\n                    </a>\\n                    \\n                    <a class=\"item\" href=\"/p/8edfee70-da72-484a-836a-ede361de344c\">\\n                        11. 装饰器Decorator使用\\n                    </a>\\n                    \\n                    <a class=\"item\" href=\"/p/6232e822-8ddf-4174-ada1-e9ab2f0f9249\">\\n                        12. 对象的概念和使用示例\\n                    </a>\\n                    \\n                </div>\\n            </div>\\n\\n            <div class=\"ui violet segment\">\\n                <!--<div class=\"ui header center aligned\">扫码移步其他終端</div>-->\\n                <div class=\"ui header center aligned\">扫码关注微信公众号</div>\\n                <div class=\"ui image\">\\n                    <!--<img src=\"{-{ qrcode(url) }-}\" alt=\"\">-->\\n                    <img src=\"http://static.spbeen.com/img/wechat_qrcode/qrcode_for_gh_5e6077ecc776_1280.jpg\" alt=\"\">\\n                </div>\\n            </div>\\n\\n        </div>\\n    </div>\\n</div>\\n\\n\\n            </div>\\n\\n            \\n\\n            <div class=\"ui inverted teal segment noradius\">\\n                <div class=\"ui container\">\\n\\n                   Copyright @2016-2017 | 赣ICP备16003025号 <script type=\"text/javascript\">var cnzz_protocol = ((\"https:\" == document.location.protocol) ? \" https://\" : \" http://\");document.write(unescape(\"%3Cspan id=\\'cnzz_stat_icon_1260149661\\'%3E%3C/span%3E%3Cscript src=\\'\" + cnzz_protocol + \"s11.cnzz.com/z_stat.php%3Fid%3D1260149661\\' type=\\'text/javascript\\'%3E%3C/script%3E\"));</script>\\n\\n\\n                </div>\\n            </div>\\n\\n            \\n\\n            \\n            <script>\\n                $(document).ready(function(){\\n                    $(\".content table\").addClass(\"ui celled striped table\");\\n\\n                    $(\"#sidebar\").click(function(){\\n                      $(\\'.ui.sidebar\\').sidebar(\\'toggle\\');\\n                    });\\n\\n                });\\n            </script>\\n            \\n\\n    </div>\\n\\t</body>\\n\\n</html>'"
      ]
     },
     "execution_count": 5,
     "metadata": {},
     "output_type": "execute_result"
    }
   ],
   "source": [
    "response.text # 自动编码的字符串"
   ]
  },
  {
   "cell_type": "code",
   "execution_count": 6,
   "metadata": {},
   "outputs": [
    {
     "name": "stdout",
     "output_type": "stream",
     "text": [
      "<!DOCTYPE html>\n",
      "\n",
      "<html lang=\"en\">\n",
      "\n",
      "\t<head>\n",
      "\t\t<meta charset=\"UTF-8\">\n",
      "\n",
      "\t\t<meta name=\"viewport\" content=\"width=device-width, initial-scale=1.0\">\n",
      "\t\t<meta name=\"keywords\" content=\"Python, Python资讯, Python基础教程, Python学习笔记, Python电子书, Python视频教程, Python编程练习, Python Django, Python Flask, Python Tutorials, Python Video Tutorials Download\">\n",
      "\t\t<meta name=\"description\" content=\"www.spbeen.com是一个关于Python技术栈的教程网站，分教程、项目两类，目前有Python3教程、Xpath教程、基于Python的网络爬虫、基于Python的文件备份、\">\n",
      "\t\t<meta name=\"author\" content=\"布啦豆\">\n",
      "\n",
      "\t\t<meta name=\"baidu_union_verify\" content=\"d4634268483255495b43735addb956bf\">\n",
      "\n",
      "        <meta property=\"og:type\" content=\"article\">\n",
      "        <meta property=\"og:image\" content=\"http://upload-images.jianshu.io/upload_images/174489-0434c2855ab98c3a.JPG?imageMogr2/auto-orient/strip%7CimageView2/2/w/1240\">\n",
      "        <meta property=\"og:url\" content=\"http://spbeen.com/course/Python3%E6%95%99%E7%A8%8B/\">\n",
      "        <meta property=\"og:title\" content=\"Python3.x教程\">\n",
      "        <meta property=\"og:description\" content=\"小白的Python3快速入门教程\">\n",
      "\n",
      "\n",
      "\t\t<link rel=\"shortcut icon\" href=\"http://spbeen.oss-cn-qingdao.aliyuncs.com/static%2Ffavicon.ico\">\n",
      "\n",
      "\t\t<title>Python技术栈 | Spbeen</title>\n",
      "        \n",
      "    \n",
      "\t\t<link rel=\"stylesheet\" type=\"text/css\" href=\"http://spbeen.oss-cn-qingdao.aliyuncs.com/static%2Fwww%2Fcss%2Ftopbottom.css\" />\n",
      "\n",
      "            <script src=\"https://cdn.bootcss.com/vue/2.1.10/vue.js\"></script>\n",
      "\n",
      "\t\t<!--<link rel=\"stylesheet\" href=\"https://cdn.jsdelivr.net/semantic-ui/2.2.4/semantic.min.css\">-->\n",
      "        <!--<script src=\"https://cdn.jsdelivr.net/semantic-ui/2.2.4/semantic.min.js\"></script>-->\n",
      "\n",
      "        <link href=\"https://cdnjs.cloudflare.com/ajax/libs/semantic-ui/2.4.1/semantic.css\" rel=\"stylesheet\">\n",
      "        <link rel=\"stylesheet\" href=\"http://spbeen.oss-cn-qingdao.aliyuncs.com/static%2Fwww%2Fcss%2Fmarkdown-www.css\" />\n",
      "        <style>\n",
      "        #bread{background-color: white;box-shadow:0px 0px 0px white;color:black;}\n",
      "        #bread a{color:black;}\n",
      "        #mapicon{font-size: 2em;  margin-right: 0.3em;}\n",
      "        </style>\n",
      "\n",
      "\n",
      "            <script src=\"https://cdn.bootcss.com/jquery/3.3.1/jquery.min.js\"></script>\n",
      "\n",
      "            <script src=\"https://cdnjs.cloudflare.com/ajax/libs/semantic-ui/2.4.1/semantic.js\"></script>\n",
      "\n",
      "            <script src=\"https://cdn.bootcss.com/reqwest/2.0.5/reqwest.js\"></script>\n",
      "\n",
      "\n",
      "        \n",
      "\n",
      "    <script src=\"https://cdn.bootcss.com/highlight.js/9.8.0/highlight.min.js\"></script>\n",
      "    <script>hljs.initHighlightingOnLoad();</script>\n",
      "    <style>\n",
      "        p{margin: 1em 0em 1em 0em;}\n",
      "        a{color:black;}\n",
      "        a:hover{color:#1dbfbf;}\n",
      "    </style>\n",
      "\n",
      "\n",
      "\n",
      "\t\t<!--<script>(function(i,s,o,g,r,a,m){i[\"DaoVoiceObject\"]=r;i[r]=i[r]||function(){(i[r].q=i[r].q||[]).push(arguments)},i[r].l=1*new Date();a=s.createElement(o),m=s.getElementsByTagName(o)[0];a.async=1;a.src=g;a.charset=\"utf-8\";m.parentNode.insertBefore(a,m)})(window,document,\"script\",('https:' == document.location.protocol ? 'https:' : 'http:') + \"//widget.daovoice.io/widget/c824b807.js\",\"daovoice\")</script>-->\n",
      "\t\t<!--<script>-->\n",
      "\t\t<!--daovoice('init', {-->\n",
      "\t\t  <!--app_id: \"c824b807\"-->\n",
      "\t\t<!--});-->\n",
      "\t\t<!--daovoice('update');-->\n",
      "\t\t<!--</script>-->\n",
      "\t</head>\n",
      "\n",
      "\t<body>\n",
      "    \n",
      "\n",
      "\n",
      "    <div class=\"ui sidebar inverted vertical menu\">\n",
      "\n",
      "        <a href=\"/\" class=\"item bigfont\">\n",
      "            Spbeen <i class=\"home icon\"></i>\n",
      "        </a>\n",
      "        <a class=\"item\" href=\"/index\">\n",
      "          <i class=\"book icon\"></i>教程\n",
      "        </a>\n",
      "        <a class=\"item\" href=\"/index\">\n",
      "          <i class=\"book icon\"></i>项目\n",
      "        </a>\n",
      "\n",
      "\n",
      "\n",
      "    </div>\n",
      "    \n",
      "\n",
      "        <div class=\"pusher\">\n",
      "            <div class=\"ui grid\">\n",
      "                <div class=\"ui computer only sixteen wide computer column \">\n",
      "                    \n",
      "                    <div class=\"ui inverted teal borderless menu noradius\">\n",
      "                        <div class=\"ui container\">\n",
      "                            <a class=\"header item bigfont\" href=\"/\">\n",
      "                                SpBeen\n",
      "                            </a>\n",
      "\n",
      "                            <div class=\"ui simple dropdown item\" >\n",
      "                                <div class=\"text\">教程</div><i class=\"dropdown icon\"></i>\n",
      "                                <div class=\"menu\">\n",
      "                                    <a class=\"item\" href=\"/course/Python3教程\">Python3教程</a>\n",
      "                                    <a class=\"item\" href=\"/course/xpath教程/\" >Xpath教程</a>\n",
      "                                    <a class=\"item\" href=\"/course/Linux常用命令/\" >Linux常用命令</a>\n",
      "                                </div>\n",
      "                            </div>\n",
      "\n",
      "\n",
      "                            <div class=\"ui simple dropdown item\" >\n",
      "                                <div class=\"text\">项目</div><i class=\"dropdown icon\"></i>\n",
      "                                <div class=\"menu\">\n",
      "                                    <a class=\"item\" href=\"/item/基于Flask的微信娱乐机器人\">基于Flask的微信娱乐机器人</a>\n",
      "                                    <a class=\"item\" href=\"/item/基于Python的网络爬虫\">基于Python的网络爬虫</a>\n",
      "                                    <a class=\"item\" href=\"/item/基于 Python 的文件备份\">基于 Python 的文件备份</a>\n",
      "                                </div>\n",
      "                            </div>\n",
      "\n",
      "\n",
      "                            <div class=\"ui simple dropdown item\" >\n",
      "                                <div class=\"text\">工具</div><i class=\"dropdown icon\"></i>\n",
      "                                <div class=\"menu\">\n",
      "                                    <a class=\"item\" href=\"/tool/request_info/\">IP请求信息查询</a>\n",
      "                                </div>\n",
      "                            </div>\n",
      "                        </div>\n",
      "                    </div>\n",
      "                    \n",
      "                </div>\n",
      "                <div class=\"ui mobile only tablet only sixteen wide mobile sixteen wide tablet column\">\n",
      "                    <div class=\"ui inverted teal borderless menu noradius mobile-tablet\">\n",
      "                        <a id=\"sidebar\"  class=\"item\"><i class=\"bigger sidebar icon\"></i></a>\n",
      "\n",
      "                        <a href=\"/\" class=\"right item bigfont mobile-tablet-item\">Spbeen</a>\n",
      "\n",
      "                        <!--</div>-->\n",
      "                    </div>\n",
      "                </div>\n",
      "            </div>\n",
      "\n",
      "        <div class=\"ui container\">\n",
      "            <div id=\"bread\" class=\"ui icon message\">\n",
      "\n",
      "                    <i id=\"mapicon\" class=\"location arrow icon\"></i>\n",
      "                    <div class=\"content\">\n",
      "                    <p>\n",
      "                        <div class=\"ui breadcrumb\">\n",
      "\n",
      "\n",
      "                            \n",
      "                                <a class=\"section\" href=\"/\">Spbeen</a>\n",
      "                                <div class=\"divider\"> > </div>\n",
      "                            \n",
      "\n",
      "                        </div>\n",
      "                    </p>\n",
      "                    </div>\n",
      "\n",
      "\n",
      "            </div>\n",
      "        </div>\n",
      "\n",
      "            <div class=\"content\">\n",
      "                \n",
      "<div id=\"content_show\" class=\"ui container\">\n",
      "    <div class=\"ui grid\">\n",
      "        <div class=\"sixteen wide mobile sixteen wide tablet twelve wide computer column\">\n",
      "            <div class=\"ui blue segment\">\n",
      "                <a class=\"ui red ribbon label\">教程</a>\n",
      "                <!--<h1 class=\"ui header\">教程</h1>-->\n",
      "                \n",
      "                <div class=\"ui vertical segment\">\n",
      "                    <h3 class=\"ui header\">\n",
      "                        <a href=\"/course/Python3教程\">Python3教程</a>\n",
      "                    </h3>\n",
      "                    <div class=\"ui sub\">\n",
      "                        <span class=\"\"><i class=\"user icon\"></i>\n",
      "                        布啦豆\n",
      "                        </span>\n",
      "                        <span class=\"\"><i class=\"eye icon\"></i>\n",
      "                            360314\n",
      "                        </span>\n",
      "                    </div>\n",
      "                    <p>\n",
      "                        Python3教程，从零开始，写一个通俗易懂的教程\n",
      "                    </p>\n",
      "                </div>\n",
      "                \n",
      "                <div class=\"ui vertical segment\">\n",
      "                    <h3 class=\"ui header\">\n",
      "                        <a href=\"/course/xpath教程\">xpath教程</a>\n",
      "                    </h3>\n",
      "                    <div class=\"ui sub\">\n",
      "                        <span class=\"\"><i class=\"user icon\"></i>\n",
      "                        布啦豆\n",
      "                        </span>\n",
      "                        <span class=\"\"><i class=\"eye icon\"></i>\n",
      "                            100917\n",
      "                        </span>\n",
      "                    </div>\n",
      "                    <p>\n",
      "                        xpath是一个分析html的强有力工具，Python爬虫可以方便的使用xpath来获取数据，写个针对爬虫的xpath教程\n",
      "                    </p>\n",
      "                </div>\n",
      "                \n",
      "                <div class=\"ui vertical segment\">\n",
      "                    <h3 class=\"ui header\">\n",
      "                        <a href=\"/course/Linux常用命令\">Linux常用命令</a>\n",
      "                    </h3>\n",
      "                    <div class=\"ui sub\">\n",
      "                        <span class=\"\"><i class=\"user icon\"></i>\n",
      "                        布啦豆\n",
      "                        </span>\n",
      "                        <span class=\"\"><i class=\"eye icon\"></i>\n",
      "                            23048\n",
      "                        </span>\n",
      "                    </div>\n",
      "                    <p>\n",
      "                        入门Linux必备的常用命令\n",
      "                    </p>\n",
      "                </div>\n",
      "                \n",
      "            </div>\n",
      "            <div class=\"ui yellow segment\">\n",
      "                <a class=\"ui red ribbon label\">项目</a>\n",
      "                \n",
      "                <div class=\"ui vertical segment\">\n",
      "                    <h3 class=\"ui header\">\n",
      "                        <a href=\"/item/基于Flask的微信娱乐机器人\">基于Flask的微信娱乐机器人</a>\n",
      "                    </h3>\n",
      "                    <div class=\"ui sub\">\n",
      "                        <span class=\"\"><i class=\"user icon\"></i>\n",
      "                        布啦豆\n",
      "                        </span>\n",
      "                        <span class=\"\"><i class=\"eye icon\"></i>\n",
      "                            35047\n",
      "                        </span>\n",
      "                    </div>\n",
      "                    <p>\n",
      "                        本次课程是基于 Flask Web 框架开发的娱乐级别的微信公众号后台，学习并实践 python 编程，Flask Web 开发以及微信公众平台开发机器人的基本步骤。\n",
      "                    </p>\n",
      "                </div>\n",
      "                \n",
      "                <div class=\"ui vertical segment\">\n",
      "                    <h3 class=\"ui header\">\n",
      "                        <a href=\"/item/基于Python的网络爬虫\">基于Python的网络爬虫</a>\n",
      "                    </h3>\n",
      "                    <div class=\"ui sub\">\n",
      "                        <span class=\"\"><i class=\"user icon\"></i>\n",
      "                        布啦豆\n",
      "                        </span>\n",
      "                        <span class=\"\"><i class=\"eye icon\"></i>\n",
      "                            63979\n",
      "                        </span>\n",
      "                    </div>\n",
      "                    <p>\n",
      "                        单线程python爬虫，爬模特图片，根据图片目录创建本地文件夹并将图图片保存到对应的目录中去。\n",
      "                    </p>\n",
      "                </div>\n",
      "                \n",
      "                <div class=\"ui vertical segment\">\n",
      "                    <h3 class=\"ui header\">\n",
      "                        <a href=\"/item/基于 Python 的文件备份\">基于 Python 的文件备份</a>\n",
      "                    </h3>\n",
      "                    <div class=\"ui sub\">\n",
      "                        <span class=\"\"><i class=\"user icon\"></i>\n",
      "                        布啦豆\n",
      "                        </span>\n",
      "                        <span class=\"\"><i class=\"eye icon\"></i>\n",
      "                            23721\n",
      "                        </span>\n",
      "                    </div>\n",
      "                    <p>\n",
      "                        本课程实现了一个 Python 的文件备份脚本，通过项目的实现，学习并实践 Python 的基础知识，Linux 的文件操作及简单的界面设计。\n",
      "                    </p>\n",
      "                </div>\n",
      "                \n",
      "            </div>\n",
      "        </div>\n",
      "\n",
      "        <div class=\"ui computer only four wide computer column right \">\n",
      "            <div class=\"ui red segment\">\n",
      "                <div class=\"ui vertical text menu\">\n",
      "                    <div class=\"active item\"><h4 class=\"ui headers\">最近更新</h4></div>\n",
      "                    \n",
      "                    <a class=\"item\" href=\"/p/b76a2e49-63c6-4076-a1c8-a09a653515e5\">\n",
      "                        1. ls命令\n",
      "                    </a>\n",
      "                    \n",
      "                    <a class=\"item\" href=\"/p/52e1d29d-4901-4215-bb86-7276ad076457\">\n",
      "                        2. cd命令\n",
      "                    </a>\n",
      "                    \n",
      "                    <a class=\"item\" href=\"/p/bb16e09d-511f-4728-af49-752ced909ec1\">\n",
      "                        3. 逐层检索和全局检索\n",
      "                    </a>\n",
      "                    \n",
      "                    <a class=\"item\" href=\"/p/4fef7500-1f9c-471b-a56e-af741bc16012\">\n",
      "                        4. 通过ID和Class检索\n",
      "                    </a>\n",
      "                    \n",
      "                    <a class=\"item\" href=\"/p/e4a032a4-3cf0-467b-9199-098240925504\">\n",
      "                        5. 简单的标签搜索\n",
      "                    </a>\n",
      "                    \n",
      "                    <a class=\"item\" href=\"/p/a070c2e5-acf9-49e6-9baf-b5bf6bace059\">\n",
      "                        6. 伊始\n",
      "                    </a>\n",
      "                    \n",
      "                    <a class=\"item\" href=\"/p/d91cc59a-93af-491c-b731-115703171a8f\">\n",
      "                        7. 类的继承和多态\n",
      "                    </a>\n",
      "                    \n",
      "                    <a class=\"item\" href=\"/p/036d0200-adb3-46ba-814f-8ee4ff18cd5d\">\n",
      "                        8. 类的不同方法（概念）\n",
      "                    </a>\n",
      "                    \n",
      "                    <a class=\"item\" href=\"/p/c7275ff7-522d-49ae-82d7-469d0eef296f\">\n",
      "                        9. Python线程使用和概念理解\n",
      "                    </a>\n",
      "                    \n",
      "                    <a class=\"item\" href=\"/p/7ecd0743-9e06-43d5-b32d-de0089ab4001\">\n",
      "                        10. yield和生成器是什么？\n",
      "                    </a>\n",
      "                    \n",
      "                    <a class=\"item\" href=\"/p/8edfee70-da72-484a-836a-ede361de344c\">\n",
      "                        11. 装饰器Decorator使用\n",
      "                    </a>\n",
      "                    \n",
      "                    <a class=\"item\" href=\"/p/6232e822-8ddf-4174-ada1-e9ab2f0f9249\">\n",
      "                        12. 对象的概念和使用示例\n",
      "                    </a>\n",
      "                    \n",
      "                </div>\n",
      "            </div>\n",
      "\n",
      "            <div class=\"ui violet segment\">\n",
      "                <!--<div class=\"ui header center aligned\">扫码移步其他終端</div>-->\n",
      "                <div class=\"ui header center aligned\">扫码关注微信公众号</div>\n",
      "                <div class=\"ui image\">\n",
      "                    <!--<img src=\"{-{ qrcode(url) }-}\" alt=\"\">-->\n",
      "                    <img src=\"http://static.spbeen.com/img/wechat_qrcode/qrcode_for_gh_5e6077ecc776_1280.jpg\" alt=\"\">\n",
      "                </div>\n",
      "            </div>\n",
      "\n",
      "        </div>\n",
      "    </div>\n",
      "</div>\n",
      "\n",
      "\n",
      "            </div>\n",
      "\n",
      "            \n",
      "\n",
      "            <div class=\"ui inverted teal segment noradius\">\n",
      "                <div class=\"ui container\">\n",
      "\n",
      "                   Copyright @2016-2017 | 赣ICP备16003025号 <script type=\"text/javascript\">var cnzz_protocol = ((\"https:\" == document.location.protocol) ? \" https://\" : \" http://\");document.write(unescape(\"%3Cspan id='cnzz_stat_icon_1260149661'%3E%3C/span%3E%3Cscript src='\" + cnzz_protocol + \"s11.cnzz.com/z_stat.php%3Fid%3D1260149661' type='text/javascript'%3E%3C/script%3E\"));</script>\n",
      "\n",
      "\n",
      "                </div>\n",
      "            </div>\n",
      "\n",
      "            \n",
      "\n",
      "            \n",
      "            <script>\n",
      "                $(document).ready(function(){\n",
      "                    $(\".content table\").addClass(\"ui celled striped table\");\n",
      "\n",
      "                    $(\"#sidebar\").click(function(){\n",
      "                      $('.ui.sidebar').sidebar('toggle');\n",
      "                    });\n",
      "\n",
      "                });\n",
      "            </script>\n",
      "            \n",
      "\n",
      "    </div>\n",
      "\t</body>\n",
      "\n",
      "</html>\n"
     ]
    }
   ],
   "source": [
    "print(response.text) # 去掉不可见字符/n等"
   ]
  },
  {
   "cell_type": "code",
   "execution_count": 7,
   "metadata": {},
   "outputs": [
    {
     "data": {
      "text/plain": [
       "b'<!DOCTYPE html>\\n\\n<html lang=\"en\">\\n\\n\\t<head>\\n\\t\\t<meta charset=\"UTF-8\">\\n\\n\\t\\t<meta name=\"viewport\" content=\"width=device-width, initial-scale=1.0\">\\n\\t\\t<meta name=\"keywords\" content=\"Python, Python\\xe8\\xb5\\x84\\xe8\\xae\\xaf, Python\\xe5\\x9f\\xba\\xe7\\xa1\\x80\\xe6\\x95\\x99\\xe7\\xa8\\x8b, Python\\xe5\\xad\\xa6\\xe4\\xb9\\xa0\\xe7\\xac\\x94\\xe8\\xae\\xb0, Python\\xe7\\x94\\xb5\\xe5\\xad\\x90\\xe4\\xb9\\xa6, Python\\xe8\\xa7\\x86\\xe9\\xa2\\x91\\xe6\\x95\\x99\\xe7\\xa8\\x8b, Python\\xe7\\xbc\\x96\\xe7\\xa8\\x8b\\xe7\\xbb\\x83\\xe4\\xb9\\xa0, Python Django, Python Flask, Python Tutorials, Python Video Tutorials Download\">\\n\\t\\t<meta name=\"description\" content=\"www.spbeen.com\\xe6\\x98\\xaf\\xe4\\xb8\\x80\\xe4\\xb8\\xaa\\xe5\\x85\\xb3\\xe4\\xba\\x8ePython\\xe6\\x8a\\x80\\xe6\\x9c\\xaf\\xe6\\xa0\\x88\\xe7\\x9a\\x84\\xe6\\x95\\x99\\xe7\\xa8\\x8b\\xe7\\xbd\\x91\\xe7\\xab\\x99\\xef\\xbc\\x8c\\xe5\\x88\\x86\\xe6\\x95\\x99\\xe7\\xa8\\x8b\\xe3\\x80\\x81\\xe9\\xa1\\xb9\\xe7\\x9b\\xae\\xe4\\xb8\\xa4\\xe7\\xb1\\xbb\\xef\\xbc\\x8c\\xe7\\x9b\\xae\\xe5\\x89\\x8d\\xe6\\x9c\\x89Python3\\xe6\\x95\\x99\\xe7\\xa8\\x8b\\xe3\\x80\\x81Xpath\\xe6\\x95\\x99\\xe7\\xa8\\x8b\\xe3\\x80\\x81\\xe5\\x9f\\xba\\xe4\\xba\\x8ePython\\xe7\\x9a\\x84\\xe7\\xbd\\x91\\xe7\\xbb\\x9c\\xe7\\x88\\xac\\xe8\\x99\\xab\\xe3\\x80\\x81\\xe5\\x9f\\xba\\xe4\\xba\\x8ePython\\xe7\\x9a\\x84\\xe6\\x96\\x87\\xe4\\xbb\\xb6\\xe5\\xa4\\x87\\xe4\\xbb\\xbd\\xe3\\x80\\x81\">\\n\\t\\t<meta name=\"author\" content=\"\\xe5\\xb8\\x83\\xe5\\x95\\xa6\\xe8\\xb1\\x86\">\\n\\n\\t\\t<meta name=\"baidu_union_verify\" content=\"d4634268483255495b43735addb956bf\">\\n\\n        <meta property=\"og:type\" content=\"article\">\\n        <meta property=\"og:image\" content=\"http://upload-images.jianshu.io/upload_images/174489-0434c2855ab98c3a.JPG?imageMogr2/auto-orient/strip%7CimageView2/2/w/1240\">\\n        <meta property=\"og:url\" content=\"http://spbeen.com/course/Python3%E6%95%99%E7%A8%8B/\">\\n        <meta property=\"og:title\" content=\"Python3.x\\xe6\\x95\\x99\\xe7\\xa8\\x8b\">\\n        <meta property=\"og:description\" content=\"\\xe5\\xb0\\x8f\\xe7\\x99\\xbd\\xe7\\x9a\\x84Python3\\xe5\\xbf\\xab\\xe9\\x80\\x9f\\xe5\\x85\\xa5\\xe9\\x97\\xa8\\xe6\\x95\\x99\\xe7\\xa8\\x8b\">\\n\\n\\n\\t\\t<link rel=\"shortcut icon\" href=\"http://spbeen.oss-cn-qingdao.aliyuncs.com/static%2Ffavicon.ico\">\\n\\n\\t\\t<title>Python\\xe6\\x8a\\x80\\xe6\\x9c\\xaf\\xe6\\xa0\\x88 | Spbeen</title>\\n        \\n    \\n\\t\\t<link rel=\"stylesheet\" type=\"text/css\" href=\"http://spbeen.oss-cn-qingdao.aliyuncs.com/static%2Fwww%2Fcss%2Ftopbottom.css\" />\\n\\n            <script src=\"https://cdn.bootcss.com/vue/2.1.10/vue.js\"></script>\\n\\n\\t\\t<!--<link rel=\"stylesheet\" href=\"https://cdn.jsdelivr.net/semantic-ui/2.2.4/semantic.min.css\">-->\\n        <!--<script src=\"https://cdn.jsdelivr.net/semantic-ui/2.2.4/semantic.min.js\"></script>-->\\n\\n        <link href=\"https://cdnjs.cloudflare.com/ajax/libs/semantic-ui/2.4.1/semantic.css\" rel=\"stylesheet\">\\n        <link rel=\"stylesheet\" href=\"http://spbeen.oss-cn-qingdao.aliyuncs.com/static%2Fwww%2Fcss%2Fmarkdown-www.css\" />\\n        <style>\\n        #bread{background-color: white;box-shadow:0px 0px 0px white;color:black;}\\n        #bread a{color:black;}\\n        #mapicon{font-size: 2em;  margin-right: 0.3em;}\\n        </style>\\n\\n\\n            <script src=\"https://cdn.bootcss.com/jquery/3.3.1/jquery.min.js\"></script>\\n\\n            <script src=\"https://cdnjs.cloudflare.com/ajax/libs/semantic-ui/2.4.1/semantic.js\"></script>\\n\\n            <script src=\"https://cdn.bootcss.com/reqwest/2.0.5/reqwest.js\"></script>\\n\\n\\n        \\n\\n    <script src=\"https://cdn.bootcss.com/highlight.js/9.8.0/highlight.min.js\"></script>\\n    <script>hljs.initHighlightingOnLoad();</script>\\n    <style>\\n        p{margin: 1em 0em 1em 0em;}\\n        a{color:black;}\\n        a:hover{color:#1dbfbf;}\\n    </style>\\n\\n\\n\\n\\t\\t<!--<script>(function(i,s,o,g,r,a,m){i[\"DaoVoiceObject\"]=r;i[r]=i[r]||function(){(i[r].q=i[r].q||[]).push(arguments)},i[r].l=1*new Date();a=s.createElement(o),m=s.getElementsByTagName(o)[0];a.async=1;a.src=g;a.charset=\"utf-8\";m.parentNode.insertBefore(a,m)})(window,document,\"script\",(\\'https:\\' == document.location.protocol ? \\'https:\\' : \\'http:\\') + \"//widget.daovoice.io/widget/c824b807.js\",\"daovoice\")</script>-->\\n\\t\\t<!--<script>-->\\n\\t\\t<!--daovoice(\\'init\\', {-->\\n\\t\\t  <!--app_id: \"c824b807\"-->\\n\\t\\t<!--});-->\\n\\t\\t<!--daovoice(\\'update\\');-->\\n\\t\\t<!--</script>-->\\n\\t</head>\\n\\n\\t<body>\\n    \\n\\n\\n    <div class=\"ui sidebar inverted vertical menu\">\\n\\n        <a href=\"/\" class=\"item bigfont\">\\n            Spbeen <i class=\"home icon\"></i>\\n        </a>\\n        <a class=\"item\" href=\"/index\">\\n          <i class=\"book icon\"></i>\\xe6\\x95\\x99\\xe7\\xa8\\x8b\\n        </a>\\n        <a class=\"item\" href=\"/index\">\\n          <i class=\"book icon\"></i>\\xe9\\xa1\\xb9\\xe7\\x9b\\xae\\n        </a>\\n\\n\\n\\n    </div>\\n    \\n\\n        <div class=\"pusher\">\\n            <div class=\"ui grid\">\\n                <div class=\"ui computer only sixteen wide computer column \">\\n                    \\n                    <div class=\"ui inverted teal borderless menu noradius\">\\n                        <div class=\"ui container\">\\n                            <a class=\"header item bigfont\" href=\"/\">\\n                                SpBeen\\n                            </a>\\n\\n                            <div class=\"ui simple dropdown item\" >\\n                                <div class=\"text\">\\xe6\\x95\\x99\\xe7\\xa8\\x8b</div><i class=\"dropdown icon\"></i>\\n                                <div class=\"menu\">\\n                                    <a class=\"item\" href=\"/course/Python3\\xe6\\x95\\x99\\xe7\\xa8\\x8b\">Python3\\xe6\\x95\\x99\\xe7\\xa8\\x8b</a>\\n                                    <a class=\"item\" href=\"/course/xpath\\xe6\\x95\\x99\\xe7\\xa8\\x8b/\" >Xpath\\xe6\\x95\\x99\\xe7\\xa8\\x8b</a>\\n                                    <a class=\"item\" href=\"/course/Linux\\xe5\\xb8\\xb8\\xe7\\x94\\xa8\\xe5\\x91\\xbd\\xe4\\xbb\\xa4/\" >Linux\\xe5\\xb8\\xb8\\xe7\\x94\\xa8\\xe5\\x91\\xbd\\xe4\\xbb\\xa4</a>\\n                                </div>\\n                            </div>\\n\\n\\n                            <div class=\"ui simple dropdown item\" >\\n                                <div class=\"text\">\\xe9\\xa1\\xb9\\xe7\\x9b\\xae</div><i class=\"dropdown icon\"></i>\\n                                <div class=\"menu\">\\n                                    <a class=\"item\" href=\"/item/\\xe5\\x9f\\xba\\xe4\\xba\\x8eFlask\\xe7\\x9a\\x84\\xe5\\xbe\\xae\\xe4\\xbf\\xa1\\xe5\\xa8\\xb1\\xe4\\xb9\\x90\\xe6\\x9c\\xba\\xe5\\x99\\xa8\\xe4\\xba\\xba\">\\xe5\\x9f\\xba\\xe4\\xba\\x8eFlask\\xe7\\x9a\\x84\\xe5\\xbe\\xae\\xe4\\xbf\\xa1\\xe5\\xa8\\xb1\\xe4\\xb9\\x90\\xe6\\x9c\\xba\\xe5\\x99\\xa8\\xe4\\xba\\xba</a>\\n                                    <a class=\"item\" href=\"/item/\\xe5\\x9f\\xba\\xe4\\xba\\x8ePython\\xe7\\x9a\\x84\\xe7\\xbd\\x91\\xe7\\xbb\\x9c\\xe7\\x88\\xac\\xe8\\x99\\xab\">\\xe5\\x9f\\xba\\xe4\\xba\\x8ePython\\xe7\\x9a\\x84\\xe7\\xbd\\x91\\xe7\\xbb\\x9c\\xe7\\x88\\xac\\xe8\\x99\\xab</a>\\n                                    <a class=\"item\" href=\"/item/\\xe5\\x9f\\xba\\xe4\\xba\\x8e Python \\xe7\\x9a\\x84\\xe6\\x96\\x87\\xe4\\xbb\\xb6\\xe5\\xa4\\x87\\xe4\\xbb\\xbd\">\\xe5\\x9f\\xba\\xe4\\xba\\x8e Python \\xe7\\x9a\\x84\\xe6\\x96\\x87\\xe4\\xbb\\xb6\\xe5\\xa4\\x87\\xe4\\xbb\\xbd</a>\\n                                </div>\\n                            </div>\\n\\n\\n                            <div class=\"ui simple dropdown item\" >\\n                                <div class=\"text\">\\xe5\\xb7\\xa5\\xe5\\x85\\xb7</div><i class=\"dropdown icon\"></i>\\n                                <div class=\"menu\">\\n                                    <a class=\"item\" href=\"/tool/request_info/\">IP\\xe8\\xaf\\xb7\\xe6\\xb1\\x82\\xe4\\xbf\\xa1\\xe6\\x81\\xaf\\xe6\\x9f\\xa5\\xe8\\xaf\\xa2</a>\\n                                </div>\\n                            </div>\\n                        </div>\\n                    </div>\\n                    \\n                </div>\\n                <div class=\"ui mobile only tablet only sixteen wide mobile sixteen wide tablet column\">\\n                    <div class=\"ui inverted teal borderless menu noradius mobile-tablet\">\\n                        <a id=\"sidebar\"  class=\"item\"><i class=\"bigger sidebar icon\"></i></a>\\n\\n                        <a href=\"/\" class=\"right item bigfont mobile-tablet-item\">Spbeen</a>\\n\\n                        <!--</div>-->\\n                    </div>\\n                </div>\\n            </div>\\n\\n        <div class=\"ui container\">\\n            <div id=\"bread\" class=\"ui icon message\">\\n\\n                    <i id=\"mapicon\" class=\"location arrow icon\"></i>\\n                    <div class=\"content\">\\n                    <p>\\n                        <div class=\"ui breadcrumb\">\\n\\n\\n                            \\n                                <a class=\"section\" href=\"/\">Spbeen</a>\\n                                <div class=\"divider\"> > </div>\\n                            \\n\\n                        </div>\\n                    </p>\\n                    </div>\\n\\n\\n            </div>\\n        </div>\\n\\n            <div class=\"content\">\\n                \\n<div id=\"content_show\" class=\"ui container\">\\n    <div class=\"ui grid\">\\n        <div class=\"sixteen wide mobile sixteen wide tablet twelve wide computer column\">\\n            <div class=\"ui blue segment\">\\n                <a class=\"ui red ribbon label\">\\xe6\\x95\\x99\\xe7\\xa8\\x8b</a>\\n                <!--<h1 class=\"ui header\">\\xe6\\x95\\x99\\xe7\\xa8\\x8b</h1>-->\\n                \\n                <div class=\"ui vertical segment\">\\n                    <h3 class=\"ui header\">\\n                        <a href=\"/course/Python3\\xe6\\x95\\x99\\xe7\\xa8\\x8b\">Python3\\xe6\\x95\\x99\\xe7\\xa8\\x8b</a>\\n                    </h3>\\n                    <div class=\"ui sub\">\\n                        <span class=\"\"><i class=\"user icon\"></i>\\n                        \\xe5\\xb8\\x83\\xe5\\x95\\xa6\\xe8\\xb1\\x86\\n                        </span>\\n                        <span class=\"\"><i class=\"eye icon\"></i>\\n                            360314\\n                        </span>\\n                    </div>\\n                    <p>\\n                        Python3\\xe6\\x95\\x99\\xe7\\xa8\\x8b\\xef\\xbc\\x8c\\xe4\\xbb\\x8e\\xe9\\x9b\\xb6\\xe5\\xbc\\x80\\xe5\\xa7\\x8b\\xef\\xbc\\x8c\\xe5\\x86\\x99\\xe4\\xb8\\x80\\xe4\\xb8\\xaa\\xe9\\x80\\x9a\\xe4\\xbf\\x97\\xe6\\x98\\x93\\xe6\\x87\\x82\\xe7\\x9a\\x84\\xe6\\x95\\x99\\xe7\\xa8\\x8b\\n                    </p>\\n                </div>\\n                \\n                <div class=\"ui vertical segment\">\\n                    <h3 class=\"ui header\">\\n                        <a href=\"/course/xpath\\xe6\\x95\\x99\\xe7\\xa8\\x8b\">xpath\\xe6\\x95\\x99\\xe7\\xa8\\x8b</a>\\n                    </h3>\\n                    <div class=\"ui sub\">\\n                        <span class=\"\"><i class=\"user icon\"></i>\\n                        \\xe5\\xb8\\x83\\xe5\\x95\\xa6\\xe8\\xb1\\x86\\n                        </span>\\n                        <span class=\"\"><i class=\"eye icon\"></i>\\n                            100917\\n                        </span>\\n                    </div>\\n                    <p>\\n                        xpath\\xe6\\x98\\xaf\\xe4\\xb8\\x80\\xe4\\xb8\\xaa\\xe5\\x88\\x86\\xe6\\x9e\\x90html\\xe7\\x9a\\x84\\xe5\\xbc\\xba\\xe6\\x9c\\x89\\xe5\\x8a\\x9b\\xe5\\xb7\\xa5\\xe5\\x85\\xb7\\xef\\xbc\\x8cPython\\xe7\\x88\\xac\\xe8\\x99\\xab\\xe5\\x8f\\xaf\\xe4\\xbb\\xa5\\xe6\\x96\\xb9\\xe4\\xbe\\xbf\\xe7\\x9a\\x84\\xe4\\xbd\\xbf\\xe7\\x94\\xa8xpath\\xe6\\x9d\\xa5\\xe8\\x8e\\xb7\\xe5\\x8f\\x96\\xe6\\x95\\xb0\\xe6\\x8d\\xae\\xef\\xbc\\x8c\\xe5\\x86\\x99\\xe4\\xb8\\xaa\\xe9\\x92\\x88\\xe5\\xaf\\xb9\\xe7\\x88\\xac\\xe8\\x99\\xab\\xe7\\x9a\\x84xpath\\xe6\\x95\\x99\\xe7\\xa8\\x8b\\n                    </p>\\n                </div>\\n                \\n                <div class=\"ui vertical segment\">\\n                    <h3 class=\"ui header\">\\n                        <a href=\"/course/Linux\\xe5\\xb8\\xb8\\xe7\\x94\\xa8\\xe5\\x91\\xbd\\xe4\\xbb\\xa4\">Linux\\xe5\\xb8\\xb8\\xe7\\x94\\xa8\\xe5\\x91\\xbd\\xe4\\xbb\\xa4</a>\\n                    </h3>\\n                    <div class=\"ui sub\">\\n                        <span class=\"\"><i class=\"user icon\"></i>\\n                        \\xe5\\xb8\\x83\\xe5\\x95\\xa6\\xe8\\xb1\\x86\\n                        </span>\\n                        <span class=\"\"><i class=\"eye icon\"></i>\\n                            23048\\n                        </span>\\n                    </div>\\n                    <p>\\n                        \\xe5\\x85\\xa5\\xe9\\x97\\xa8Linux\\xe5\\xbf\\x85\\xe5\\xa4\\x87\\xe7\\x9a\\x84\\xe5\\xb8\\xb8\\xe7\\x94\\xa8\\xe5\\x91\\xbd\\xe4\\xbb\\xa4\\n                    </p>\\n                </div>\\n                \\n            </div>\\n            <div class=\"ui yellow segment\">\\n                <a class=\"ui red ribbon label\">\\xe9\\xa1\\xb9\\xe7\\x9b\\xae</a>\\n                \\n                <div class=\"ui vertical segment\">\\n                    <h3 class=\"ui header\">\\n                        <a href=\"/item/\\xe5\\x9f\\xba\\xe4\\xba\\x8eFlask\\xe7\\x9a\\x84\\xe5\\xbe\\xae\\xe4\\xbf\\xa1\\xe5\\xa8\\xb1\\xe4\\xb9\\x90\\xe6\\x9c\\xba\\xe5\\x99\\xa8\\xe4\\xba\\xba\">\\xe5\\x9f\\xba\\xe4\\xba\\x8eFlask\\xe7\\x9a\\x84\\xe5\\xbe\\xae\\xe4\\xbf\\xa1\\xe5\\xa8\\xb1\\xe4\\xb9\\x90\\xe6\\x9c\\xba\\xe5\\x99\\xa8\\xe4\\xba\\xba</a>\\n                    </h3>\\n                    <div class=\"ui sub\">\\n                        <span class=\"\"><i class=\"user icon\"></i>\\n                        \\xe5\\xb8\\x83\\xe5\\x95\\xa6\\xe8\\xb1\\x86\\n                        </span>\\n                        <span class=\"\"><i class=\"eye icon\"></i>\\n                            35047\\n                        </span>\\n                    </div>\\n                    <p>\\n                        \\xe6\\x9c\\xac\\xe6\\xac\\xa1\\xe8\\xaf\\xbe\\xe7\\xa8\\x8b\\xe6\\x98\\xaf\\xe5\\x9f\\xba\\xe4\\xba\\x8e Flask Web \\xe6\\xa1\\x86\\xe6\\x9e\\xb6\\xe5\\xbc\\x80\\xe5\\x8f\\x91\\xe7\\x9a\\x84\\xe5\\xa8\\xb1\\xe4\\xb9\\x90\\xe7\\xba\\xa7\\xe5\\x88\\xab\\xe7\\x9a\\x84\\xe5\\xbe\\xae\\xe4\\xbf\\xa1\\xe5\\x85\\xac\\xe4\\xbc\\x97\\xe5\\x8f\\xb7\\xe5\\x90\\x8e\\xe5\\x8f\\xb0\\xef\\xbc\\x8c\\xe5\\xad\\xa6\\xe4\\xb9\\xa0\\xe5\\xb9\\xb6\\xe5\\xae\\x9e\\xe8\\xb7\\xb5 python \\xe7\\xbc\\x96\\xe7\\xa8\\x8b\\xef\\xbc\\x8cFlask Web \\xe5\\xbc\\x80\\xe5\\x8f\\x91\\xe4\\xbb\\xa5\\xe5\\x8f\\x8a\\xe5\\xbe\\xae\\xe4\\xbf\\xa1\\xe5\\x85\\xac\\xe4\\xbc\\x97\\xe5\\xb9\\xb3\\xe5\\x8f\\xb0\\xe5\\xbc\\x80\\xe5\\x8f\\x91\\xe6\\x9c\\xba\\xe5\\x99\\xa8\\xe4\\xba\\xba\\xe7\\x9a\\x84\\xe5\\x9f\\xba\\xe6\\x9c\\xac\\xe6\\xad\\xa5\\xe9\\xaa\\xa4\\xe3\\x80\\x82\\n                    </p>\\n                </div>\\n                \\n                <div class=\"ui vertical segment\">\\n                    <h3 class=\"ui header\">\\n                        <a href=\"/item/\\xe5\\x9f\\xba\\xe4\\xba\\x8ePython\\xe7\\x9a\\x84\\xe7\\xbd\\x91\\xe7\\xbb\\x9c\\xe7\\x88\\xac\\xe8\\x99\\xab\">\\xe5\\x9f\\xba\\xe4\\xba\\x8ePython\\xe7\\x9a\\x84\\xe7\\xbd\\x91\\xe7\\xbb\\x9c\\xe7\\x88\\xac\\xe8\\x99\\xab</a>\\n                    </h3>\\n                    <div class=\"ui sub\">\\n                        <span class=\"\"><i class=\"user icon\"></i>\\n                        \\xe5\\xb8\\x83\\xe5\\x95\\xa6\\xe8\\xb1\\x86\\n                        </span>\\n                        <span class=\"\"><i class=\"eye icon\"></i>\\n                            63979\\n                        </span>\\n                    </div>\\n                    <p>\\n                        \\xe5\\x8d\\x95\\xe7\\xba\\xbf\\xe7\\xa8\\x8bpython\\xe7\\x88\\xac\\xe8\\x99\\xab\\xef\\xbc\\x8c\\xe7\\x88\\xac\\xe6\\xa8\\xa1\\xe7\\x89\\xb9\\xe5\\x9b\\xbe\\xe7\\x89\\x87\\xef\\xbc\\x8c\\xe6\\xa0\\xb9\\xe6\\x8d\\xae\\xe5\\x9b\\xbe\\xe7\\x89\\x87\\xe7\\x9b\\xae\\xe5\\xbd\\x95\\xe5\\x88\\x9b\\xe5\\xbb\\xba\\xe6\\x9c\\xac\\xe5\\x9c\\xb0\\xe6\\x96\\x87\\xe4\\xbb\\xb6\\xe5\\xa4\\xb9\\xe5\\xb9\\xb6\\xe5\\xb0\\x86\\xe5\\x9b\\xbe\\xe5\\x9b\\xbe\\xe7\\x89\\x87\\xe4\\xbf\\x9d\\xe5\\xad\\x98\\xe5\\x88\\xb0\\xe5\\xaf\\xb9\\xe5\\xba\\x94\\xe7\\x9a\\x84\\xe7\\x9b\\xae\\xe5\\xbd\\x95\\xe4\\xb8\\xad\\xe5\\x8e\\xbb\\xe3\\x80\\x82\\n                    </p>\\n                </div>\\n                \\n                <div class=\"ui vertical segment\">\\n                    <h3 class=\"ui header\">\\n                        <a href=\"/item/\\xe5\\x9f\\xba\\xe4\\xba\\x8e Python \\xe7\\x9a\\x84\\xe6\\x96\\x87\\xe4\\xbb\\xb6\\xe5\\xa4\\x87\\xe4\\xbb\\xbd\">\\xe5\\x9f\\xba\\xe4\\xba\\x8e Python \\xe7\\x9a\\x84\\xe6\\x96\\x87\\xe4\\xbb\\xb6\\xe5\\xa4\\x87\\xe4\\xbb\\xbd</a>\\n                    </h3>\\n                    <div class=\"ui sub\">\\n                        <span class=\"\"><i class=\"user icon\"></i>\\n                        \\xe5\\xb8\\x83\\xe5\\x95\\xa6\\xe8\\xb1\\x86\\n                        </span>\\n                        <span class=\"\"><i class=\"eye icon\"></i>\\n                            23721\\n                        </span>\\n                    </div>\\n                    <p>\\n                        \\xe6\\x9c\\xac\\xe8\\xaf\\xbe\\xe7\\xa8\\x8b\\xe5\\xae\\x9e\\xe7\\x8e\\xb0\\xe4\\xba\\x86\\xe4\\xb8\\x80\\xe4\\xb8\\xaa Python \\xe7\\x9a\\x84\\xe6\\x96\\x87\\xe4\\xbb\\xb6\\xe5\\xa4\\x87\\xe4\\xbb\\xbd\\xe8\\x84\\x9a\\xe6\\x9c\\xac\\xef\\xbc\\x8c\\xe9\\x80\\x9a\\xe8\\xbf\\x87\\xe9\\xa1\\xb9\\xe7\\x9b\\xae\\xe7\\x9a\\x84\\xe5\\xae\\x9e\\xe7\\x8e\\xb0\\xef\\xbc\\x8c\\xe5\\xad\\xa6\\xe4\\xb9\\xa0\\xe5\\xb9\\xb6\\xe5\\xae\\x9e\\xe8\\xb7\\xb5 Python \\xe7\\x9a\\x84\\xe5\\x9f\\xba\\xe7\\xa1\\x80\\xe7\\x9f\\xa5\\xe8\\xaf\\x86\\xef\\xbc\\x8cLinux \\xe7\\x9a\\x84\\xe6\\x96\\x87\\xe4\\xbb\\xb6\\xe6\\x93\\x8d\\xe4\\xbd\\x9c\\xe5\\x8f\\x8a\\xe7\\xae\\x80\\xe5\\x8d\\x95\\xe7\\x9a\\x84\\xe7\\x95\\x8c\\xe9\\x9d\\xa2\\xe8\\xae\\xbe\\xe8\\xae\\xa1\\xe3\\x80\\x82\\n                    </p>\\n                </div>\\n                \\n            </div>\\n        </div>\\n\\n        <div class=\"ui computer only four wide computer column right \">\\n            <div class=\"ui red segment\">\\n                <div class=\"ui vertical text menu\">\\n                    <div class=\"active item\"><h4 class=\"ui headers\">\\xe6\\x9c\\x80\\xe8\\xbf\\x91\\xe6\\x9b\\xb4\\xe6\\x96\\xb0</h4></div>\\n                    \\n                    <a class=\"item\" href=\"/p/b76a2e49-63c6-4076-a1c8-a09a653515e5\">\\n                        1. ls\\xe5\\x91\\xbd\\xe4\\xbb\\xa4\\n                    </a>\\n                    \\n                    <a class=\"item\" href=\"/p/52e1d29d-4901-4215-bb86-7276ad076457\">\\n                        2. cd\\xe5\\x91\\xbd\\xe4\\xbb\\xa4\\n                    </a>\\n                    \\n                    <a class=\"item\" href=\"/p/bb16e09d-511f-4728-af49-752ced909ec1\">\\n                        3. \\xe9\\x80\\x90\\xe5\\xb1\\x82\\xe6\\xa3\\x80\\xe7\\xb4\\xa2\\xe5\\x92\\x8c\\xe5\\x85\\xa8\\xe5\\xb1\\x80\\xe6\\xa3\\x80\\xe7\\xb4\\xa2\\n                    </a>\\n                    \\n                    <a class=\"item\" href=\"/p/4fef7500-1f9c-471b-a56e-af741bc16012\">\\n                        4. \\xe9\\x80\\x9a\\xe8\\xbf\\x87ID\\xe5\\x92\\x8cClass\\xe6\\xa3\\x80\\xe7\\xb4\\xa2\\n                    </a>\\n                    \\n                    <a class=\"item\" href=\"/p/e4a032a4-3cf0-467b-9199-098240925504\">\\n                        5. \\xe7\\xae\\x80\\xe5\\x8d\\x95\\xe7\\x9a\\x84\\xe6\\xa0\\x87\\xe7\\xad\\xbe\\xe6\\x90\\x9c\\xe7\\xb4\\xa2\\n                    </a>\\n                    \\n                    <a class=\"item\" href=\"/p/a070c2e5-acf9-49e6-9baf-b5bf6bace059\">\\n                        6. \\xe4\\xbc\\x8a\\xe5\\xa7\\x8b\\n                    </a>\\n                    \\n                    <a class=\"item\" href=\"/p/d91cc59a-93af-491c-b731-115703171a8f\">\\n                        7. \\xe7\\xb1\\xbb\\xe7\\x9a\\x84\\xe7\\xbb\\xa7\\xe6\\x89\\xbf\\xe5\\x92\\x8c\\xe5\\xa4\\x9a\\xe6\\x80\\x81\\n                    </a>\\n                    \\n                    <a class=\"item\" href=\"/p/036d0200-adb3-46ba-814f-8ee4ff18cd5d\">\\n                        8. \\xe7\\xb1\\xbb\\xe7\\x9a\\x84\\xe4\\xb8\\x8d\\xe5\\x90\\x8c\\xe6\\x96\\xb9\\xe6\\xb3\\x95\\xef\\xbc\\x88\\xe6\\xa6\\x82\\xe5\\xbf\\xb5\\xef\\xbc\\x89\\n                    </a>\\n                    \\n                    <a class=\"item\" href=\"/p/c7275ff7-522d-49ae-82d7-469d0eef296f\">\\n                        9. Python\\xe7\\xba\\xbf\\xe7\\xa8\\x8b\\xe4\\xbd\\xbf\\xe7\\x94\\xa8\\xe5\\x92\\x8c\\xe6\\xa6\\x82\\xe5\\xbf\\xb5\\xe7\\x90\\x86\\xe8\\xa7\\xa3\\n                    </a>\\n                    \\n                    <a class=\"item\" href=\"/p/7ecd0743-9e06-43d5-b32d-de0089ab4001\">\\n                        10. yield\\xe5\\x92\\x8c\\xe7\\x94\\x9f\\xe6\\x88\\x90\\xe5\\x99\\xa8\\xe6\\x98\\xaf\\xe4\\xbb\\x80\\xe4\\xb9\\x88\\xef\\xbc\\x9f\\n                    </a>\\n                    \\n                    <a class=\"item\" href=\"/p/8edfee70-da72-484a-836a-ede361de344c\">\\n                        11. \\xe8\\xa3\\x85\\xe9\\xa5\\xb0\\xe5\\x99\\xa8Decorator\\xe4\\xbd\\xbf\\xe7\\x94\\xa8\\n                    </a>\\n                    \\n                    <a class=\"item\" href=\"/p/6232e822-8ddf-4174-ada1-e9ab2f0f9249\">\\n                        12. \\xe5\\xaf\\xb9\\xe8\\xb1\\xa1\\xe7\\x9a\\x84\\xe6\\xa6\\x82\\xe5\\xbf\\xb5\\xe5\\x92\\x8c\\xe4\\xbd\\xbf\\xe7\\x94\\xa8\\xe7\\xa4\\xba\\xe4\\xbe\\x8b\\n                    </a>\\n                    \\n                </div>\\n            </div>\\n\\n            <div class=\"ui violet segment\">\\n                <!--<div class=\"ui header center aligned\">\\xe6\\x89\\xab\\xe7\\xa0\\x81\\xe7\\xa7\\xbb\\xe6\\xad\\xa5\\xe5\\x85\\xb6\\xe4\\xbb\\x96\\xe7\\xb5\\x82\\xe7\\xab\\xaf</div>-->\\n                <div class=\"ui header center aligned\">\\xe6\\x89\\xab\\xe7\\xa0\\x81\\xe5\\x85\\xb3\\xe6\\xb3\\xa8\\xe5\\xbe\\xae\\xe4\\xbf\\xa1\\xe5\\x85\\xac\\xe4\\xbc\\x97\\xe5\\x8f\\xb7</div>\\n                <div class=\"ui image\">\\n                    <!--<img src=\"{-{ qrcode(url) }-}\" alt=\"\">-->\\n                    <img src=\"http://static.spbeen.com/img/wechat_qrcode/qrcode_for_gh_5e6077ecc776_1280.jpg\" alt=\"\">\\n                </div>\\n            </div>\\n\\n        </div>\\n    </div>\\n</div>\\n\\n\\n            </div>\\n\\n            \\n\\n            <div class=\"ui inverted teal segment noradius\">\\n                <div class=\"ui container\">\\n\\n                   Copyright @2016-2017 | \\xe8\\xb5\\xa3ICP\\xe5\\xa4\\x8716003025\\xe5\\x8f\\xb7 <script type=\"text/javascript\">var cnzz_protocol = ((\"https:\" == document.location.protocol) ? \" https://\" : \" http://\");document.write(unescape(\"%3Cspan id=\\'cnzz_stat_icon_1260149661\\'%3E%3C/span%3E%3Cscript src=\\'\" + cnzz_protocol + \"s11.cnzz.com/z_stat.php%3Fid%3D1260149661\\' type=\\'text/javascript\\'%3E%3C/script%3E\"));</script>\\n\\n\\n                </div>\\n            </div>\\n\\n            \\n\\n            \\n            <script>\\n                $(document).ready(function(){\\n                    $(\".content table\").addClass(\"ui celled striped table\");\\n\\n                    $(\"#sidebar\").click(function(){\\n                      $(\\'.ui.sidebar\\').sidebar(\\'toggle\\');\\n                    });\\n\\n                });\\n            </script>\\n            \\n\\n    </div>\\n\\t</body>\\n\\n</html>'"
      ]
     },
     "execution_count": 7,
     "metadata": {},
     "output_type": "execute_result"
    }
   ],
   "source": [
    "response.content # 网页的自己内容 byte"
   ]
  },
  {
   "cell_type": "code",
   "execution_count": 8,
   "metadata": {},
   "outputs": [
    {
     "data": {
      "text/plain": [
       "{'Server': 'nginx/1.14.1', 'Date': 'Thu, 07 May 2020 11:49:03 GMT', 'Content-Type': 'text/html; charset=utf-8', 'Content-Length': '16116', 'Connection': 'keep-alive', 'X-Frame-Options': 'SAMEORIGIN'}"
      ]
     },
     "execution_count": 8,
     "metadata": {},
     "output_type": "execute_result"
    }
   ],
   "source": [
    "response.headers # 响应头"
   ]
  },
  {
   "cell_type": "code",
   "execution_count": 9,
   "metadata": {},
   "outputs": [
    {
     "data": {
      "text/plain": [
       "<PreparedRequest [GET]>"
      ]
     },
     "execution_count": 9,
     "metadata": {},
     "output_type": "execute_result"
    }
   ],
   "source": [
    "response.request # 收到的响应在请求里，请求头字段放入请求返回的响应中"
   ]
  },
  {
   "cell_type": "code",
   "execution_count": 10,
   "metadata": {},
   "outputs": [
    {
     "data": {
      "text/plain": [
       "{'User-Agent': 'python-requests/2.22.0', 'Accept-Encoding': 'gzip, deflate', 'Accept': '*/*', 'Connection': 'keep-alive'}"
      ]
     },
     "execution_count": 10,
     "metadata": {},
     "output_type": "execute_result"
    }
   ],
   "source": [
    "response.request.headers # 请求的请求头"
   ]
  },
  {
   "cell_type": "code",
   "execution_count": 16,
   "metadata": {},
   "outputs": [
    {
     "data": {
      "application/json": {
       "cell": {
        "!": "OSMagics",
        "HTML": "Other",
        "SVG": "Other",
        "bash": "Other",
        "capture": "ExecutionMagics",
        "cmd": "Other",
        "debug": "ExecutionMagics",
        "file": "Other",
        "html": "DisplayMagics",
        "javascript": "DisplayMagics",
        "js": "DisplayMagics",
        "latex": "DisplayMagics",
        "markdown": "DisplayMagics",
        "perl": "Other",
        "prun": "ExecutionMagics",
        "pypy": "Other",
        "python": "Other",
        "python2": "Other",
        "python3": "Other",
        "ruby": "Other",
        "script": "ScriptMagics",
        "sh": "Other",
        "svg": "DisplayMagics",
        "sx": "OSMagics",
        "system": "OSMagics",
        "time": "ExecutionMagics",
        "timeit": "ExecutionMagics",
        "writefile": "OSMagics"
       },
       "line": {
        "alias": "OSMagics",
        "alias_magic": "BasicMagics",
        "autoawait": "AsyncMagics",
        "autocall": "AutoMagics",
        "automagic": "AutoMagics",
        "autosave": "KernelMagics",
        "bookmark": "OSMagics",
        "cd": "OSMagics",
        "clear": "KernelMagics",
        "cls": "KernelMagics",
        "colors": "BasicMagics",
        "conda": "PackagingMagics",
        "config": "ConfigMagics",
        "connect_info": "KernelMagics",
        "copy": "Other",
        "ddir": "Other",
        "debug": "ExecutionMagics",
        "dhist": "OSMagics",
        "dirs": "OSMagics",
        "doctest_mode": "BasicMagics",
        "echo": "Other",
        "ed": "Other",
        "edit": "KernelMagics",
        "env": "OSMagics",
        "gui": "BasicMagics",
        "hist": "Other",
        "history": "HistoryMagics",
        "killbgscripts": "ScriptMagics",
        "ldir": "Other",
        "less": "KernelMagics",
        "load": "CodeMagics",
        "load_ext": "ExtensionMagics",
        "loadpy": "CodeMagics",
        "logoff": "LoggingMagics",
        "logon": "LoggingMagics",
        "logstart": "LoggingMagics",
        "logstate": "LoggingMagics",
        "logstop": "LoggingMagics",
        "ls": "Other",
        "lsmagic": "BasicMagics",
        "macro": "ExecutionMagics",
        "magic": "BasicMagics",
        "matplotlib": "PylabMagics",
        "mkdir": "Other",
        "more": "KernelMagics",
        "notebook": "BasicMagics",
        "page": "BasicMagics",
        "pastebin": "CodeMagics",
        "pdb": "ExecutionMagics",
        "pdef": "NamespaceMagics",
        "pdoc": "NamespaceMagics",
        "pfile": "NamespaceMagics",
        "pinfo": "NamespaceMagics",
        "pinfo2": "NamespaceMagics",
        "pip": "PackagingMagics",
        "popd": "OSMagics",
        "pprint": "BasicMagics",
        "precision": "BasicMagics",
        "prun": "ExecutionMagics",
        "psearch": "NamespaceMagics",
        "psource": "NamespaceMagics",
        "pushd": "OSMagics",
        "pwd": "OSMagics",
        "pycat": "OSMagics",
        "pylab": "PylabMagics",
        "qtconsole": "KernelMagics",
        "quickref": "BasicMagics",
        "recall": "HistoryMagics",
        "rehashx": "OSMagics",
        "reload_ext": "ExtensionMagics",
        "ren": "Other",
        "rep": "Other",
        "rerun": "HistoryMagics",
        "reset": "NamespaceMagics",
        "reset_selective": "NamespaceMagics",
        "rmdir": "Other",
        "run": "ExecutionMagics",
        "save": "CodeMagics",
        "sc": "OSMagics",
        "set_env": "OSMagics",
        "store": "StoreMagics",
        "sx": "OSMagics",
        "system": "OSMagics",
        "tb": "ExecutionMagics",
        "time": "ExecutionMagics",
        "timeit": "ExecutionMagics",
        "unalias": "OSMagics",
        "unload_ext": "ExtensionMagics",
        "who": "NamespaceMagics",
        "who_ls": "NamespaceMagics",
        "whos": "NamespaceMagics",
        "xdel": "NamespaceMagics",
        "xmode": "BasicMagics"
       }
      },
      "text/plain": [
       "Available line magics:\n",
       "%alias  %alias_magic  %autoawait  %autocall  %automagic  %autosave  %bookmark  %cd  %clear  %cls  %colors  %conda  %config  %connect_info  %copy  %ddir  %debug  %dhist  %dirs  %doctest_mode  %echo  %ed  %edit  %env  %gui  %hist  %history  %killbgscripts  %ldir  %less  %load  %load_ext  %loadpy  %logoff  %logon  %logstart  %logstate  %logstop  %ls  %lsmagic  %macro  %magic  %matplotlib  %mkdir  %more  %notebook  %page  %pastebin  %pdb  %pdef  %pdoc  %pfile  %pinfo  %pinfo2  %pip  %popd  %pprint  %precision  %prun  %psearch  %psource  %pushd  %pwd  %pycat  %pylab  %qtconsole  %quickref  %recall  %rehashx  %reload_ext  %ren  %rep  %rerun  %reset  %reset_selective  %rmdir  %run  %save  %sc  %set_env  %store  %sx  %system  %tb  %time  %timeit  %unalias  %unload_ext  %who  %who_ls  %whos  %xdel  %xmode\n",
       "\n",
       "Available cell magics:\n",
       "%%!  %%HTML  %%SVG  %%bash  %%capture  %%cmd  %%debug  %%file  %%html  %%javascript  %%js  %%latex  %%markdown  %%perl  %%prun  %%pypy  %%python  %%python2  %%python3  %%ruby  %%script  %%sh  %%svg  %%sx  %%system  %%time  %%timeit  %%writefile\n",
       "\n",
       "Automagic is ON, % prefix IS NOT needed for line magics."
      ]
     },
     "execution_count": 16,
     "metadata": {},
     "output_type": "execute_result"
    }
   ],
   "source": [
    "%lsmagic"
   ]
  },
  {
   "cell_type": "code",
   "execution_count": 6,
   "metadata": {},
   "outputs": [],
   "source": [
    "def requests_view(response):\n",
    "    import webbrowser                                      # 导入浏览器的控制库\n",
    "    request_url = response.url                             # 将响应的url取出\n",
    "    base_url = '<head><base href=\"%s\">' % (request_url)    # 格式化一个字符串，格式是<head><base href=\"网页源链接\">\n",
    "    base_url = base_url.encode()                           # 将网址编码，原因是这里操作的数据格式是字节。encode默认是utf8\n",
    "    content = response.content.replace(b\"<head>\",base_url) # 操作爬虫的content二进制内容，将<head>替换成<head><base href=\"网页源链接\">\n",
    "                                                           # 将替换后的结果，赋值给content\n",
    "    tem_html = open('tmp.html','wb')                       # 打开或保存本地文件，以二进制写的形式打开\n",
    "    tem_html.write(content)                                # 写入二进制的网页内容\n",
    "    tem_html.close()                                       # 关闭文件\n",
    "    webbrowser.open_new_tab(\"tmp.html\")                    # 使用库调起浏览器并打开刚刚写入的本地文件 tmp.html"
   ]
  },
  {
   "cell_type": "code",
   "execution_count": 7,
   "metadata": {},
   "outputs": [],
   "source": [
    "import requests"
   ]
  },
  {
   "cell_type": "code",
   "execution_count": 8,
   "metadata": {},
   "outputs": [],
   "source": [
    "url = 'http://www.spbeen.com/tool/request_info/'"
   ]
  },
  {
   "cell_type": "code",
   "execution_count": 19,
   "metadata": {},
   "outputs": [],
   "source": [
    "resp = requests.get(js_url)"
   ]
  },
  {
   "cell_type": "code",
   "execution_count": 20,
   "metadata": {},
   "outputs": [
    {
     "data": {
      "text/plain": [
       "<Response [403]>"
      ]
     },
     "execution_count": 20,
     "metadata": {},
     "output_type": "execute_result"
    }
   ],
   "source": [
    "resp"
   ]
  },
  {
   "cell_type": "code",
   "execution_count": 6,
   "metadata": {},
   "outputs": [
    {
     "data": {
      "text/plain": [
       "'<!DOCTYPE html>\\n\\n<html lang=\"en\">\\n\\n\\t<head>\\n\\t\\t<meta charset=\"UTF-8\">\\n\\n\\t\\t<meta name=\"viewport\" content=\"width=device-width, initial-scale=1.0\">\\n\\t\\t<meta name=\"keywords\" content=\"Python, Python资讯, Python基础教程, Python学习笔记, Python电子书, Python视频教程, Python编程练习, Python Django, Python Flask, Python Tutorials, Python Video Tutorials Download\">\\n\\t\\t<meta name=\"description\" content=\"www.spbeen.com是一个关于Python技术栈的教程网站，分教程、项目两类，目前有Python3教程、Xpath教程、基于Python的网络爬虫、基于Python的文件备份、\">\\n\\t\\t<meta name=\"author\" content=\"布啦豆\">\\n\\n\\t\\t<meta name=\"baidu_union_verify\" content=\"d4634268483255495b43735addb956bf\">\\n\\n        <meta property=\"og:type\" content=\"article\">\\n        <meta property=\"og:image\" content=\"http://upload-images.jianshu.io/upload_images/174489-0434c2855ab98c3a.JPG?imageMogr2/auto-orient/strip%7CimageView2/2/w/1240\">\\n        <meta property=\"og:url\" content=\"http://spbeen.com/course/Python3%E6%95%99%E7%A8%8B/\">\\n        <meta property=\"og:title\" content=\"Python3.x教程\">\\n        <meta property=\"og:description\" content=\"小白的Python3快速入门教程\">\\n\\n\\n\\t\\t<link rel=\"shortcut icon\" href=\"http://spbeen.oss-cn-qingdao.aliyuncs.com/static%2Ffavicon.ico\">\\n\\n\\t\\t<title>Python技术栈 | Spbeen</title>\\n        \\n    \\n\\t\\t<link rel=\"stylesheet\" type=\"text/css\" href=\"http://spbeen.oss-cn-qingdao.aliyuncs.com/static%2Fwww%2Fcss%2Ftopbottom.css\" />\\n\\n            <script src=\"https://cdn.bootcss.com/vue/2.1.10/vue.js\"></script>\\n\\n\\t\\t<!--<link rel=\"stylesheet\" href=\"https://cdn.jsdelivr.net/semantic-ui/2.2.4/semantic.min.css\">-->\\n        <!--<script src=\"https://cdn.jsdelivr.net/semantic-ui/2.2.4/semantic.min.js\"></script>-->\\n\\n        <link href=\"https://cdnjs.cloudflare.com/ajax/libs/semantic-ui/2.4.1/semantic.css\" rel=\"stylesheet\">\\n        <link rel=\"stylesheet\" href=\"http://spbeen.oss-cn-qingdao.aliyuncs.com/static%2Fwww%2Fcss%2Fmarkdown-www.css\" />\\n        <style>\\n        #bread{background-color: white;box-shadow:0px 0px 0px white;color:black;}\\n        #bread a{color:black;}\\n        #mapicon{font-size: 2em;  margin-right: 0.3em;}\\n        </style>\\n\\n\\n            <script src=\"https://cdn.bootcss.com/jquery/3.3.1/jquery.min.js\"></script>\\n\\n            <script src=\"https://cdnjs.cloudflare.com/ajax/libs/semantic-ui/2.4.1/semantic.js\"></script>\\n\\n            <script src=\"https://cdn.bootcss.com/reqwest/2.0.5/reqwest.js\"></script>\\n\\n\\n        \\n\\n\\n\\t\\t<!--<script>(function(i,s,o,g,r,a,m){i[\"DaoVoiceObject\"]=r;i[r]=i[r]||function(){(i[r].q=i[r].q||[]).push(arguments)},i[r].l=1*new Date();a=s.createElement(o),m=s.getElementsByTagName(o)[0];a.async=1;a.src=g;a.charset=\"utf-8\";m.parentNode.insertBefore(a,m)})(window,document,\"script\",(\\'https:\\' == document.location.protocol ? \\'https:\\' : \\'http:\\') + \"//widget.daovoice.io/widget/c824b807.js\",\"daovoice\")</script>-->\\n\\t\\t<!--<script>-->\\n\\t\\t<!--daovoice(\\'init\\', {-->\\n\\t\\t  <!--app_id: \"c824b807\"-->\\n\\t\\t<!--});-->\\n\\t\\t<!--daovoice(\\'update\\');-->\\n\\t\\t<!--</script>-->\\n\\t</head>\\n\\n\\t<body>\\n    \\n\\n\\n    <div class=\"ui sidebar inverted vertical menu\">\\n\\n        <a href=\"/\" class=\"item bigfont\">\\n            Spbeen <i class=\"home icon\"></i>\\n        </a>\\n        <a class=\"item\" href=\"/index\">\\n          <i class=\"book icon\"></i>教程\\n        </a>\\n        <a class=\"item\" href=\"/index\">\\n          <i class=\"book icon\"></i>项目\\n        </a>\\n\\n\\n\\n    </div>\\n    \\n\\n        <div class=\"pusher\">\\n            <div class=\"ui grid\">\\n                <div class=\"ui computer only sixteen wide computer column \">\\n                    \\n                    <div class=\"ui inverted teal borderless menu noradius\">\\n                        <div class=\"ui container\">\\n                            <a class=\"header item bigfont\" href=\"/\">\\n                                SpBeen\\n                            </a>\\n\\n                            <div class=\"ui simple dropdown item\" >\\n                                <div class=\"text\">教程</div><i class=\"dropdown icon\"></i>\\n                                <div class=\"menu\">\\n                                    <a class=\"item\" href=\"/course/Python3教程\">Python3教程</a>\\n                                    <a class=\"item\" href=\"/course/xpath教程/\" >Xpath教程</a>\\n                                    <a class=\"item\" href=\"/course/Linux常用命令/\" >Linux常用命令</a>\\n                                </div>\\n                            </div>\\n\\n\\n                            <div class=\"ui simple dropdown item\" >\\n                                <div class=\"text\">项目</div><i class=\"dropdown icon\"></i>\\n                                <div class=\"menu\">\\n                                    <a class=\"item\" href=\"/item/基于Flask的微信娱乐机器人\">基于Flask的微信娱乐机器人</a>\\n                                    <a class=\"item\" href=\"/item/基于Python的网络爬虫\">基于Python的网络爬虫</a>\\n                                    <a class=\"item\" href=\"/item/基于 Python 的文件备份\">基于 Python 的文件备份</a>\\n                                </div>\\n                            </div>\\n\\n\\n                            <div class=\"ui simple dropdown item\" >\\n                                <div class=\"text\">工具</div><i class=\"dropdown icon\"></i>\\n                                <div class=\"menu\">\\n                                    <a class=\"item\" href=\"/tool/request_info/\">IP请求信息查询</a>\\n                                </div>\\n                            </div>\\n                        </div>\\n                    </div>\\n                    \\n                </div>\\n                <div class=\"ui mobile only tablet only sixteen wide mobile sixteen wide tablet column\">\\n                    <div class=\"ui inverted teal borderless menu noradius mobile-tablet\">\\n                        <a id=\"sidebar\"  class=\"item\"><i class=\"bigger sidebar icon\"></i></a>\\n\\n                        <a href=\"/\" class=\"right item bigfont mobile-tablet-item\">Spbeen</a>\\n\\n                        <!--</div>-->\\n                    </div>\\n                </div>\\n            </div>\\n\\n        <div class=\"ui container\">\\n            <div id=\"bread\" class=\"ui icon message\">\\n\\n                    <i id=\"mapicon\" class=\"location arrow icon\"></i>\\n                    <div class=\"content\">\\n                    <p>\\n                        <div class=\"ui breadcrumb\">\\n\\n\\n                            \\n                                <a class=\"section\" href=\"/\">Spbeen</a>\\n                                <div class=\"divider\"> > </div>\\n                            \\n\\n                        </div>\\n                    </p>\\n                    </div>\\n\\n\\n            </div>\\n        </div>\\n\\n            <div class=\"content\">\\n                \\n\\n<div class=\"ui container\">\\n\\n    <div class=\"ui yellow message\">\\n        <ul class=\"ui list\">\\n            <li>User Agent：请求的代理信息</li>\\n            <li>IP：请求的IP地址</li>\\n            <li>Request URL：请求的访问路由</li>\\n            <li>Accept Languages：请求所支持的语言</li>\\n            <li>Accept Encoding：请求所支持的编码格式</li>\\n            <!--<li>Cookies：请求的Cookies</li>-->\\n        </ul>\\n    </div>\\n\\n    <div class=\"ui red segment\">\\n        <div class=\"ui top left attached label\">User-Agent</div>\\n        <div class=\"container\">\\n            python-requests/2.22.0\\n        </div>\\n    </div>\\n    <div class=\"ui blue segment\">\\n        <div class=\"ui top left attached label\">IP Address</div>\\n        <div class=\"container\">\\n            39.190.9.81\\n        </div>\\n    </div>\\n    <div class=\"ui green  segment\">\\n        <div class=\"ui top left attached label\">Request URL</div>\\n        <div class=\"container\">\\n            www.spbeen.com/tool/request_info/\\n        </div>\\n    </div>\\n    <div class=\"ui yellow  segment\">\\n        <div class=\"ui top left attached label\">Accept Languages</div>\\n        <div class=\"container\">\\n            NOT GET\\n        </div>\\n    </div>\\n    <div class=\"ui pink  segment\">\\n        <div class=\"ui top left attached label\">Accept Encoding</div>\\n        <div class=\"container\">\\n            gzip, deflate\\n        </div>\\n    </div>\\n</div>\\n\\n            </div>\\n\\n            \\n            <div class=\"ui inverted teal segment noradius\">\\n                <div class=\"ui container\">\\n\\n                   Copyright @2016-2017 | 赣ICP备16003025号 <script type=\"text/javascript\">var cnzz_protocol = ((\"https:\" == document.location.protocol) ? \" https://\" : \" http://\");document.write(unescape(\"%3Cspan id=\\'cnzz_stat_icon_1260149661\\'%3E%3C/span%3E%3Cscript src=\\'\" + cnzz_protocol + \"s11.cnzz.com/z_stat.php%3Fid%3D1260149661\\' type=\\'text/javascript\\'%3E%3C/script%3E\"));</script>\\n\\n\\n                </div>\\n            </div>\\n\\n            \\n            \\n            <script>\\n                $(document).ready(function(){\\n                    $(\".content table\").addClass(\"ui celled striped table\");\\n\\n                    $(\"#sidebar\").click(function(){\\n                      $(\\'.ui.sidebar\\').sidebar(\\'toggle\\');\\n                    });\\n\\n                });\\n            </script>\\n            \\n\\n    </div>\\n\\t</body>\\n\\n</html>'"
      ]
     },
     "execution_count": 6,
     "metadata": {},
     "output_type": "execute_result"
    }
   ],
   "source": [
    "resp.text"
   ]
  },
  {
   "cell_type": "code",
   "execution_count": 22,
   "metadata": {},
   "outputs": [],
   "source": [
    "requests_view(resp)"
   ]
  },
  {
   "cell_type": "code",
   "execution_count": 17,
   "metadata": {},
   "outputs": [],
   "source": [
    "js_url = 'https://www.jianshu.com/p/f5c5ede490be'"
   ]
  },
  {
   "cell_type": "code",
   "execution_count": 23,
   "metadata": {},
   "outputs": [],
   "source": [
    "headers = {\n",
    "    'User-Agent':'Mozilla/5.0 (Windows NT 6.2; Win64; x64) AppleWebKit/537.36 (KHTML, like Gecko) Chrome/81.0.4044.138 Safari/537.36'\n",
    "}"
   ]
  },
  {
   "cell_type": "code",
   "execution_count": 24,
   "metadata": {},
   "outputs": [],
   "source": [
    "resp = requests.get(js_url,headers=headers)"
   ]
  },
  {
   "cell_type": "code",
   "execution_count": 25,
   "metadata": {},
   "outputs": [
    {
     "data": {
      "text/plain": [
       "<Response [200]>"
      ]
     },
     "execution_count": 25,
     "metadata": {},
     "output_type": "execute_result"
    }
   ],
   "source": [
    "resp"
   ]
  },
  {
   "cell_type": "code",
   "execution_count": 27,
   "metadata": {},
   "outputs": [],
   "source": [
    "requests_view(resp)"
   ]
  },
  {
   "cell_type": "markdown",
   "metadata": {},
   "source": [
    "## 切换User-Agent"
   ]
  },
  {
   "cell_type": "code",
   "execution_count": 9,
   "metadata": {},
   "outputs": [
    {
     "name": "stdout",
     "output_type": "stream",
     "text": [
      "Mozilla/5.0 (iPhone; CPU iPhone OS 12_4 like Mac OS X) AppleWebKit/535.0 (KHTML, like Gecko) CriOS/35.0.804.0 Mobile/47D579 Safari/535.0\n",
      "Mozilla/5.0 (X11; Linux i686; rv:1.9.7.20) Gecko/2016-07-23 16:37:08 Firefox/3.8\n",
      "Mozilla/5.0 (Windows NT 4.0; ik-CA; rv:1.9.1.20) Gecko/2011-11-19 20:26:12 Firefox/7.0\n",
      "Opera/9.65.(Windows 98; Win 9x 4.90; ks-IN) Presto/2.9.166 Version/12.00\n",
      "Mozilla/5.0 (Windows 98) AppleWebKit/535.2 (KHTML, like Gecko) Chrome/35.0.809.0 Safari/535.2\n",
      "Mozilla/5.0 (compatible; MSIE 5.0; Windows 98; Trident/3.0)\n",
      "Mozilla/5.0 (Linux; Android 2.0) AppleWebKit/532.0 (KHTML, like Gecko) Chrome/52.0.807.0 Safari/532.0\n",
      "Mozilla/5.0 (Windows; U; Windows 98) AppleWebKit/532.41.2 (KHTML, like Gecko) Version/4.1 Safari/532.41.2\n",
      "Mozilla/5.0 (Linux; Android 4.4.1) AppleWebKit/535.1 (KHTML, like Gecko) Chrome/27.0.801.0 Safari/535.1\n"
     ]
    }
   ],
   "source": [
    "import faker\n",
    "fake = faker.Faker()\n",
    "for i in range(1,10):\n",
    "    print(fake.user_agent())"
   ]
  },
  {
   "cell_type": "markdown",
   "metadata": {},
   "source": [
    "## 批量请求和提取User-Agent"
   ]
  },
  {
   "cell_type": "code",
   "execution_count": 10,
   "metadata": {},
   "outputs": [
    {
     "name": "stdout",
     "output_type": "stream",
     "text": [
      "['\\n            Mozilla/5.0 (Macintosh; PPC Mac OS X 10_6_9; rv:1.9.4.20) Gecko/2011-12-31 21:32:15 Firefox/3.6.7\\n        ']\n",
      "['\\n            Mozilla/5.0 (iPod; U; CPU iPhone OS 4_2 like Mac OS X; gd-GB) AppleWebKit/533.45.6 (KHTML, like Gecko) Version/3.0.5 Mobile/8B112 Safari/6533.45.6\\n        ']\n",
      "['\\n            Mozilla/5.0 (compatible; MSIE 9.0; Windows CE; Trident/4.0)\\n        ']\n",
      "['\\n            Mozilla/5.0 (Windows CE; ko-KR; rv:1.9.1.20) Gecko/2011-05-05 18:18:52 Firefox/3.6.1\\n        ']\n",
      "['\\n            Mozilla/5.0 (X11; Linux x86_64; rv:1.9.5.20) Gecko/2019-08-26 11:52:30 Firefox/3.8\\n        ']\n",
      "['\\n            Mozilla/5.0 (Linux; Android 1.0) AppleWebKit/535.0 (KHTML, like Gecko) Chrome/19.0.813.0 Safari/535.0\\n        ']\n",
      "['\\n            Mozilla/5.0 (iPod; U; CPU iPhone OS 4_2 like Mac OS X; bho-IN) AppleWebKit/532.36.2 (KHTML, like Gecko) Version/3.0.5 Mobile/8B111 Safari/6532.36.2\\n        ']\n",
      "['\\n            Opera/8.71.(X11; Linux i686; te-IN) Presto/2.9.170 Version/10.00\\n        ']\n",
      "['\\n            Mozilla/5.0 (Linux; Android 4.1) AppleWebKit/536.0 (KHTML, like Gecko) Chrome/55.0.862.0 Safari/536.0\\n        ']\n"
     ]
    }
   ],
   "source": [
    "from lxml import etree\n",
    "for i in range(1,10):\n",
    "    response = requests.get(url,headers={'User-Agent':fake.user_agent()})\n",
    "    requests_view(response)\n",
    "    html = etree.HTML(response.text)\n",
    "    print(html.xpath('.//div[contains(text(),\"User-Agent\")]/../div[2]/text()'))"
   ]
  },
  {
   "cell_type": "markdown",
   "metadata": {},
   "source": [
    "## 从网页中提取需要的数据\n",
    "## 从网页中提取出需要抓取的更多链接"
   ]
  },
  {
   "cell_type": "code",
   "execution_count": 10,
   "metadata": {},
   "outputs": [],
   "source": [
    "import requests\n",
    "url = 'http://angelimg.spbeen.com/ang/10189'"
   ]
  },
  {
   "cell_type": "code",
   "execution_count": 2,
   "metadata": {},
   "outputs": [],
   "source": [
    "headers = {\n",
    "    'User-Agent':'Mozilla/5.0 (Windows NT 6.2; Win64; x64) AppleWebKit/537.36 (KHTML, like Gecko) Chrome/81.0.4044.138 Safari/537.36'\n",
    "}"
   ]
  },
  {
   "cell_type": "code",
   "execution_count": 3,
   "metadata": {},
   "outputs": [],
   "source": [
    "response = requests.get(url,headers) #可能错误，应该是headers=headers"
   ]
  },
  {
   "cell_type": "code",
   "execution_count": 4,
   "metadata": {
    "collapsed": true
   },
   "outputs": [
    {
     "data": {
      "text/plain": [
       "'<!DOCTYPE html PUBLIC \"-//W3C//DTD XHTML 1.0 Transitional//EN\" \"http://www.w3.org/TR/xhtml1/DTD/xhtml1-transitional.dtd\">\\n\\n<html xmlns=\"http://www.w3.org/1999/xhtml\">\\n\\n<head>\\n    <meta http-equiv=\"Content-Type\" content=\"text/html; charset=UTF-8\">\\n\\n    <title>闫妮风情写真 散发熟女风味</title>\\n    <meta name=\"keywords\" content=\"活动现场 娱乐 定妆照 \">\\n    <meta name=\"description\" content=\"闫妮风情写真 散发熟女风味。http://angelimg.spbeen.com\">\\n    \\n<meta name=\\'baidu_union_verify\\' content=\\'f56b6e530bdc22de55f578c1a0ef07ea\\'>\\n\\n    <link rel=\"alternate\" media=\"only screen and(max-width: 640px)\" href=\"http://m.angelimg.com/mm/1393/7\">\\n    <link href=\"http://angelimg.spbeen.com/static/css/angelimg.css\" rel=\"stylesheet\" type=\"text/css\">\\n\\n</head>\\n\\n<body>\\n    <div class=\"topbar\" style=\"z-index:100;\">\\n        <div class=\"subnav\">\\n            <a href=\"http://angelimg.spbeen.com/\" style=\"margin-right: 30px;\"><h2 style=\"color:#f28bb9;\">斯图</h2></a>\\n              <a href=\"http://angelimg.spbeen.com/\">所有</a>\\n            \\n              <a href=\"http://angelimg.spbeen.com/tag/1\">写真</a>\\n            \\n              <a href=\"http://angelimg.spbeen.com/tag/2\">生活</a>\\n            \\n              <a href=\"http://angelimg.spbeen.com/tag/3\">影视剧照</a>\\n            \\n              <a href=\"http://angelimg.spbeen.com/tag/4\">活动现场</a>\\n            \\n              <a href=\"http://angelimg.spbeen.com/tag/5\">广告</a>\\n            \\n              <a href=\"http://angelimg.spbeen.com/tag/6\">娱乐</a>\\n            \\n              <a href=\"http://angelimg.spbeen.com/tag/7\">古装</a>\\n            \\n              <a href=\"http://angelimg.spbeen.com/tag/8\">定妆照</a>\\n            \\n        </div>\\n  </div>\\n    <div class=\"main\">\\n        <div class=\"article\">\\n            <h2>闫妮风情写真 散发熟女风味【1】</h2>\\n            <div class=\"info\">\\n                <i>发表于: 2020-05-12</i>\\n                <i>图片来源网络，如若侵权请联系删除</i>\\n            </div>\\n            <div class=\"content\" id=\"content\">\\n                <a href=\"/ang/10189/2\">\\n                    <img class=\"blur\" src=\"http://image.angelimg.spbeen.com/00000mx00000/f9LszBxGVawAnyXBpp5Y279627/ubp4Nn74qFFttVJBkiYO279627-lnB0HM.jpg\" alt=\"闫妮风情写真 散发熟女风味 第1张\">\\n                </a>\\n            </div>\\n            <div class=\"page\" id=\"page\">\\n            \\n\\n                \\n\\n                \\n\\n                    \\n                        <em>1</em>\\n                    \\n                \\n\\n                    \\n                        <a href=\"/ang/10189/2\">2</a>\\n                    \\n                \\n\\n                    \\n                        <a href=\"/ang/10189/3\">3</a>\\n                    \\n                \\n\\n                    \\n                        <a href=\"/ang/10189/4\">4</a>\\n                    \\n                \\n\\n                    \\n                        <a href=\"/ang/10189/5\">5</a>\\n                    \\n                \\n\\n                    \\n                        <a href=\"/ang/10189/6\">6</a>\\n                    \\n                \\n\\n                    \\n                        <a href=\"/ang/10189/7\">7</a>\\n                    \\n                \\n\\n                \\n                <a href=\"/ang/10189/2\" class=\"ch next\">下一张</a>\\n                    \\n            <a  class=\"total num\">共10页</a>\\n\\n            </div>\\n            <div class=\"other\">\\n                <div class=\"tags\">\\n                    \\n                    <a href=\"http://angelimg.spbeen.com/tag/4\">活动现场</a>\\n                    \\n                    <a href=\"http://angelimg.spbeen.com/tag/6\">娱乐</a>\\n                    \\n                    <a href=\"http://angelimg.spbeen.com/tag/8\">定妆照</a>\\n                    \\n                </div>\\n\\n\\n\\n\\n\\n            </div>\\n            <div class=\"hot\">\\n                <dl id=\"hot\">\\n                    <dt>美图推荐</dt>\\n                    \\n                    <dd>\\n                        <a href=\"http://angelimg.spbeen.com/ang/7476\" target=\"_blank\">\\n                            <img class=\"blur\" src=\"http://image.angelimg.spbeen.com/00000mx00000/QvMHo6jJFXZBCGkeoWuU286598/WiolGJP4iZ6OkR4Svepi21-286598-n6rgmU.jpg\" style=\"width: 100%;height: 87%;object-fit: cover;\"  alt=\"韩国女团f(x)成员Krystal日前为杂志《VOGUE girl》5月号拍摄了一组春季时尚写真，散发少女婀娜魅力，展现多重魅力。\">韩国女团f(x)成员Krystal...</a>\\n                    </dd>\\n                    \\n                    <dd>\\n                        <a href=\"http://angelimg.spbeen.com/ang/9828\" target=\"_blank\">\\n                            <img class=\"blur\" src=\"http://image.angelimg.spbeen.com/00000mx00000/FNxjIBtrVnY6rKXMYT2F277783/0gX7hbD6ywAXcATBsre4277783-4bgDYB.jpg\" style=\"width: 100%;height: 87%;object-fit: cover;\"  alt=\"徐璐休闲街拍 干练穿搭显优雅\">徐璐休闲街拍 干练穿搭显优雅</a>\\n                    </dd>\\n                    \\n                    <dd>\\n                        <a href=\"http://angelimg.spbeen.com/ang/7337\" target=\"_blank\">\\n                            <img class=\"blur\" src=\"http://image.angelimg.spbeen.com/00000mx00000/5D8MNodTxWYwdto4U035287206/R2LC3NKMMK8zU5kZiFYO287206-3pz3nK.jpg\" style=\"width: 100%;height: 87%;object-fit: cover;\"  alt=\" 浙江卫视《爸爸回来了2》5月9日回归，一组全新的超能英雄主题海报曝光，爸爸酷帅萌娃可爱有型。\"> 浙江卫视《爸爸回来了2》5月9日...</a>\\n                    </dd>\\n                    \\n                    <dd>\\n                        <a href=\"http://angelimg.spbeen.com/ang/7549\" target=\"_blank\">\\n                            <img class=\"blur\" src=\"http://image.angelimg.spbeen.com/00000mx00000/8FCNgiWMuQYXmys7Eg1o286357/TLshlO44kF39REVmfDUZ16-286357-SGRBTx.jpg\" style=\"width: 100%;height: 87%;object-fit: cover;\"  alt=\"韩国女团f(x)成员Krystal郑秀晶出演过多部电视剧风靡亚洲,她也随着电视剧《继承者们》《对我而言可爱的她》而人气大增，近日，不仅唱歌，演戏，代言广告的她，拍摄了一组时尚写真，在盛开的樱花树下展现清新甜美面貌，精致的外貌青春动人，宛如唤醒万物的春姑娘。\">韩国女团f(x)成员Krystal...</a>\\n                    </dd>\\n                    \\n                    <dd>\\n                        <a href=\"http://angelimg.spbeen.com/ang/7562\" target=\"_blank\">\\n                            <img class=\"blur\" src=\"http://image.angelimg.spbeen.com/00000mx00000/WkeXAVYlm3o28rpjovLS286023/UWSNcAweUmQN8CC4FvUe08-286023-IOolhS.jpg\" style=\"width: 100%;height: 87%;object-fit: cover;\"  alt=\"在银幕上她是性感的玉墨,在生活中她是清纯的学生,拥有“谋女郎”光环的倪妮因出演《金陵十三钗》被寄予勇夺奥斯卡“小金人”的厚望。\">在银幕上她是性感的玉墨,在生活中她...</a>\\n                    </dd>\\n                    \\n                    <dd>\\n                        <a href=\"http://angelimg.spbeen.com/ang/4937\" target=\"_blank\">\\n                            <img class=\"blur\" src=\"http://image.angelimg.spbeen.com/00000mx00000/3IdZRyzLvRyhULLVBtfQ296448/4HZW2jfcrJilFP7yqddD296448-qjDfab.jpg\" style=\"width: 100%;height: 87%;object-fit: cover;\"  alt=\"一念天堂沈默剧照\">一念天堂沈默剧照</a>\\n                    </dd>\\n                    \\n                    <dd>\\n                        <a href=\"http://angelimg.spbeen.com/ang/2239\" target=\"_blank\">\\n                            <img class=\"blur\" src=\"http://image.angelimg.spbeen.com/00000mx00000/wv28ySw6hU6bYmxuewwz279222/mB1weqhRKlXpwhtknSrM279222-RhU5Aq.jpg\" style=\"width: 100%;height: 87%;object-fit: cover;\"  alt=\"威尼斯，当地时间9月4日，《黄金时代》剧组抵达威尼斯。汤唯、冯绍峰等主演现身。\">威尼斯，当地时间9月4日，《黄金时...</a>\\n                    </dd>\\n                    \\n                    <dd>\\n                        <a href=\"http://angelimg.spbeen.com/ang/5947\" target=\"_blank\">\\n                            <img class=\"blur\" src=\"http://image.angelimg.spbeen.com/00000mx00000/jxWEaDSfcJoCruF9s5g3292645/6VyQ3y8cr0ujJnV8SZRM292645-ReH4G0.jpg\" style=\"width: 100%;height: 87%;object-fit: cover;\"  alt=\"近日，辣妈李小璐登上某杂志特辑封面，置身浪漫世界展优雅女人味，美颜无敌身姿曼妙。\">近日，辣妈李小璐登上某杂志特辑封面...</a>\\n                    </dd>\\n                    \\n\\n                </dl>\\n            </div>\\n\\n\\n\\n        </div>\\n        <div class=\"sidebar\">\\n\\n\\n\\n\\n\\n\\n\\n            <div class=\"baidu250\" id=\"baidu250\"></div>\\n            <dl class=\"hot\">\\n                <dt>\\n                    <h3>热门美图</h3>\\n                </dt>\\n                \\n                <dd>\\n                    <a href=\"http://angelimg.spbeen.com/ang/2286\" target=\"_blank\">上海车展嫩模真空出镜 疑似走光图曝光</a>\\n                </dd>\\n                \\n                <dd>\\n                    <a href=\"http://angelimg.spbeen.com/ang/4789\" target=\"_blank\">星空小美的妈妈剧照</a>\\n                </dd>\\n                \\n                <dd>\\n                    <a href=\"http://angelimg.spbeen.com/ang/8779\" target=\"_blank\">侠盗联盟查理·罗剧照</a>\\n                </dd>\\n                \\n                <dd>\\n                    <a href=\"http://angelimg.spbeen.com/ang/3674\" target=\"_blank\">时间都去哪了姚远剧照</a>\\n                </dd>\\n                \\n                <dd>\\n                    <a href=\"http://angelimg.spbeen.com/ang/10425\" target=\"_blank\"> 好莱坞女星安妮·海瑟薇以性感造型...</a>\\n                </dd>\\n                \\n                <dd>\\n                    <a href=\"http://angelimg.spbeen.com/ang/9746\" target=\"_blank\">章子怡一秒变表情女王 挤眉弄眼调戏好友</a>\\n                </dd>\\n                \\n                <dd>\\n                    <a href=\"http://angelimg.spbeen.com/ang/497\" target=\"_blank\">高圆圆与赵又廷将于28日在台北举行...</a>\\n                </dd>\\n                \\n                <dd>\\n                    <a href=\"http://angelimg.spbeen.com/ang/8743\" target=\"_blank\">杨幂产后首曝光 身材消瘦恢复神速</a>\\n                </dd>\\n                \\n                <dd>\\n                    <a href=\"http://angelimg.spbeen.com/ang/698\" target=\"_blank\">有微博名为“Bicottionia...</a>\\n                </dd>\\n                \\n                <dd>\\n                    <a href=\"http://angelimg.spbeen.com/ang/6913\" target=\"_blank\">七夕专属爱情喜剧大片《HOLD住爱...</a>\\n                </dd>\\n                \\n\\n            </dl>\\n            <dl class=\"like\">\\n                <dt>\\n                    <h3>网友最爱</h3>\\n                </dt>\\n                \\n                <dd>\\n                    <a href=\"http://angelimg.spbeen.com/ang/9295\" target=\"_blank\">\\n                        <img class=\"blur\" src=\"http://image.angelimg.spbeen.com/00000mx00000/kcqzH6t2hNX8k9e2MrVD274802/DGfwbxRZr2X1RPIdeLY1274802-QTlYnh.jpg\" alt=\"近日，韩星张根硕新歌《Take Me》英文版MV曝光，MV中张根硕一改以往冷酷、神秘、妆感重的风格，回归阳光美少男。\" style=\"height: 90%;width: 30%;object-fit: cover;\">\\n                    </a>\\n                    <span>\\n                        <a href=\"http://angelimg.spbeen.com/ang/9295\" target=\"_blank\">近日，韩星张根硕新歌《Take M...</a>\\n                    </span>\\n                </dd>\\n                \\n                <dd>\\n                    <a href=\"http://angelimg.spbeen.com/ang/6943\" target=\"_blank\">\\n                        <img class=\"blur\" src=\"http://image.angelimg.spbeen.com/00000mx00000/hDOi26Mo5F2JZKKqUZD2288835/R32RpaspA9mBxHEQMAbN288835-zhFK6s.jpg\" alt=\"TFBOYS参加演出活动现场合辑\" style=\"height: 90%;width: 30%;object-fit: cover;\">\\n                    </a>\\n                    <span>\\n                        <a href=\"http://angelimg.spbeen.com/ang/6943\" target=\"_blank\">TFBOYS参加演出活动现场合辑</a>\\n                    </span>\\n                </dd>\\n                \\n                <dd>\\n                    <a href=\"http://angelimg.spbeen.com/ang/1656\" target=\"_blank\">\\n                        <img class=\"blur\" src=\"http://image.angelimg.spbeen.com/00000mx00000/v0jAJf2W89vw9CRqmbN1305444/Ggmxxf0VB68eH0RbKKEo305444-SgqfwS.jpg\" alt=\"近日，人气女星徐冬冬的一组旧照曝光，当时作为“足球宝贝”的徐冬冬有着小麦色的皮肤以及健康活力的微笑，性感又不失青春。\" style=\"height: 90%;width: 30%;object-fit: cover;\">\\n                    </a>\\n                    <span>\\n                        <a href=\"http://angelimg.spbeen.com/ang/1656\" target=\"_blank\">近日，人气女星徐冬冬的一组旧照曝光...</a>\\n                    </span>\\n                </dd>\\n                \\n                <dd>\\n                    <a href=\"http://angelimg.spbeen.com/ang/5627\" target=\"_blank\">\\n                        <img class=\"blur\" src=\"http://image.angelimg.spbeen.com/00000mx00000/PNc6CXtWyHTqChwWEkrm294832/h0ehT7DmdHHsaAk2ca6H294832-ifFx1o.jpg\" alt=\"来自星星的你刘世美剧照\" style=\"height: 90%;width: 30%;object-fit: cover;\">\\n                    </a>\\n                    <span>\\n                        <a href=\"http://angelimg.spbeen.com/ang/5627\" target=\"_blank\">来自星星的你刘世美剧照</a>\\n                    </span>\\n                </dd>\\n                \\n                <dd>\\n                    <a href=\"http://angelimg.spbeen.com/ang/2329\" target=\"_blank\">\\n                        <img class=\"blur\" src=\"http://image.angelimg.spbeen.com/00000mx00000/ZmDJH4w4LIcDxnLL5RQq306265/eJe2EjMmILhwJr5jbpy1306265-8HQsfn.jpg\" alt=\"近日，周雨彤为杂志拍摄了一组时尚大片。时而身着白色西服套装，霸气御姐范儿十足，时而身着一袭长裙妩媚动人。鬼马活泼、温柔恬静，率性洒脱，周雨彤在写真中将多种截然不同的风格驾驭自如。\" style=\"height: 90%;width: 30%;object-fit: cover;\">\\n                    </a>\\n                    <span>\\n                        <a href=\"http://angelimg.spbeen.com/ang/2329\" target=\"_blank\">近日，周雨彤为杂志拍摄了一组时尚大...</a>\\n                    </span>\\n                </dd>\\n                \\n                <dd>\\n                    <a href=\"http://angelimg.spbeen.com/ang/9901\" target=\"_blank\">\\n                        <img class=\"blur\" src=\"http://image.angelimg.spbeen.com/00000mx00000/TMxADOGWQ1iLEFV2AFEN278029/NCF0wkt1csEBOaQmhpEG278029-m3fh7F.jpg\" alt=\"曹格一家喂食松鼠 网友直呼好有爱\" style=\"height: 90%;width: 30%;object-fit: cover;\">\\n                    </a>\\n                    <span>\\n                        <a href=\"http://angelimg.spbeen.com/ang/9901\" target=\"_blank\">曹格一家喂食松鼠 网友直呼好有爱</a>\\n                    </span>\\n                </dd>\\n                \\n                <dd>\\n                    <a href=\"http://angelimg.spbeen.com/ang/3300\" target=\"_blank\">\\n                        <img class=\"blur\" src=\"http://image.angelimg.spbeen.com/00000mx00000/kJkqngfnEAObjMkfavGP302414/tj4UtSuaMibVztkU33dRQ2D7EE.jpg\" alt=\"理发师陶德安东尼·霍普剧照\" style=\"height: 90%;width: 30%;object-fit: cover;\">\\n                    </a>\\n                    <span>\\n                        <a href=\"http://angelimg.spbeen.com/ang/3300\" target=\"_blank\">理发师陶德安东尼·霍普剧照</a>\\n                    </span>\\n                </dd>\\n                \\n                <dd>\\n                    <a href=\"http://angelimg.spbeen.com/ang/5156\" target=\"_blank\">\\n                        <img class=\"blur\" src=\"http://image.angelimg.spbeen.com/00000mx00000/IL0oAtmYl1FrNPPAhikb295803/WfT3LzF1aYbowhOWM0xz295803-a8Bprv.jpg\" alt=\"笑傲江湖2012版岳灵珊剧照\" style=\"height: 90%;width: 30%;object-fit: cover;\">\\n                    </a>\\n                    <span>\\n                        <a href=\"http://angelimg.spbeen.com/ang/5156\" target=\"_blank\">笑傲江湖2012版岳灵珊剧照</a>\\n                    </span>\\n                </dd>\\n                \\n                <dd>\\n                    <a href=\"http://angelimg.spbeen.com/ang/1071\" target=\"_blank\">\\n                        <img class=\"blur\" src=\"http://image.angelimg.spbeen.com/00000mx00000/ufoOw8MM67svJ5RvKi2q288115/xifA6Bw2z6dzUGMW85yA288115-u07MqI.jpg\" alt=\" 2015年5月26日，第51届韩国百想艺术大赏颁奖典礼于在首尔庆熙大学和平殿堂举行。图为全智贤为电视部门大赏颁奖。\" style=\"height: 90%;width: 30%;object-fit: cover;\">\\n                    </a>\\n                    <span>\\n                        <a href=\"http://angelimg.spbeen.com/ang/1071\" target=\"_blank\"> 2015年5月26日，第51届韩...</a>\\n                    </span>\\n                </dd>\\n                \\n                <dd>\\n                    <a href=\"http://angelimg.spbeen.com/ang/9726\" target=\"_blank\">\\n                        <img class=\"blur\" src=\"http://image.angelimg.spbeen.com/00000mx00000/Lt3EMItsumGa0wkncjVA277085/T5t7v4jTn1dNK0PRD6Oy277085-cXedCz.jpg\" alt=\"吴晓敏复古婚纱写真 大秀迷人香肩锁骨\" style=\"height: 90%;width: 30%;object-fit: cover;\">\\n                    </a>\\n                    <span>\\n                        <a href=\"http://angelimg.spbeen.com/ang/9726\" target=\"_blank\">吴晓敏复古婚纱写真 大秀迷人香肩锁骨</a>\\n                    </span>\\n                </dd>\\n                \\n            </dl>\\n\\n\\n        </div>\\n    <div style=\"clear: both;\"></div>\\n    </div>\\n\\n\\n    \\n\\n    <div class=\"mm\">\\n  <span><h3>友情链接:</h3></span>\\n    \\n    <span>\\n          <a href=\"http://angelimg.spbeen.com\" target=\"_blank\"><h3>斯图</h3></a>\\n    </span>\\n    \\n\\n</div>\\n\\n    <div class=\"footer\">\\n    <p>\\n        <span>@2017 斯图 WebSite | <script src=\"https://s19.cnzz.com/z_stat.php?id=1274169188&web_id=1274169188\" language=\"JavaScript\"></script></span>\\n        <span>Link Email:suanmin1997519@163.com</span>\\n    </p>\\n</div>\\n\\n</body>\\n\\n</html>'"
      ]
     },
     "execution_count": 4,
     "metadata": {},
     "output_type": "execute_result"
    }
   ],
   "source": [
    "response.text"
   ]
  },
  {
   "cell_type": "code",
   "execution_count": 5,
   "metadata": {},
   "outputs": [],
   "source": [
    "from lxml import etree"
   ]
  },
  {
   "cell_type": "code",
   "execution_count": 6,
   "metadata": {},
   "outputs": [],
   "source": [
    "html = etree.HTML(response.text)"
   ]
  },
  {
   "cell_type": "code",
   "execution_count": 8,
   "metadata": {},
   "outputs": [
    {
     "data": {
      "text/plain": [
       "['/ang/10189/2',\n",
       " '/ang/10189/3',\n",
       " '/ang/10189/4',\n",
       " '/ang/10189/5',\n",
       " '/ang/10189/6',\n",
       " '/ang/10189/7',\n",
       " '/ang/10189/2']"
      ]
     },
     "execution_count": 8,
     "metadata": {},
     "output_type": "execute_result"
    }
   ],
   "source": [
    "html.xpath('.//div[@id=\"page\"]/a/@href')"
   ]
  },
  {
   "cell_type": "code",
   "execution_count": 10,
   "metadata": {},
   "outputs": [],
   "source": [
    "base_url = 'http://angelimg.spbeen.com'"
   ]
  },
  {
   "cell_type": "code",
   "execution_count": 11,
   "metadata": {},
   "outputs": [],
   "source": [
    "next_links = html.xpath('.//div[@id=\"page\"]/a/@href')"
   ]
  },
  {
   "cell_type": "code",
   "execution_count": 12,
   "metadata": {},
   "outputs": [
    {
     "name": "stdout",
     "output_type": "stream",
     "text": [
      "http://angelimg.spbeen.com/ang/10189/2\n",
      "http://angelimg.spbeen.com/ang/10189/3\n",
      "http://angelimg.spbeen.com/ang/10189/4\n",
      "http://angelimg.spbeen.com/ang/10189/5\n",
      "http://angelimg.spbeen.com/ang/10189/6\n",
      "http://angelimg.spbeen.com/ang/10189/7\n",
      "http://angelimg.spbeen.com/ang/10189/2\n"
     ]
    }
   ],
   "source": [
    "for link in next_links:\n",
    "    print(base_url + link)"
   ]
  },
  {
   "cell_type": "code",
   "execution_count": 13,
   "metadata": {},
   "outputs": [],
   "source": [
    "next_link = html.xpath('.//div[@id=\"page\"]/a[contains(@class,\"next\")]/@href')"
   ]
  },
  {
   "cell_type": "code",
   "execution_count": 1,
   "metadata": {},
   "outputs": [
    {
     "ename": "NameError",
     "evalue": "name 'next_link' is not defined",
     "output_type": "error",
     "traceback": [
      "\u001b[1;31m---------------------------------------------------------------------------\u001b[0m",
      "\u001b[1;31mNameError\u001b[0m                                 Traceback (most recent call last)",
      "\u001b[1;32m<ipython-input-1-65392ebf112c>\u001b[0m in \u001b[0;36m<module>\u001b[1;34m\u001b[0m\n\u001b[1;32m----> 1\u001b[1;33m \u001b[0mnext_link\u001b[0m\u001b[1;33m\u001b[0m\u001b[1;33m\u001b[0m\u001b[0m\n\u001b[0m",
      "\u001b[1;31mNameError\u001b[0m: name 'next_link' is not defined"
     ]
    }
   ],
   "source": [
    "next_link"
   ]
  },
  {
   "cell_type": "code",
   "execution_count": 1,
   "metadata": {},
   "outputs": [],
   "source": [
    "def get_next_link(url):\n",
    "    # 给定一个链接，返回下一页的链接\n",
    "    import requests\n",
    "    headers = {\n",
    "    'User-Agent':'Mozilla/5.0 (Windows NT 6.2; Win64; x64) AppleWebKit/537.36 (KHTML, like Gecko) Chrome/81.0.4044.138 Safari/537.36'\n",
    "}\n",
    "    from lxml import etree\n",
    "    resp = requests.get(url,headers=headers)\n",
    "    html = etree.HTML(resp.text)\n",
    "    next_link = html.xpath('.//div[@id=\"page\"]/a[contains(@class,\"next\")]/@href')\n",
    "    if next_link:\n",
    "        base_url = 'http://angelimg.spbeen.com'\n",
    "        next_url = base_url + next_link[0]\n",
    "        return next_url\n",
    "    else:\n",
    "        return False"
   ]
  },
  {
   "cell_type": "code",
   "execution_count": 15,
   "metadata": {},
   "outputs": [
    {
     "data": {
      "text/plain": [
       "'http://angelimg.spbeen.com/ang/10189/4'"
      ]
     },
     "execution_count": 15,
     "metadata": {},
     "output_type": "execute_result"
    }
   ],
   "source": [
    "url = 'http://angelimg.spbeen.com/ang/10189/3'\n",
    "get_next_link(url)"
   ]
  },
  {
   "cell_type": "markdown",
   "metadata": {},
   "source": [
    "# 循环翻页"
   ]
  },
  {
   "cell_type": "code",
   "execution_count": 25,
   "metadata": {},
   "outputs": [
    {
     "name": "stdout",
     "output_type": "stream",
     "text": [
      "http://angelimg.spbeen.com/ang/10189/2\n",
      "http://angelimg.spbeen.com/ang/10189/3\n",
      "http://angelimg.spbeen.com/ang/10189/4\n",
      "http://angelimg.spbeen.com/ang/10189/5\n",
      "http://angelimg.spbeen.com/ang/10189/6\n",
      "http://angelimg.spbeen.com/ang/10189/7\n",
      "http://angelimg.spbeen.com/ang/10189/8\n",
      "http://angelimg.spbeen.com/ang/10189/9\n",
      "http://angelimg.spbeen.com/ang/10189/10\n",
      "False\n"
     ]
    }
   ],
   "source": [
    "import time\n",
    "url = 'http://angelimg.spbeen.com/ang/10189'\n",
    "while url:\n",
    "    url = get_next_link(url)\n",
    "    print(url)\n",
    "    time.sleep(2)"
   ]
  },
  {
   "cell_type": "markdown",
   "metadata": {},
   "source": [
    "## 去重的逻辑代码演示"
   ]
  },
  {
   "cell_type": "code",
   "execution_count": 3,
   "metadata": {
    "scrolled": true
   },
   "outputs": [
    {
     "name": "stdout",
     "output_type": "stream",
     "text": [
      "[1, 2, 3, 4, 5, 6, 7, 3, 4, 5, 6, 7, 8]\n"
     ]
    }
   ],
   "source": [
    "links = [1,2,3,4,5,6,7]\n",
    "for i in range(3,9):\n",
    "    links.append(i)\n",
    "print(links)"
   ]
  },
  {
   "cell_type": "code",
   "execution_count": 8,
   "metadata": {},
   "outputs": [
    {
     "name": "stdout",
     "output_type": "stream",
     "text": [
      "[1, 2, 3, 4, 5, 6, 7, 8]\n"
     ]
    }
   ],
   "source": [
    "links = [1,2,3,4,5,6,7]\n",
    "for i in range(3,9):\n",
    "    if i not in links:\n",
    "        links.append(i)\n",
    "print(links)"
   ]
  },
  {
   "cell_type": "markdown",
   "metadata": {},
   "source": [
    "## 循环翻页2"
   ]
  },
  {
   "cell_type": "code",
   "execution_count": 1,
   "metadata": {},
   "outputs": [],
   "source": [
    "import requests\n",
    "from lxml import etree\n",
    "import time"
   ]
  },
  {
   "cell_type": "code",
   "execution_count": 2,
   "metadata": {},
   "outputs": [],
   "source": [
    "url = 'http://angelimg.spbeen.com/ang/1706' # 末位可以/1来解决下面又多了一个1的问题\n",
    "headers = {\n",
    "    'User-Agent':'Mozilla/5.0 (Windows NT 6.2; Win64; x64) AppleWebKit/537.36 (KHTML, like Gecko) Chrome/81.0.4044.138 Safari/537.36',\n",
    "    'Referer':'http://angelimg.spbeen.com'\n",
    "}\n",
    "all_links = [url]\n",
    "img_links = []\n",
    "all_imgs = [] #列表可以属于全局变量\n",
    "title = \"\" #字符串可能不行(需要调整为全局变量)"
   ]
  },
  {
   "cell_type": "code",
   "execution_count": 3,
   "metadata": {},
   "outputs": [],
   "source": [
    "def get_next_links(url): # 还缺一个参数headers\n",
    "    # 给定一个链接，返回下一页的链接\n",
    "    resp = requests.get(url,headers=headers)\n",
    "    html = etree.HTML(resp.text)\n",
    "    imgs = html.xpath('.//div[@id=\"content\"]/a/img/@src')\n",
    "    global title # 全局的意思是：这个title变量不是内部的变量title，而是外层的变量title。也就是“ title = \"\" ”\n",
    "    title = html.xpath('.//div[@class=\"article\"]/h2/text()')\n",
    "    if title:\n",
    "        title = title[0] # 因为是个列表，所以提取一下\n",
    "    all_img = html.xpath('.//img/@src')\n",
    "    all_imgs.extend(all_img)\n",
    "    img_links.extend(imgs)\n",
    "    next_links = html.xpath('.//div[@id=\"page\"]/a/@href')\n",
    "    for i in next_links:\n",
    "        base_url = 'http://angelimg.spbeen.com'\n",
    "        next_url = base_url + i\n",
    "        if next_url not in all_links: # all_links必须不是空集\n",
    "            all_links.append(next_url)"
   ]
  },
  {
   "cell_type": "code",
   "execution_count": 4,
   "metadata": {
    "scrolled": true
   },
   "outputs": [
    {
     "name": "stdout",
     "output_type": "stream",
     "text": [
      "当前请求的连接是 http://angelimg.spbeen.com/ang/1706\n",
      "当前请求的连接是 http://angelimg.spbeen.com/ang/1706/2\n",
      "当前请求的连接是 http://angelimg.spbeen.com/ang/1706/3\n",
      "当前请求的连接是 http://angelimg.spbeen.com/ang/1706/4\n",
      "当前请求的连接是 http://angelimg.spbeen.com/ang/1706/5\n",
      "当前请求的连接是 http://angelimg.spbeen.com/ang/1706/6\n",
      "当前请求的连接是 http://angelimg.spbeen.com/ang/1706/7\n",
      "当前请求的连接是 http://angelimg.spbeen.com/ang/1706/1\n",
      "当前请求的连接是 http://angelimg.spbeen.com/ang/1706/8\n",
      "当前请求的连接是 http://angelimg.spbeen.com/ang/1706/9\n",
      "当前请求的连接是 http://angelimg.spbeen.com/ang/1706/10\n",
      "当前请求的连接是 http://angelimg.spbeen.com/ang/1706/11\n",
      "当前请求的连接是 http://angelimg.spbeen.com/ang/1706/12\n",
      "当前列表的连接内容为 ['1706', '2', '3', '4', '5', '6', '7', '1', '8', '9', '10', '11', '12']\n",
      "当前图片链接的列表内容为 13\n",
      "当前全部图片的列表内容为 247\n",
      "当前标题内容为 近日，范冰冰到达南京拍摄郭敬明新片...【12】\n"
     ]
    }
   ],
   "source": [
    "for link in all_links: # 最初只有下角标0，下面的函数append好多下角标后又回来看到好多下角标，再做循环\n",
    "    print(\"当前请求的连接是\",link)\n",
    "    get_next_links(link)\n",
    "print('当前列表的连接内容为',[i.split('/')[-1] for i in all_links]) # 可以用这种语法\n",
    "print('当前图片链接的列表内容为',len(img_links))\n",
    "print('当前全部图片的列表内容为',len(all_imgs))\n",
    "print('当前标题内容为',title)"
   ]
  },
  {
   "cell_type": "code",
   "execution_count": 5,
   "metadata": {
    "scrolled": false
   },
   "outputs": [
    {
     "data": {
      "text/plain": [
       "['http://image.angelimg.spbeen.com/00000mx00000/RbvxlpZw9blS2iVyt3R1291777/lNnqOegccFitERf5w8yK291777-fQsEGZ.jpg',\n",
       " 'http://image.angelimg.spbeen.com/00000mx00000/RbvxlpZw9blS2iVyt3R1291777/IE2XctjIfeXXifco9xmE291777-GNpL9J.jpg',\n",
       " 'http://image.angelimg.spbeen.com/00000mx00000/RbvxlpZw9blS2iVyt3R1291777/y6Av8fggZM36qiVOpgj8291777-3FWQZO.jpg',\n",
       " 'http://image.angelimg.spbeen.com/00000mx00000/RbvxlpZw9blS2iVyt3R1291777/d0fXWmafbGcmBnWcgueH291777-sFDjaO.jpg',\n",
       " 'http://image.angelimg.spbeen.com/00000mx00000/RbvxlpZw9blS2iVyt3R1291777/9S98gzETAe2VqvzDb9G5291777-rGk8aL.jpg',\n",
       " 'http://image.angelimg.spbeen.com/00000mx00000/RbvxlpZw9blS2iVyt3R1291777/by3lkeCYHljNtQ10id6t291777-gzfduK.jpg',\n",
       " 'http://image.angelimg.spbeen.com/00000mx00000/RbvxlpZw9blS2iVyt3R1291777/lNnqOegccFitERf5w8yK291777-fQsEGZ.jpg',\n",
       " 'http://image.angelimg.spbeen.com/00000mx00000/RbvxlpZw9blS2iVyt3R1291777/lNnqOegccFitERf5w8yK291777-fQsEGZ.jpg',\n",
       " 'http://image.angelimg.spbeen.com/00000mx00000/RbvxlpZw9blS2iVyt3R1291777/IE2XctjIfeXXifco9xmE291777-GNpL9J.jpg',\n",
       " 'http://image.angelimg.spbeen.com/00000mx00000/RbvxlpZw9blS2iVyt3R1291777/y6Av8fggZM36qiVOpgj8291777-3FWQZO.jpg',\n",
       " 'http://image.angelimg.spbeen.com/00000mx00000/RbvxlpZw9blS2iVyt3R1291777/d0fXWmafbGcmBnWcgueH291777-sFDjaO.jpg',\n",
       " 'http://image.angelimg.spbeen.com/00000mx00000/RbvxlpZw9blS2iVyt3R1291777/9S98gzETAe2VqvzDb9G5291777-rGk8aL.jpg',\n",
       " 'http://image.angelimg.spbeen.com/00000mx00000/RbvxlpZw9blS2iVyt3R1291777/by3lkeCYHljNtQ10id6t291777-gzfduK.jpg']"
      ]
     },
     "execution_count": 5,
     "metadata": {},
     "output_type": "execute_result"
    }
   ],
   "source": [
    "img_links"
   ]
  },
  {
   "cell_type": "code",
   "execution_count": 6,
   "metadata": {},
   "outputs": [
    {
     "data": {
      "text/plain": [
       "{'http://image.angelimg.spbeen.com/00000mx00000/RbvxlpZw9blS2iVyt3R1291777/9S98gzETAe2VqvzDb9G5291777-rGk8aL.jpg',\n",
       " 'http://image.angelimg.spbeen.com/00000mx00000/RbvxlpZw9blS2iVyt3R1291777/IE2XctjIfeXXifco9xmE291777-GNpL9J.jpg',\n",
       " 'http://image.angelimg.spbeen.com/00000mx00000/RbvxlpZw9blS2iVyt3R1291777/by3lkeCYHljNtQ10id6t291777-gzfduK.jpg',\n",
       " 'http://image.angelimg.spbeen.com/00000mx00000/RbvxlpZw9blS2iVyt3R1291777/d0fXWmafbGcmBnWcgueH291777-sFDjaO.jpg',\n",
       " 'http://image.angelimg.spbeen.com/00000mx00000/RbvxlpZw9blS2iVyt3R1291777/lNnqOegccFitERf5w8yK291777-fQsEGZ.jpg',\n",
       " 'http://image.angelimg.spbeen.com/00000mx00000/RbvxlpZw9blS2iVyt3R1291777/y6Av8fggZM36qiVOpgj8291777-3FWQZO.jpg'}"
      ]
     },
     "execution_count": 6,
     "metadata": {},
     "output_type": "execute_result"
    }
   ],
   "source": [
    "set(img_links)"
   ]
  },
  {
   "cell_type": "code",
   "execution_count": 8,
   "metadata": {
    "collapsed": true
   },
   "outputs": [
    {
     "ename": "FileExistsError",
     "evalue": "[WinError 183] 当文件已存在时，无法创建该文件。: 'imgs/png'",
     "output_type": "error",
     "traceback": [
      "\u001b[1;31m---------------------------------------------------------------------------\u001b[0m",
      "\u001b[1;31mFileExistsError\u001b[0m                           Traceback (most recent call last)",
      "\u001b[1;32m<ipython-input-8-bcca4818da51>\u001b[0m in \u001b[0;36m<module>\u001b[1;34m\u001b[0m\n\u001b[0;32m      1\u001b[0m \u001b[1;32mimport\u001b[0m \u001b[0mos\u001b[0m\u001b[1;33m\u001b[0m\u001b[1;33m\u001b[0m\u001b[0m\n\u001b[1;32m----> 2\u001b[1;33m \u001b[0mos\u001b[0m\u001b[1;33m.\u001b[0m\u001b[0mmakedirs\u001b[0m\u001b[1;33m(\u001b[0m\u001b[1;34m'imgs/png'\u001b[0m\u001b[1;33m)\u001b[0m \u001b[1;31m#创建多层文件夹\u001b[0m\u001b[1;33m\u001b[0m\u001b[1;33m\u001b[0m\u001b[0m\n\u001b[0m\u001b[0;32m      3\u001b[0m \u001b[0mos\u001b[0m\u001b[1;33m.\u001b[0m\u001b[0mmkdir\u001b[0m\u001b[1;33m(\u001b[0m\u001b[1;34m'img'\u001b[0m\u001b[1;33m)\u001b[0m         \u001b[1;31m#创建单层文件夹\u001b[0m\u001b[1;33m\u001b[0m\u001b[1;33m\u001b[0m\u001b[0m\n",
      "\u001b[1;32m~\\Anaconda3\\lib\\os.py\u001b[0m in \u001b[0;36mmakedirs\u001b[1;34m(name, mode, exist_ok)\u001b[0m\n\u001b[0;32m    219\u001b[0m             \u001b[1;32mreturn\u001b[0m\u001b[1;33m\u001b[0m\u001b[1;33m\u001b[0m\u001b[0m\n\u001b[0;32m    220\u001b[0m     \u001b[1;32mtry\u001b[0m\u001b[1;33m:\u001b[0m\u001b[1;33m\u001b[0m\u001b[1;33m\u001b[0m\u001b[0m\n\u001b[1;32m--> 221\u001b[1;33m         \u001b[0mmkdir\u001b[0m\u001b[1;33m(\u001b[0m\u001b[0mname\u001b[0m\u001b[1;33m,\u001b[0m \u001b[0mmode\u001b[0m\u001b[1;33m)\u001b[0m\u001b[1;33m\u001b[0m\u001b[1;33m\u001b[0m\u001b[0m\n\u001b[0m\u001b[0;32m    222\u001b[0m     \u001b[1;32mexcept\u001b[0m \u001b[0mOSError\u001b[0m\u001b[1;33m:\u001b[0m\u001b[1;33m\u001b[0m\u001b[1;33m\u001b[0m\u001b[0m\n\u001b[0;32m    223\u001b[0m         \u001b[1;31m# Cannot rely on checking for EEXIST, since the operating system\u001b[0m\u001b[1;33m\u001b[0m\u001b[1;33m\u001b[0m\u001b[1;33m\u001b[0m\u001b[0m\n",
      "\u001b[1;31mFileExistsError\u001b[0m: [WinError 183] 当文件已存在时，无法创建该文件。: 'imgs/png'"
     ]
    }
   ],
   "source": [
    "import os\n",
    "os.makedirs('imgs/png') #创建多层文件夹\n",
    "os.mkdir('img')         #创建单层文件夹"
   ]
  },
  {
   "cell_type": "code",
   "execution_count": 9,
   "metadata": {},
   "outputs": [
    {
     "data": {
      "text/plain": [
       "False"
      ]
     },
     "execution_count": 9,
     "metadata": {},
     "output_type": "execute_result"
    }
   ],
   "source": [
    "os.path.exists('img/png') #检查路径是否存在"
   ]
  },
  {
   "cell_type": "code",
   "execution_count": 10,
   "metadata": {},
   "outputs": [
    {
     "data": {
      "text/plain": [
       "True"
      ]
     },
     "execution_count": 10,
     "metadata": {},
     "output_type": "execute_result"
    }
   ],
   "source": [
    "os.path.exists('imgs/png')"
   ]
  },
  {
   "cell_type": "code",
   "execution_count": 11,
   "metadata": {},
   "outputs": [],
   "source": [
    "if not os.path.exists('angelimg'):\n",
    "    os.makedirs('angelimg')"
   ]
  },
  {
   "cell_type": "code",
   "execution_count": 12,
   "metadata": {},
   "outputs": [],
   "source": [
    "for img in img_links:\n",
    "    filename = img.split('/')[-1]\n",
    "    file_path = 'angelimg/' + filename\n",
    "    resp = requests.get(img,headers=headers)\n",
    "    with open(file_path,'wb') as file:\n",
    "        file.write(resp.content)"
   ]
  },
  {
   "cell_type": "code",
   "execution_count": 13,
   "metadata": {
    "scrolled": true
   },
   "outputs": [
    {
     "name": "stdout",
     "output_type": "stream",
     "text": [
      "0 http://image.angelimg.spbeen.com/00000mx00000/RbvxlpZw9blS2iVyt3R1291777/lNnqOegccFitERf5w8yK291777-fQsEGZ.jpg\n",
      "1 http://image.angelimg.spbeen.com/00000mx00000/MrJKu9dU9Zpe4Cn8Wkaa287223/aSkafKDNn8WZEQtq8QIC287223-vHRuGO.jpg\n",
      "2 http://image.angelimg.spbeen.com/00000mx00000/wqnbJNHb5J6IfnDDWWXw306331/2KkxPGn2Mpg9tZV1iRX5306331-QlUlUT.jpg\n",
      "3 http://image.angelimg.spbeen.com/00000mx00000/CTfwjEUTEUa4BDQPz4J5307049/dR0xCkJUPBHca9aTswVd307049-LzQArb.jpg\n",
      "4 http://image.angelimg.spbeen.com/00000mx00000/1yNPULZficQTgLuPSjpg298523/bcPoUz3jTBD9z6HPe4kRYkpOFS.jpg\n",
      "5 http://image.angelimg.spbeen.com/00000mx00000/f49qLJSteI8F3mmRgn6Z301086/xD2D8DUXJAp2DcZx6rrK301086-qzVO4s.jpg\n",
      "6 http://image.angelimg.spbeen.com/00000mx00000/TYeeO8RPPHs7wMDpzRCx282082/sxID5wLILLUu0kGJseVs282082-SQBx1d.jpg\n",
      "7 http://image.angelimg.spbeen.com/00000mx00000/4V1zjU3GSgLcE8VRNYUB304137/Hwbw7RuoQbHe05wnJn23304137-COTUgX.jpg\n",
      "8 http://image.angelimg.spbeen.com/00000mx00000/Nkm8yoCKosPv511pd7Op307420/PvZRPtJ6NkXocAIutQEs7256d43b9e81af3171efb1bcf5693666.jpg\n",
      "9 http://image.angelimg.spbeen.com/00000mx00000/hUuwO5y3Xua18kJXTmrk277129/rsCH0V7BAAaY25zZq9c9277129-RaJGYv.jpg\n",
      "10 http://image.angelimg.spbeen.com/00000mx00000/LY8Pu4U60EiGv0dgAoKg273291/DW44JA099lTyGGBmbFbP273291-fxDApN.jpg\n",
      "11 http://image.angelimg.spbeen.com/00000mx00000/wZ419sXKyxE1VzNqtZdU291218/BP1903BcKCpFpHEKuVLP291218-83bB3Z.jpg\n",
      "12 http://image.angelimg.spbeen.com/00000mx00000/OvChMoOBiOHWwvWi4Gkt292629/Qo98dvZoaKFqfhDf6KEd292629-CD4SjS.jpg\n",
      "13 http://image.angelimg.spbeen.com/00000mx00000/HXJopVwpTe1qJf4DCAnO282385/adNTdjT0yLeeLJw8jeEt282385-4Xe802.jpg\n",
      "14 http://image.angelimg.spbeen.com/00000mx00000/0YOacb4FPkeyi5Et1MEK297086/PudJZKv98OxYU2XLzNc6297086-uG4g7v.jpg\n",
      "15 http://image.angelimg.spbeen.com/00000mx00000/jXrhY84TjE8LTuBefZei277286/HEzeyKzqooUkGsODCv6q277286-UmHfSC.jpg\n",
      "16 http://image.angelimg.spbeen.com/00000mx00000/EHDaGJh9lpmdFpLok1yL304696/FbyNJgg35yABP1Iq2DKM304696-0s9LF3.jpg\n",
      "17 http://image.angelimg.spbeen.com/00000mx00000/X7Qn5sZYP6044VqImttt303483/CsbxKsvdwCLbdSEeEVgX303483-9JvTMf.jpg\n",
      "18 http://image.angelimg.spbeen.com/00000mx00000/dHV7w9XCgcFVieWWb3Z5289474/8T4DkPIuACUWGRZe7E1A289474-hQuIXv.jpg\n",
      "19 http://image.angelimg.spbeen.com/00000mx00000/RbvxlpZw9blS2iVyt3R1291777/IE2XctjIfeXXifco9xmE291777-GNpL9J.jpg\n",
      "20 http://image.angelimg.spbeen.com/00000mx00000/z9ub0lHmjLzpzYiZm7ck301315/ZMiK2Fwq1gvRheg8qs8PmCt5EU.jpg\n",
      "21 http://image.angelimg.spbeen.com/00000mx00000/y9tqYPTaIdwwAQ5gVxzS277598/8Z8K7bWulyoxk3nGj145277598-VMiJC9.jpg\n",
      "22 http://image.angelimg.spbeen.com/00000mx00000/uKZMjlpWTnoutvNrLgQM304135/Q75QpJgzhus31e0kwIP3IzRcED.jpg\n",
      "23 http://image.angelimg.spbeen.com/00000mx00000/kB99tuQUsT7WJAhnlZlf307912/AkzVZa1MqCfI9HqEOG0b73b84c52ea018bc41c970054507286a8.jpg\n",
      "24 http://image.angelimg.spbeen.com/00000mx00000/0PHvIWRoA4O9JxazQhl5275104/4bxbnNTnxhDjav16GDuy275104-QyMBK7.jpg\n",
      "25 http://image.angelimg.spbeen.com/00000mx00000/YWRTRWUuu12W1Q86GZe6274348/RZwToNXKPWVbggoDEv8d274348-nwWH89.jpg\n",
      "26 http://image.angelimg.spbeen.com/00000mx00000/IKWKg7YkVhStKDPabvqT279294/Cdj9MA0oTZmYHAu1Ic6z279294-4HEUIF.jpg\n",
      "27 http://image.angelimg.spbeen.com/00000mx00000/jg0PU58tnEKsoiQHpATo306279/YjYCm5goAgqs0WPRMIqT306279-stUVoa.jpg\n",
      "28 http://image.angelimg.spbeen.com/00000mx00000/3qp1D4Va1IPHR5zv1gH4295180/vvXl4FqlKeO85J7AhWZ4295180-PTzh1l.jpg\n",
      "29 http://image.angelimg.spbeen.com/00000mx00000/ObcR7GebfOVjklYoGjg9297183/Z8Sh4UXa9cPv5tyn05pL297183-RVHXG7.jpg\n",
      "30 http://image.angelimg.spbeen.com/00000mx00000/fswMFbrvZIjQFq8nc1by307287/JK82ECMDzi4jXJ7uE9bj08ef257061819b4232bf8bdd1590d63a.jpg\n",
      "31 http://image.angelimg.spbeen.com/00000mx00000/MKxrHrhNhX4kPg8zBUWT299095/YSZDqmhF6miEH7bbv61j9IXZ2e.jpg\n",
      "32 http://image.angelimg.spbeen.com/00000mx00000/IBeqtFQBERXAXWupuq3a281515/d12Qd6fHvfJazQ3Vuv7P281515-Jjbdm8.jpg\n",
      "33 http://image.angelimg.spbeen.com/00000mx00000/zJ7HATJEILvGhsQikA8e274462/QDAMSZOwagOriT94C4gT274462-KYsGR7.jpg\n",
      "34 http://image.angelimg.spbeen.com/00000mx00000/hok4u3JNMi2DyP3BTNLh287456/oouSDwlE1CTWF16j8Awk287456-0kfhqg.jpg\n",
      "35 http://image.angelimg.spbeen.com/00000mx00000/B8f9Hkx6gU8AEmUJ9VD8276622/fem3UlWimOpT3sH3KccA276622-P5yp0j.jpg\n",
      "36 http://image.angelimg.spbeen.com/00000mx00000/WcUHRbdCiYxnt0e8Sg5Y284932/ytkUJmtG0WRrdCiHDwjL284932-JCSoUr.jpg\n",
      "37 http://image.angelimg.spbeen.com/00000mx00000/aEYWVHufioolqr7hHAmE284174/En9mlDywFOv8Mz5cJeQp284174-8ctlso.jpg\n",
      "38 http://image.angelimg.spbeen.com/00000mx00000/RbvxlpZw9blS2iVyt3R1291777/y6Av8fggZM36qiVOpgj8291777-3FWQZO.jpg\n",
      "39 http://image.angelimg.spbeen.com/00000mx00000/DxhqdhG1oqv3qWtcO4yf285764/lZnDuHW92Bw1L0r1lyHW03-285764-0LJNoz.jpg\n",
      "40 http://image.angelimg.spbeen.com/00000mx00000/a36jJpS3XdMIkwZ8PCia305149/cemiptvWApT2tYYHhn5t305149-tDt0Jg.jpg\n",
      "41 http://image.angelimg.spbeen.com/00000mx00000/DRC0J0v8YMPoAfG1mIED299571/VgFdGtoMX99s7P1bWWGM299571-jq39IG.jpg\n",
      "42 http://image.angelimg.spbeen.com/00000mx00000/xZSw8zGyRoH7CmuLc4hr277429/2iXYgStAf6IwoQPICnp1277429-l4OsXm.jpg\n",
      "43 http://image.angelimg.spbeen.com/00000mx00000/Rw85tOox0MAH5zlEMt9P306890/q4sxkTCUwhoQN0MblhML306890-6J2M4J.jpg\n",
      "44 http://image.angelimg.spbeen.com/00000mx00000/9DiXXY6Ol6CYOVGY0dB2297169/OSQWPBYxKXH7l52ZIbuC297169-mTxzVp.jpg\n",
      "45 http://image.angelimg.spbeen.com/00000mx00000/LqkQOPjp6Wh2YnYTLl5x285746/xwi6QzfV81ZS117NHg5B03-285746-ziQ3Kc.jpg\n",
      "46 http://image.angelimg.spbeen.com/00000mx00000/Hab2dGMB9xdMxmiG2nCC302000/8sLCSg7ptJDSL1tzAV2g302000-mD7yuu.jpg\n",
      "47 http://image.angelimg.spbeen.com/00000mx00000/XNz1FvA2RpknSoHS9BPc298471/4UnWvnCdxOSrzVtR9YdZ298471-dWogoI.jpg\n",
      "48 http://image.angelimg.spbeen.com/00000mx00000/cAWcy17qOkkbcgxGvwyf304363/OSemOgIy5ISL63JVZVs9LsHxGm.jpg\n",
      "49 http://image.angelimg.spbeen.com/00000mx00000/o3tr8GcQs2bi9DCO8ku5295430/LS8vvlHzIqcKtetForgD295430-12qKkD.jpg\n",
      "50 http://image.angelimg.spbeen.com/00000mx00000/voO3SAzAfuhWT5qMAiD7280317/95GlMpen5G9Nph2oC0Ov280317-gWk8XJ.jpg\n",
      "51 http://image.angelimg.spbeen.com/00000mx00000/YVZ0P4HyFgV3J3edBM13281852/a12iy9zYJI6ZcuBTNoc4281852-os9OPP.jpg\n",
      "2 http://image.angelimg.spbeen.com/00000mx00000/wqnbJNHb5J6IfnDDWWXw306331/2KkxPGn2Mpg9tZV1iRX5306331-QlUlUT.jpg\n",
      "53 http://image.angelimg.spbeen.com/00000mx00000/pdpAOoWsllAVp7kmW8Je279210/Ff8T6pLoVeSFxUQrvNi5279210-GjY3oQ.jpg\n",
      "54 http://image.angelimg.spbeen.com/00000mx00000/J52SsOvIfo2tSFTeTByT305530/XsFNbYfuccG0vHL6nZ1B305530-a706o5.jpg\n",
      "55 http://image.angelimg.spbeen.com/00000mx00000/vbeonNRctw7rGGqMzT3z299774/VyVCONJlWamTanTYEtTJ299774-LwUif8.jpg\n",
      "18 http://image.angelimg.spbeen.com/00000mx00000/dHV7w9XCgcFVieWWb3Z5289474/8T4DkPIuACUWGRZe7E1A289474-hQuIXv.jpg\n",
      "57 http://image.angelimg.spbeen.com/00000mx00000/RbvxlpZw9blS2iVyt3R1291777/d0fXWmafbGcmBnWcgueH291777-sFDjaO.jpg\n",
      "58 http://image.angelimg.spbeen.com/00000mx00000/zUvn4SmCUjAA58WdPfwG277202/IjaevrITeDrbhfg1gbHh277202-xi0rlj.jpg\n",
      "59 http://image.angelimg.spbeen.com/00000mx00000/3EPNHZ7Yy3kEpxjKtfOX279110/W5nosrwbY8RCMTy4wts5279110-rQ2e75.jpg\n",
      "60 http://image.angelimg.spbeen.com/00000mx00000/iZhXBk2ewbe2PqhQmvqH302415/sWMkPKzwSevncKvbsKSr302415-rF8NK6.jpg\n",
      "61 http://image.angelimg.spbeen.com/00000mx00000/nCLXMRQTCcxi5TNprN93298174/O9y5JYLSq6SqOQPlTvIn298174-tTPEX9.jpg\n",
      "62 http://image.angelimg.spbeen.com/00000mx00000/LGe9LM9GeWyA9ntNJ6uF300598/Vcit3vgjfZDOoPw12AX9LB52uA.jpg\n",
      "63 http://image.angelimg.spbeen.com/00000mx00000/Q6g4Bw97eTqK7cg09fJb274217/kVIToGrpgxS16vn07MD9274217-31EXU3.jpg\n",
      "64 http://image.angelimg.spbeen.com/00000mx00000/M93rdQd4KkwcYWan9ZW9288825/xMcDhd4jI1FL2lSimfED288825-3gZCBN.jpg\n",
      "65 http://image.angelimg.spbeen.com/00000mx00000/gv3aPpwc5hhepNE9vIGV307375/S4GbGw2piTI8Rwjr3HwY8b8461f0b23bd1fc5127153af14a0bb5.jpg\n",
      "66 http://image.angelimg.spbeen.com/00000mx00000/ojOOFp8SBecmXjljqZlE278811/VpwxLDJAisG0ZOjbxqPj278811-IrhlYL.jpg\n",
      "67 http://image.angelimg.spbeen.com/00000mx00000/aemy91T50xRtXFE7CZ7N281056/7eJ3P81olbi5zUQn9SqY281056-yg75xh.jpg\n",
      "68 \n",
      "69 http://image.angelimg.spbeen.com/00000mx00000/JP3h8L0xcQwwPZRX4gs7305156/sK91HkSUn0d1lU1lzsYW305156-bKIKYO.jpg\n",
      "70 http://image.angelimg.spbeen.com/00000mx00000/jUbswXr2C0ncOFNi4UD9278622/kCIqFdAZr7Au989UB5Q6278622-Kb50nV.jpg\n",
      "71 http://image.angelimg.spbeen.com/00000mx00000/fFmiYzvwIAM5khad9d4u297085/vXalVgzk98gsuNFEp9uA297085-hKdjZh.jpg\n",
      "72 http://image.angelimg.spbeen.com/00000mx00000/vgMEyNG4wsQFErwNBb9Y273452/LZRxpd8R9NEEvysET41U273452-TDrQcY.jpg\n"
     ]
    },
    {
     "name": "stdout",
     "output_type": "stream",
     "text": [
      "73 http://image.angelimg.spbeen.com/00000mx00000/u678lyGQS9msZCgvdOz5300602/ifOSj3eliw9yBK4PPxrS300602-T0qVMD.jpg\n",
      "74 http://image.angelimg.spbeen.com/00000mx00000/kRxqNCUnzjZoSKWvbDy2274368/A02bvKYYwG9L1nBz7Xwq274368-alnoOe.jpg\n",
      "75 http://image.angelimg.spbeen.com/00000mx00000/oMtXXUJeRpOFMBKYA4ut299560/7UQk1jlTRFMEWpDulvtJ299560-nvkwak.jpg\n",
      "76 http://image.angelimg.spbeen.com/00000mx00000/RbvxlpZw9blS2iVyt3R1291777/9S98gzETAe2VqvzDb9G5291777-rGk8aL.jpg\n",
      "77 http://image.angelimg.spbeen.com/00000mx00000/dYUdlzcSTHDByafYF06S281482/nMILnTW4knbWgY2Ulvn2281482-n4k5ll.jpg\n",
      "78 http://image.angelimg.spbeen.com/00000mx00000/yRmeQgUCjN5aljWd9sS8280386/sFWVclzhvrHPCLUErdDO280386-v2oTwU.jpg\n",
      "79 http://image.angelimg.spbeen.com/00000mx00000/B7RwjiJboIhj21S3PKx6276188/ZvHuExaRDzHIgVsrJ8tC276188-hfEzUJ.jpg\n",
      "80 http://image.angelimg.spbeen.com/00000mx00000/VXYznmXPHb2Ti7dPYmer307448/XI60mLVSJFKxtXAe7nR8b46043ccdad9ee8963d01d2f3daa3e10.jpg\n",
      "81 http://image.angelimg.spbeen.com/00000mx00000/ndYvgiZhRtBSwSlYbdgh295850/N9EII33XmNVtFtGC8tK57Ns4n3.jpg\n",
      "82 http://image.angelimg.spbeen.com/00000mx00000/3FCuPyxwtmlFPaTOe5bm307397/xC8vB1iIbHrqXhSzmTSn781007d0f6051c84834e7bcd681cc0d9.jpg\n",
      "83 http://image.angelimg.spbeen.com/00000mx00000/FlEHv9OcwWbqub7twADd279281/IvN4bKaorjTgEYFexHhE279281-uUyDeX.jpg\n",
      "84 http://image.angelimg.spbeen.com/00000mx00000/dMqu6asF1afzbocuwU6O282763/2AyP3etoAPIGsH2LcZLH282763-YFjGEt.jpg\n",
      "85 http://image.angelimg.spbeen.com/00000mx00000/W9qaYuYFWzRF4ioq7hgZ307211/AMn8m73yI4wbmLSpNiHL307211-TgomGd.jpg\n",
      "86 http://image.angelimg.spbeen.com/00000mx00000/Hzv05MgBsaQ6UV1nkdag300455/rzaJDXl5DwrNsVryjeefLr0a1U.jpg\n",
      "87 http://image.angelimg.spbeen.com/00000mx00000/uOzt4MfA2OFp1gOezswJ282859/LdvXa1AXgVaYcs5fleA4282859-QFBCxY.jpg\n",
      "88 http://image.angelimg.spbeen.com/00000mx00000/loxskVTtfAmnZSmpDxBH277022/GTKoyOI2J3nBxuw7RO8X277022-GBBRpQ.jpg\n",
      "89 http://image.angelimg.spbeen.com/00000mx00000/iMZxCBjhLgQo8PGSuN4M305734/Sqs8ZuynAXe3qkayemiU305734-JkFC7X.jpg\n",
      "90 http://image.angelimg.spbeen.com/00000mx00000/07pb0bXBNaXqD6qs8KDI302062/C121idthFhaPO9VRDy77wd4hEx.jpg\n",
      "91 http://image.angelimg.spbeen.com/00000mx00000/1PPCWRwffDZuLwp4jK1X287742/FB4sfCqRAOIkfdCuQSEN287742-jvnYZr.jpg\n",
      "92 http://image.angelimg.spbeen.com/00000mx00000/8dMVHsmJXiBE2EkfOAb4278657/I6fdjUIpCEaOECFPjH7Z278657-hD8yEo.jpg\n",
      "93 http://image.angelimg.spbeen.com/00000mx00000/YXCmSd7rdnBzU5Jq05GU287765/9m6BG6olIYp4TxZSFU4f287765-TAQEIx.jpg\n",
      "94 http://image.angelimg.spbeen.com/00000mx00000/HuyOjqjsyRhWG6n96BaN282909/XqgBKYNW8FUKzxYrrnM2282909-ZRD8bN.jpg\n",
      "95 http://image.angelimg.spbeen.com/00000mx00000/RbvxlpZw9blS2iVyt3R1291777/by3lkeCYHljNtQ10id6t291777-gzfduK.jpg\n",
      "96 http://image.angelimg.spbeen.com/00000mx00000/PpNcAPCUA0wecvxkxvEL277350/pZRgaCbuPLXtdvkUZJlo277350-SqFQwq.jpg\n",
      "97 http://image.angelimg.spbeen.com/00000mx00000/8vjOQMVCjjCwt2a887Lk288548/ujQs8ysANJ4RI6q2y2xS288548-cHiT5W.jpg\n",
      "98 http://image.angelimg.spbeen.com/00000mx00000/DSfSHWSlPg4zbFGvQsA4296174/Wgty4vcN5vlqDjZjLEJAyztDzl.jpg\n",
      "99 http://image.angelimg.spbeen.com/00000mx00000/RIJ6t7G11m7bXLYsWYnv290979/gMbdKj1rpfPbYcdHwyRd290979-IcZfW0.jpg\n",
      "100 http://image.angelimg.spbeen.com/00000mx00000/3PkZwsqQtXkG0hoV9Omk299752/gAP6HtJGGlJpLTUjYcQk299752-5lR1tm.jpg\n",
      "101 http://image.angelimg.spbeen.com/00000mx00000/POnsjXEgcUKIdqFnIVnq285160/NEDwyxJeSh4w0VrUie3126-285160-rcIDCg.jpg\n",
      "102 http://image.angelimg.spbeen.com/00000mx00000/eqWVNcKbthkt8JSzIEB2288758/66yinFcAMmFCbSffuoPL288758-90Lnox.jpg\n",
      "103 http://image.angelimg.spbeen.com/00000mx00000/yKXaLbIeJVf9Zl1vnOAB276893/n4TUwCizTR4F5rFgrCAJ276893-HyLOoF.jpg\n",
      "104 http://image.angelimg.spbeen.com/00000mx00000/Ra5pNWmhmJ6ZE9b3PrjI285214/7bbD6RS5J1j06uyfs0PF27-285214-OVjcST.jpg\n",
      "105 http://image.angelimg.spbeen.com/00000mx00000/4basCQML38KoErpmWbdK305072/NVQnIMUN55QFLKfMR94M305072-Z6fa0U.jpg\n",
      "106 http://image.angelimg.spbeen.com/00000mx00000/1eN9MKgbKRyAkOI2Sbzu303454/3nGlssKGMWOpT68aT52a303454-5La6lf.jpg\n",
      "107 http://image.angelimg.spbeen.com/00000mx00000/fRhVYPtpaC7r8qCDBuVI296977/nRXFzcJALvj3jPkA0W2s296977-5nhNFm.jpg\n",
      "108 http://image.angelimg.spbeen.com/00000mx00000/kl6hR3pzkUbSO4Ft3n3w305612/qapm4ZAlmF7IxupKnunW305612-16uCh9.jpg\n",
      "109 http://image.angelimg.spbeen.com/00000mx00000/OAOlJKP1poKKEJZYohto302074/8i6G0u4gbciooqunXqLhzOmBxG.jpg\n",
      "110 http://image.angelimg.spbeen.com/00000mx00000/gATxqPlNHzGuCFkwOlYH292648/zdHZwDpUiFk0diOk5jSh292648-1cAfPZ.jpg\n",
      "111 http://image.angelimg.spbeen.com/00000mx00000/WLWrR5eLFS2KYukgDwkI304854/oeK8WTcq8T8OJaY27eeU304854-ymlg4L.jpg\n",
      "112 http://image.angelimg.spbeen.com/00000mx00000/1PK3ySEHFJEFW11LVt86294853/599jYbL3ZPUnxNx6SxbKBU4Fsu.jpg\n",
      "113 http://image.angelimg.spbeen.com/00000mx00000/dWtp1JIRpIcHIzCVNU7L290318/PVyrk2I75yldj11n7XtJ290318-2p9Qyv.jpg\n",
      "0 http://image.angelimg.spbeen.com/00000mx00000/RbvxlpZw9blS2iVyt3R1291777/lNnqOegccFitERf5w8yK291777-fQsEGZ.jpg\n",
      "115 http://image.angelimg.spbeen.com/00000mx00000/YrHF7YiCegeRMxQeL4UC305066/C94VEf8TvV4cvrzqdzSF305066-jeZ0wk.jpg\n",
      "116 http://image.angelimg.spbeen.com/00000mx00000/3YsUo3roEDrGBIl91h75280142/N5aVnBEDejLIjKgJ7vLk280142-oU7Flw.jpg\n",
      "117 http://image.angelimg.spbeen.com/00000mx00000/ppTquz0DqjtF8HckTuk9276375/S6i4yoOCk38P1UqF0Tv8276375-M103QO.jpg\n",
      "118 http://image.angelimg.spbeen.com/00000mx00000/2SRFaszKRY0Wtv8LVJgS284252/uhYvZY65rFbr8NaV6GWh284252-REcXrj.jpg\n",
      "119 http://image.angelimg.spbeen.com/00000mx00000/6Q3jWOkF7y71xNeiAHWW307589/nkYszT5MynqgRaGoo5qvaa90dd4550e32de3ea1db1a1da5b4af4.jpg\n",
      "120 http://image.angelimg.spbeen.com/00000mx00000/gOu8U48c8EsBRY23UlzI275368/9NeweldYNMjkF4ZQ47jD275368-28JxVF.jpg\n",
      "121 http://image.angelimg.spbeen.com/00000mx00000/2XKuKlLPOXYgxgMQct7y304664/UOUQk9AQUpIPmGGjrAGqXdGKBj.jpg\n",
      "122 http://image.angelimg.spbeen.com/00000mx00000/VZn8berwvLMR9cRV9ics274534/Xv7ZueWPivDOHqfFKJqw274534-YQA6FT.jpg\n",
      "123 http://image.angelimg.spbeen.com/00000mx00000/UF0cmsKItXQugfC95QIS304238/nzJp5Q7AbAT7XZPXv5FK304238-vwE2SI.jpg\n",
      "124 http://image.angelimg.spbeen.com/00000mx00000/F5boK5o77NiTlvZkcWbn290711/D3TMmtrwWBLextGccz5T290711-QnKoQ5.jpg\n",
      "125 http://image.angelimg.spbeen.com/00000mx00000/9FMGb6UiniW8C4Yf37n1307561/PVHXx2S48Rfhk0RW5Z4Q850d9ade987b8339072619dd70d61952.jpg\n",
      "126 http://image.angelimg.spbeen.com/00000mx00000/3lEIDvNjeMgA4muKsRpg281658/Qke6uBDKm9tyOq5ESO19281658-NDkOLr.jpg\n",
      "127 http://image.angelimg.spbeen.com/00000mx00000/8umgDqOB6EANmq46ST5R289256/GTtVSU2md23EtYHqfwdj289256-iIJL1L.jpg\n",
      "128 http://image.angelimg.spbeen.com/00000mx00000/kqwLEgBPv3xVDB99U9ka305930/o7UsFdBvzxEE2Gzem0ja305930-LunwsW.jpg\n",
      "129 http://image.angelimg.spbeen.com/00000mx00000/1HbE8FJwCoeNnNOodZgR295264/EKol5VIFlYf7ZmaiyERM295264-C8qbd6.jpg\n",
      "130 http://image.angelimg.spbeen.com/00000mx00000/19NDzZImE9CHgVShAb8h306100/yuIkTxe3SvFwScG6gTOs306100-y2XDXw.jpg\n",
      "131 http://image.angelimg.spbeen.com/00000mx00000/aY1nwhewk7Xwt7HmrFbY280866/AFlWihzw1wAXz2nN10lW280866-YBQOOP.jpg\n",
      "132 http://image.angelimg.spbeen.com/00000mx00000/OmKK4O1UxobbYk3dZx5G295711/CTpkrdyVJDk3x1spBRIYaFLB5Z.jpg\n",
      "0 http://image.angelimg.spbeen.com/00000mx00000/RbvxlpZw9blS2iVyt3R1291777/lNnqOegccFitERf5w8yK291777-fQsEGZ.jpg\n",
      "134 http://image.angelimg.spbeen.com/00000mx00000/ZWjcJM2ssa333gsHCbk0281385/OHm7ISDmZryv1qn4w9t6281385-2F3oLr.jpg\n",
      "135 http://image.angelimg.spbeen.com/00000mx00000/EvnEjT1cQ7W4hjr3jUzu296253/hEjxu2K5iLEcmmEowJJmBrqqbm.jpg\n",
      "136 http://image.angelimg.spbeen.com/00000mx00000/2RMPHMO1B7cEaDIK2SC1306717/aeNoUF6TePONIyaZiBiu306717-iO76oe.jpg\n",
      "137 http://image.angelimg.spbeen.com/00000mx00000/9pmqIwDxdeBCRQ8UKkRz299727/ffZEW7akXA3me1gqpq2x299727-k5CDRC.jpg\n",
      "138 http://image.angelimg.spbeen.com/00000mx00000/sZPTghfBOc3ZIIdITGMp285290/49RptJWkOOAbIezZ7Gq330-285290-GBFXEN.jpg\n",
      "139 http://image.angelimg.spbeen.com/00000mx00000/TfvxTmyxzWdjSgLfE1HJ284597/cFLebFWASMKbTilDShYF284597-9bS9hU.jpg\n",
      "140 http://image.angelimg.spbeen.com/00000mx00000/mYC8Ap68gyncfmDP8dAD307429/u2jt5VKaGRVMo31BhN3O958ae09bb168d76cd62e82103b184652.jpg\n",
      "141 http://image.angelimg.spbeen.com/00000mx00000/kTmm78SeXtAzsjdiDUYf300021/yl8joH9nRL1kl8Hal125f8cfHv.jpg\n",
      "142 http://image.angelimg.spbeen.com/00000mx00000/b0xsMvHkQG0qoVBgayb8304723/PNviixYCiCAnnWfNKF2v304723-7wN3Q4.jpg\n",
      "143 http://image.angelimg.spbeen.com/00000mx00000/6tyvZindwfYrDwgUoMkU289257/mar2IwInpWJYLNAl0Q2e289257-fttAyV.jpg\n",
      "144 http://image.angelimg.spbeen.com/00000mx00000/Aoi5D9tJeqXgI9vLJo9h299732/QVB9jwLg1bNRs465zWJF299732-5kPPCF.jpg\n"
     ]
    },
    {
     "name": "stdout",
     "output_type": "stream",
     "text": [
      "145 http://image.angelimg.spbeen.com/00000mx00000/HBfWQyAhZNKllu9uRpmb276903/DWc4eSMWxFq7x6qYsFlr276903-ODPQI2.jpg\n",
      "146 http://image.angelimg.spbeen.com/00000mx00000/mh7pXI7tFYMCnhP9aaoE277208/JmP9AIpSiHCqCTAvAKdk277208-B6SQGY.jpg\n",
      "147 http://image.angelimg.spbeen.com/00000mx00000/j7nDNzPfdWS47CRrtB7D307235/jpJgT05HZS7sXgvJZGOj307235-Z1hhjH.jpg\n",
      "148 http://image.angelimg.spbeen.com/00000mx00000/r72M29mlglySD3tF5jNK279305/kZTeIQoJVw4mUxR1M9fH279305-cwcgY8.jpg\n",
      "149 http://image.angelimg.spbeen.com/00000mx00000/mAcPVKtDJa1J1fGePbmg298034/OcxRReUgD73iDEZRjrleeOutgX.jpg\n",
      "150 http://image.angelimg.spbeen.com/00000mx00000/lOfy5cqR166BQLx7IrJp282309/7FZiSWuzoyzJiGmtTivm282309-ma6igd.jpg\n",
      "151 http://image.angelimg.spbeen.com/00000mx00000/5tJzKb7zv1g2yjfricJq280157/As8iy0zjcyQAg0dJH5rD280157-eZZaAJ.jpg\n",
      "19 http://image.angelimg.spbeen.com/00000mx00000/RbvxlpZw9blS2iVyt3R1291777/IE2XctjIfeXXifco9xmE291777-GNpL9J.jpg\n",
      "153 http://image.angelimg.spbeen.com/00000mx00000/sJZ6rBjyK6qpN3xW67wh279860/4l76zHkrgGP8uGjjFD72279860-ko1E1w.jpg\n",
      "154 http://image.angelimg.spbeen.com/00000mx00000/gXQaXa3sWEGkcRglhpEL306623/NYlDhRHzVOfqoQMbSa7U306623-7AWBCP.jpg\n",
      "155 http://image.angelimg.spbeen.com/00000mx00000/pgrVQ42EGUm0rECcQiiJ281542/mFso9zSq5EySvP4RYxAZ281542-NN6EEG.jpg\n",
      "156 http://image.angelimg.spbeen.com/00000mx00000/OTPq0KkxAXPEd54AiD9b304685/VQam18FBobdBYR4fNbrc304685-6dPt8a.jpg\n",
      "157 http://image.angelimg.spbeen.com/00000mx00000/zOBCJ2aqnbxwqj0Y3Qrg286012/Nkg3nrKKSbS94hkpFpzI08-286012-ylfStO.jpg\n",
      "158 http://image.angelimg.spbeen.com/00000mx00000/ZfDRSTLnc2irLynZXSDD295385/y9FV48g7FeHdxYwYatGU3A7tuZ.jpg\n",
      "159 http://image.angelimg.spbeen.com/00000mx00000/o8k1R1EubvHoLpAr02S4307282/89X0O5uaKB9pDCljc7ne4b66e3c1080318a2661d0b9e31069d91.jpg\n",
      "160 http://image.angelimg.spbeen.com/00000mx00000/hXhJgT2mo08b6p2aDlcP298533/PvkWXJpu0SDilKeHHc4R298533-cwRca2.jpg\n",
      "161 http://image.angelimg.spbeen.com/00000mx00000/cfxo8nxRHPLNXo7UAcog295169/iiGhdUTrtDpkKV6Fwyst295169-wgNQa5.jpg\n",
      "162 http://image.angelimg.spbeen.com/00000mx00000/sSLsuZmNFh7yDv7prW4K278663/wCk5QQqQN6hiOFYja0rV278663-QChEc3.jpg\n",
      "163 http://image.angelimg.spbeen.com/00000mx00000/CdMafsbIaVZrVlV7cfO7300106/Nvai43zqylqXj5FPWM87300106-o75mAW.jpg\n",
      "164 http://image.angelimg.spbeen.com/00000mx00000/pCy1SA1JnruqF0zFoLWC274366/A2mwjzDSudsDMFGyyQ1G274366-GTm3W5.jpg\n",
      "165 http://image.angelimg.spbeen.com/00000mx00000/XQY01C4JKEQXIJ8j2jUD287876/yyrOZJSR3kU8Ja9wd3Lg287876-untnuu.jpg\n",
      "166 http://image.angelimg.spbeen.com/00000mx00000/Sr0UGeNwcuXRYj60OL9V275761/PVhGkBNfXMiF3tRen7hG275761-n37Imv.jpg\n",
      "167 http://image.angelimg.spbeen.com/00000mx00000/mc1KWrMyozAXSWIFfYWc275649/KoWvcjyGGxbNL0B9BMyk275649-clO8BW.jpg\n",
      "168 http://image.angelimg.spbeen.com/00000mx00000/i1XybEdFOH4cFBlsVG7T291639/sZvruzVci9YaTtTpoP4v291639-1bHD12.jpg\n",
      "169 http://image.angelimg.spbeen.com/00000mx00000/MPIAczpladAPMiygn71I278804/wb3fQrPFh7uaN6foTDy7278804-kCMrm6.jpg\n",
      "170 http://image.angelimg.spbeen.com/00000mx00000/4nJR6pXYo4U1TQyuoMxD280431/r6FuCaGVcqJY2kqSLDbY280431-PwcOMj.jpg\n",
      "38 http://image.angelimg.spbeen.com/00000mx00000/RbvxlpZw9blS2iVyt3R1291777/y6Av8fggZM36qiVOpgj8291777-3FWQZO.jpg\n",
      "172 http://image.angelimg.spbeen.com/00000mx00000/6Tkot0UnJZrxZRt9jCFz278137/zGiFtUniETwqpQUOZGYm278137-bXIhmk.jpg\n",
      "173 http://image.angelimg.spbeen.com/00000mx00000/kTfsac4zFb76EizHWIfj285979/zpE7zTXPAVz5nk8LaPbc08-285979-tqC68j.jpg\n",
      "174 http://image.angelimg.spbeen.com/00000mx00000/x8MGFjavxaS4Y5ATsinE306649/khgltOPx8Ct4RKJpu4S5306649-ZfvJoc.jpg\n",
      "175 http://image.angelimg.spbeen.com/00000mx00000/b8vhB89IH3MBpmdk4lcH300501/uOuLJf6DV6kYUqsVUoNwJtYtlm.jpg\n",
      "176 http://image.angelimg.spbeen.com/00000mx00000/ZeIbS2jtkOKsQTep003S278157/UvIqR0bwdAlbV7LuMEYo278157-whG4ZI.jpg\n",
      "177 http://image.angelimg.spbeen.com/00000mx00000/6Fi7Eb2h1s3gK7vXH2GR306987/7cCH4X2SVSxfzrxBI0wG306987-PhQXRr.jpg\n",
      "178 http://image.angelimg.spbeen.com/00000mx00000/F3kXZI425qza85yuSHqH305243/mHSUKQxrdAuZMWY55gX6305243-78q29Y.jpg\n",
      "179 http://image.angelimg.spbeen.com/00000mx00000/HJiObuJgCjNc1CuroYo7307956/gM7ok5AaCkL10BxPwmqs62ef552937f45b3ba6cdfb4810c46736.jpg\n",
      "180 http://image.angelimg.spbeen.com/00000mx00000/3D17jVuIvIHlWH90kMyt275152/H4bItoSIEjNsRgvKxXKI275152-8x32pv.jpg\n",
      "181 http://image.angelimg.spbeen.com/00000mx00000/lsfXZeKLYMzTOWgbLKFY307833/Wnued5voXHu4E5SWo67U9f4fd8edd0babf7c40fc201c563dbb4f.jpg\n",
      "68 \n",
      "183 http://image.angelimg.spbeen.com/00000mx00000/CaT69toy0KFqU5kCZG50279858/c7z3AM4P64HgfqJ1i98O279858-o7GBRf.jpg\n",
      "184 http://image.angelimg.spbeen.com/00000mx00000/P2TU30ObLVKG8nnCfRUN305791/L5BNLX2N5altKQWAtYml305791-hiilrC.jpg\n",
      "185 http://image.angelimg.spbeen.com/00000mx00000/VQsRIqLftwWTI9dgq1or300332/eAHJeSN2XjKOPJlWEiuly2MQN4.jpg\n",
      "186 http://image.angelimg.spbeen.com/00000mx00000/Umu5iPanznJAdEQnhEj8306769/k7EjrMdn1LJqqy81BdNR306769-grH5fo.jpg\n",
      "187 http://image.angelimg.spbeen.com/00000mx00000/MWViiC8NJsC1RdbvXRHD280663/Q9hxeM4sAVbJo601rszO280663-WlzQAn.jpg\n",
      "188 http://image.angelimg.spbeen.com/00000mx00000/R5sSiTKRoG8AylakZ3CD306701/2psgT0yHwXYX5RvIoI1J306701-SuOS8K.jpg\n",
      "189 http://image.angelimg.spbeen.com/00000mx00000/p6XW0Bp3x3GgeMjiUvTY280818/NG6cNGfOuVjhp9bn6LLY280818-GopoAY.jpg\n",
      "57 http://image.angelimg.spbeen.com/00000mx00000/RbvxlpZw9blS2iVyt3R1291777/d0fXWmafbGcmBnWcgueH291777-sFDjaO.jpg\n",
      "191 http://image.angelimg.spbeen.com/00000mx00000/1cMnaIPo1UUlzJSLebRm303477/u6mLxR5Vqb7txZ4CQZ1v303477-7DZm55.jpg\n",
      "192 http://image.angelimg.spbeen.com/00000mx00000/SZJOFdHiN9M5WUrKcdc3281673/xjDdd2wYQhATuIVu2OFO281673-Wu70Oe.jpg\n",
      "193 http://image.angelimg.spbeen.com/00000mx00000/quwXha3AcfqscIJBtspm307545/dU0zVZdEimFJGb0IFYRYc2a17aad9ba94aa62fb4aca9a97e0c4c.jpg\n",
      "194 http://image.angelimg.spbeen.com/00000mx00000/pfUYbZ34CgtxOsfRBbc3288495/5dGFNs2yCNfPo1oqwQvY288495-lTVKCi.jpg\n",
      "195 http://image.angelimg.spbeen.com/00000mx00000/L3WGjgmCGNWbEX8pmRzx298875/ZcUWcdrlrNXBYr0kbBR5298875-lrhQtG.jpg\n",
      "196 http://image.angelimg.spbeen.com/00000mx00000/IAYziOQhhL4zhCzuMKVJ282114/ro3tTda1sN8BDvwtQ6nF282114-MuHm8Z.jpg\n",
      "197 http://image.angelimg.spbeen.com/00000mx00000/UnRgsjOuiDP5H5TqJQUK277057/LI550pMaIN0YzFgSpUC8277057-DhL6BC.jpg\n",
      "198 http://image.angelimg.spbeen.com/00000mx00000/NSlyH7xo2Z1Y0QYGmOpg307050/Vwsgw9ZxVuUnTnfWT2ir307050-r4fHmQ.jpg\n",
      "199 http://image.angelimg.spbeen.com/00000mx00000/fUf5irzlOL0V6JQBKoqq307340/RLNB4SwSxxPhgpn6d9T7dff52f25e2000d8240fabab5c58ee8d1.jpg\n",
      "200 http://image.angelimg.spbeen.com/00000mx00000/7vogCeM2r6A2tljr85qX289468/mRtkQCYjhzb7w0GiDmcJ289468-2G7tBf.jpg\n",
      "201 http://image.angelimg.spbeen.com/00000mx00000/IQe6Swp1qTFNo27PJ82o306816/m7VJVJiYhriP4QkusX0e306816-AO8XSG.jpg\n",
      "202 http://image.angelimg.spbeen.com/00000mx00000/dYKKAkZ20gWn97Enoy0q277330/s2MMYlztPkr6IYFJZXYG277330-Xscc5G.jpg\n",
      "203 http://image.angelimg.spbeen.com/00000mx00000/TTao4m7zZtIX6N17dd4s279737/jfDSJJAWeHrzvtBYpEvg279737-JjE2jI.jpg\n",
      "204 http://image.angelimg.spbeen.com/00000mx00000/S0fJ5zlfDXCKGn5hTyuF287782/wLZssivpc6cyCf6b9AGh287782-gTGh5h.png\n",
      "205 http://image.angelimg.spbeen.com/00000mx00000/wc6pZErjtiyKJSzot0eh279911/NUl6nHB98WJDaMMTuULF279911-44l1Ih.jpg\n",
      "206 http://image.angelimg.spbeen.com/00000mx00000/cvtNOPgCDGvXZiUqjyQj289251/VX5Aw9JnJ5Ba1u0hvEf3289251-Tl8Yfl.jpg\n",
      "207 http://image.angelimg.spbeen.com/00000mx00000/mwn5aP1YLS0fsh5nZiDR275065/Rs4zmSgrsEneosWEAkhe275065-Puc522.jpg\n",
      "208 http://image.angelimg.spbeen.com/00000mx00000/f2YlZtfvDpxNMkbMibqH295835/reDkeVwe59qLKO8tmbgw295835-aiDaZL.jpg\n",
      "76 http://image.angelimg.spbeen.com/00000mx00000/RbvxlpZw9blS2iVyt3R1291777/9S98gzETAe2VqvzDb9G5291777-rGk8aL.jpg\n",
      "210 http://image.angelimg.spbeen.com/00000mx00000/yrqtxzHUtJtvbaxbYBV8286335/DaW9Riklv3IkyrGNdHqW16-286335-bXP4T8.jpg\n",
      "211 http://image.angelimg.spbeen.com/00000mx00000/cImuu3nqmHJU8i8uX38w272668/nCAZz6DzqUx0QalvzV4O272668-XgF4BV.jpg\n",
      "212 http://image.angelimg.spbeen.com/00000mx00000/FDltu65RczyHv0vdQy9X280598/lgbldZnSJxV5DUNTUvX8280598-Fi14pQ.jpg\n",
      "213 http://image.angelimg.spbeen.com/00000mx00000/Uza8zrl2R1CKm2KKgQFk307217/2anNRZUd2oiGT7pgPRLd307217-U7WQCp.jpg\n",
      "214 http://image.angelimg.spbeen.com/00000mx00000/0p1r52yZdcRhcDKqMZoD305479/eJ465g7AdqdXNRN3aS7m305479-J21fox.jpg\n",
      "215 http://image.angelimg.spbeen.com/00000mx00000/CCqzEZLnXD70shmmNShF284965/NP5eleqE9nccI3WRcaHV284965-Pxevli.jpg\n",
      "216 http://image.angelimg.spbeen.com/00000mx00000/5NEqdcKHsm5UYrp7NpWt293512/TLu3l273FkdFnzLQokug293512-EwPj7C.jpg\n"
     ]
    },
    {
     "name": "stdout",
     "output_type": "stream",
     "text": [
      "217 http://image.angelimg.spbeen.com/00000mx00000/X2p1GoJh5JfUZBmpWV5x277913/Pz3RAgjVkkfTbIUVK22P277913-hT0uMn.jpg\n",
      "218 http://image.angelimg.spbeen.com/00000mx00000/kH6WLAfKa1vstwE8MKh4285159/wU8RKUG4M70pJoPM7Q5K26-285159-uqBZA1.jpg\n",
      "219 http://image.angelimg.spbeen.com/00000mx00000/S4OFHemIMf3nwZroh1fZ287032/QPFSF3eMXqvLN68FSnEb287032-tJNyZ3.jpg\n",
      "220 http://image.angelimg.spbeen.com/00000mx00000/VYrRoC9dP701ZLoyojlS304125/fPg0IQHIaqQUg3NtCT0If5HO40.jpg\n",
      "221 http://image.angelimg.spbeen.com/00000mx00000/tnNKPqI21oQUdOCa6dfL282620/kRTT0HzNzwwhsCZYIjKw282620-lbuIyA.jpg\n",
      "222 http://image.angelimg.spbeen.com/00000mx00000/wtpptqbOAGHOphiL7gKK282251/lT6C870hqzrVpBf9Xwba282251-eeAgLd.jpg\n",
      "223 http://image.angelimg.spbeen.com/00000mx00000/R0feIUo6jLt9QglOBChH282931/RAlaWZ6pUkCY1gff1aq8282931-0xr0Kf.jpg\n",
      "224 http://image.angelimg.spbeen.com/00000mx00000/EgCQsT6Y7FKUfAIv5Z3b295003/jgU12KjH5Q3kGmO0S2iqLddCZn.jpg\n",
      "225 http://image.angelimg.spbeen.com/00000mx00000/px8mvz5fS3eiM2SiE1IW301710/CsSJsKAbfrB5Z8HmZviqz5hsDJ.jpg\n",
      "226 http://image.angelimg.spbeen.com/00000mx00000/0OF4MR5aeEvToRJMqORz273170/Y7J6fGYfXVJ9kHFzPyTi273170-CK08xD.jpg\n",
      "227 http://image.angelimg.spbeen.com/00000mx00000/FxPSjoHkaGcMoIAH3LiK303530/QWI0Uf61fSCQJ9369jRB303530-hyxtW7.jpg\n",
      "95 http://image.angelimg.spbeen.com/00000mx00000/RbvxlpZw9blS2iVyt3R1291777/by3lkeCYHljNtQ10id6t291777-gzfduK.jpg\n",
      "229 http://image.angelimg.spbeen.com/00000mx00000/LoAaiqRHMuJPHUcBY1vo300581/pysui4LQzROTiVMYGe4R3OkBtb.jpg\n",
      "230 http://image.angelimg.spbeen.com/00000mx00000/08yuNCOKFxs8zoX0ZOAk295187/kIr6YikuR5hHQp1DoiqdPXAwiA.jpg\n",
      "231 http://image.angelimg.spbeen.com/00000mx00000/EAqPk7kgt9TKDdgqKyfw295174/LaS0TT8vsmBtsHmoRHyK295174-oHkzWI.jpg\n",
      "232 http://image.angelimg.spbeen.com/00000mx00000/6dfVhsCuPjzZHSowTEr8307491/6Gj0ClRh7RndWH1dgt0K10e34bbdb933f9e6a841443b01f01928.jpg\n",
      "233 http://image.angelimg.spbeen.com/00000mx00000/4wW9QYDfE5qLgfDxw6nY290061/dSkw6XAC7JWlsAajoGRQ290061-QPRIaA.jpg\n",
      "234 http://image.angelimg.spbeen.com/00000mx00000/fmU3KHXixIw1LhgmbzH6274832/gWKhGbkqMbjLGTCcsipx274832-ijD21n.jpg\n",
      "235 http://image.angelimg.spbeen.com/00000mx00000/xMskn50KJiZJGxeH1Y8y291385/PWXM0HSxYDJLtNbAP0Y9291385-ZgQqzW.jpg\n",
      "236 http://image.angelimg.spbeen.com/00000mx00000/kOsc1eHEacIngXGaTwKA300451/SGPwVcbUqetcevlnMlEOvOkkI1.jpg\n",
      "237 http://image.angelimg.spbeen.com/00000mx00000/S9qiPTZa8rw4HG3ZYWyH277337/NUJ9hS0bNohUrQOlnnn5277337-VaW4b0.jpg\n",
      "238 http://image.angelimg.spbeen.com/00000mx00000/Eu5D4x8Uhwgr14z6nSe0292934/RFtMy2qKBewFtMt8PZAe292934-BgrLFI.jpg\n",
      "239 http://image.angelimg.spbeen.com/00000mx00000/lg84pyNoC8sfVoVde1vF286067/2nIDilsOKCGOyv1sWlKY09-286067-FS1Pxd.jpg\n",
      "240 http://image.angelimg.spbeen.com/00000mx00000/XgPuVa72IyFkZuUCGTZO306994/xzvr8WU4MIZIXl3qOSmI306994-3XiyfB.jpg\n",
      "241 http://image.angelimg.spbeen.com/00000mx00000/Bu8ghTmyo12uZvAS7Wn7302078/VdWH9BCLlImdCGJDfUtDS1EoHB.jpg\n",
      "242 http://image.angelimg.spbeen.com/00000mx00000/2TMnXCOYhO3eJfmjODkn303523/e5Q68M9YeoXZePnOVkzs303523-TCUaQQ.jpg\n",
      "243 http://image.angelimg.spbeen.com/00000mx00000/BaAZasr7hqX9mdKke42E297735/qwAySG352UNWiKfgC5JIoBHjFR.jpg\n",
      "244 http://image.angelimg.spbeen.com/00000mx00000/OBYiBIsvXK9Z7DIP7eOE275799/lQdZWjq1cUAha1HHuyEL275799-vw5vhT.jpg\n",
      "245 http://image.angelimg.spbeen.com/00000mx00000/ePZnCKe1V4oxmSXTwLRl299780/4vGS5ifhT1yFtUw95zjBCQk8eP.jpg\n",
      "242 http://image.angelimg.spbeen.com/00000mx00000/2TMnXCOYhO3eJfmjODkn303523/e5Q68M9YeoXZePnOVkzs303523-TCUaQQ.jpg\n"
     ]
    }
   ],
   "source": [
    "for img in all_imgs:\n",
    "    filename = img.split('/')[-1]\n",
    "    file_path = 'img/' + filename\n",
    "    try:\n",
    "        resp = requests.get(img,headers=headers,timeout=10)\n",
    "        print(all_imgs.index(img),img)\n",
    "        with open(file_path,'wb') as file:\n",
    "            file.write(resp.content)\n",
    "    except:\n",
    "        print(all_imgs.index(img),img)\n",
    "        pass"
   ]
  },
  {
   "cell_type": "markdown",
   "metadata": {},
   "source": [
    "## 下载图片的代码优化"
   ]
  },
  {
   "cell_type": "code",
   "execution_count": 8,
   "metadata": {},
   "outputs": [
    {
     "name": "stdout",
     "output_type": "stream",
     "text": [
      "当前请求的链接是： http://angelimg.spbeen.com/ang/1706\n",
      "images/近日，范冰冰到达南京拍摄郭敬明新片 ['http://image.angelimg.spbeen.com/00000mx00000/RbvxlpZw9blS2iVyt3R1291777/lNnqOegccFitERf5w8yK291777-fQsEGZ.jpg']\n",
      "http://image.angelimg.spbeen.com/00000mx00000/RbvxlpZw9blS2iVyt3R1291777/lNnqOegccFitERf5w8yK291777-fQsEGZ.jpg <Response [200]>\n",
      "当前请求的链接是： http://angelimg.spbeen.com/ang/1706/2\n",
      "images/近日，范冰冰到达南京拍摄郭敬明新片 ['http://image.angelimg.spbeen.com/00000mx00000/RbvxlpZw9blS2iVyt3R1291777/IE2XctjIfeXXifco9xmE291777-GNpL9J.jpg']\n",
      "http://image.angelimg.spbeen.com/00000mx00000/RbvxlpZw9blS2iVyt3R1291777/IE2XctjIfeXXifco9xmE291777-GNpL9J.jpg <Response [200]>\n",
      "当前请求的链接是： http://angelimg.spbeen.com/ang/1706/3\n",
      "images/近日，范冰冰到达南京拍摄郭敬明新片 ['http://image.angelimg.spbeen.com/00000mx00000/RbvxlpZw9blS2iVyt3R1291777/y6Av8fggZM36qiVOpgj8291777-3FWQZO.jpg']\n",
      "http://image.angelimg.spbeen.com/00000mx00000/RbvxlpZw9blS2iVyt3R1291777/y6Av8fggZM36qiVOpgj8291777-3FWQZO.jpg <Response [200]>\n",
      "当前请求的链接是： http://angelimg.spbeen.com/ang/1706/4\n",
      "images/近日，范冰冰到达南京拍摄郭敬明新片 ['http://image.angelimg.spbeen.com/00000mx00000/RbvxlpZw9blS2iVyt3R1291777/d0fXWmafbGcmBnWcgueH291777-sFDjaO.jpg']\n",
      "http://image.angelimg.spbeen.com/00000mx00000/RbvxlpZw9blS2iVyt3R1291777/d0fXWmafbGcmBnWcgueH291777-sFDjaO.jpg <Response [200]>\n",
      "当前请求的链接是： http://angelimg.spbeen.com/ang/1706/5\n",
      "images/近日，范冰冰到达南京拍摄郭敬明新片 ['http://image.angelimg.spbeen.com/00000mx00000/RbvxlpZw9blS2iVyt3R1291777/9S98gzETAe2VqvzDb9G5291777-rGk8aL.jpg']\n",
      "http://image.angelimg.spbeen.com/00000mx00000/RbvxlpZw9blS2iVyt3R1291777/9S98gzETAe2VqvzDb9G5291777-rGk8aL.jpg <Response [200]>\n",
      "当前请求的链接是： http://angelimg.spbeen.com/ang/1706/6\n",
      "images/近日，范冰冰到达南京拍摄郭敬明新片 ['http://image.angelimg.spbeen.com/00000mx00000/RbvxlpZw9blS2iVyt3R1291777/by3lkeCYHljNtQ10id6t291777-gzfduK.jpg']\n",
      "http://image.angelimg.spbeen.com/00000mx00000/RbvxlpZw9blS2iVyt3R1291777/by3lkeCYHljNtQ10id6t291777-gzfduK.jpg <Response [200]>\n",
      "当前请求的链接是： http://angelimg.spbeen.com/ang/1706/7\n",
      "images/近日，范冰冰到达南京拍摄郭敬明新片 ['http://image.angelimg.spbeen.com/00000mx00000/RbvxlpZw9blS2iVyt3R1291777/lNnqOegccFitERf5w8yK291777-fQsEGZ.jpg']\n",
      "http://image.angelimg.spbeen.com/00000mx00000/RbvxlpZw9blS2iVyt3R1291777/lNnqOegccFitERf5w8yK291777-fQsEGZ.jpg <Response [200]>\n",
      "当前请求的链接是： http://angelimg.spbeen.com/ang/1706/1\n",
      "images/近日，范冰冰到达南京拍摄郭敬明新片 ['http://image.angelimg.spbeen.com/00000mx00000/RbvxlpZw9blS2iVyt3R1291777/lNnqOegccFitERf5w8yK291777-fQsEGZ.jpg']\n",
      "http://image.angelimg.spbeen.com/00000mx00000/RbvxlpZw9blS2iVyt3R1291777/lNnqOegccFitERf5w8yK291777-fQsEGZ.jpg <Response [200]>\n",
      "当前请求的链接是： http://angelimg.spbeen.com/ang/1706/8\n",
      "images/近日，范冰冰到达南京拍摄郭敬明新片 ['http://image.angelimg.spbeen.com/00000mx00000/RbvxlpZw9blS2iVyt3R1291777/IE2XctjIfeXXifco9xmE291777-GNpL9J.jpg']\n",
      "http://image.angelimg.spbeen.com/00000mx00000/RbvxlpZw9blS2iVyt3R1291777/IE2XctjIfeXXifco9xmE291777-GNpL9J.jpg <Response [200]>\n",
      "当前请求的链接是： http://angelimg.spbeen.com/ang/1706/9\n",
      "images/近日，范冰冰到达南京拍摄郭敬明新片 ['http://image.angelimg.spbeen.com/00000mx00000/RbvxlpZw9blS2iVyt3R1291777/y6Av8fggZM36qiVOpgj8291777-3FWQZO.jpg']\n",
      "http://image.angelimg.spbeen.com/00000mx00000/RbvxlpZw9blS2iVyt3R1291777/y6Av8fggZM36qiVOpgj8291777-3FWQZO.jpg <Response [200]>\n",
      "当前请求的链接是： http://angelimg.spbeen.com/ang/1706/10\n",
      "images/近日，范冰冰到达南京拍摄郭敬明新片 ['http://image.angelimg.spbeen.com/00000mx00000/RbvxlpZw9blS2iVyt3R1291777/d0fXWmafbGcmBnWcgueH291777-sFDjaO.jpg']\n",
      "http://image.angelimg.spbeen.com/00000mx00000/RbvxlpZw9blS2iVyt3R1291777/d0fXWmafbGcmBnWcgueH291777-sFDjaO.jpg <Response [200]>\n",
      "当前请求的链接是： http://angelimg.spbeen.com/ang/1706/11\n",
      "images/近日，范冰冰到达南京拍摄郭敬明新片 ['http://image.angelimg.spbeen.com/00000mx00000/RbvxlpZw9blS2iVyt3R1291777/9S98gzETAe2VqvzDb9G5291777-rGk8aL.jpg']\n",
      "http://image.angelimg.spbeen.com/00000mx00000/RbvxlpZw9blS2iVyt3R1291777/9S98gzETAe2VqvzDb9G5291777-rGk8aL.jpg <Response [200]>\n",
      "当前请求的链接是： http://angelimg.spbeen.com/ang/1706/12\n",
      "images/近日，范冰冰到达南京拍摄郭敬明新片 ['http://image.angelimg.spbeen.com/00000mx00000/RbvxlpZw9blS2iVyt3R1291777/by3lkeCYHljNtQ10id6t291777-gzfduK.jpg']\n",
      "http://image.angelimg.spbeen.com/00000mx00000/RbvxlpZw9blS2iVyt3R1291777/by3lkeCYHljNtQ10id6t291777-gzfduK.jpg <Response [200]>\n",
      "当前列表的链接内容为 ['1706', '2', '3', '4', '5', '6', '7', '1', '8', '9', '10', '11', '12']\n"
     ]
    }
   ],
   "source": [
    "import requests\n",
    "from lxml import etree\n",
    "import time\n",
    "import os\n",
    "\n",
    "url = 'http://angelimg.spbeen.com/ang/1706'\n",
    "headers = {\n",
    "    'User-Agent':'Mozilla/5.0 (Windows NT 6.2; Win64; x64) AppleWebKit/537.36 (KHTML, like Gecko) Chrome/81.0.4044.138 Safari/537.36',\n",
    "    'Referer':'http://angelimg.spbeen.com' #网站资源需要服务器维持，为防止盗链接，所以需要查看Referer；否则可能看不到图片\n",
    "}\n",
    "all_links = [url] #创建一个列表，需要被判断、被循环\n",
    "\n",
    "def download_img(img_urls:list,img_dir_path): # 两个参数，第一个参数同时声明为列表\n",
    "    if not os.path.exists(img_dir_path):\n",
    "        os.makedirs(img_dir_path) #参数路径不存在则创建文件夹\n",
    "    \n",
    "    for img_url in img_urls:\n",
    "        filename = img_url.split('/')[-1] #用'/'分割后，从右往左取第一个\n",
    "        file_path = img_dir_path + '/' + filename # 创建文件名并指定路径\n",
    "        try:\n",
    "            resp = requests.get(img_url,headers=headers,timeout=10) #10秒超时\n",
    "            print(img_url,resp)\n",
    "            with open(file_path,'wb') as file: # 以二进制的content写入文件\n",
    "                file.write(resp.content)\n",
    "        except:\n",
    "            print(\"出现异常，当前{}跳过下载\".format(img_url))\n",
    "\n",
    "def get_next_links(url):\n",
    "    resp = requests.get(url,headers=headers)\n",
    "    html = etree.HTML(resp.text)\n",
    "    imgs = html.xpath('.//div[@id=\"content\"]/a/img/@src') # 需要下载的图片的src属性，也就是图片网址。\n",
    "    title = html.xpath('.//div[@class=\"article\"]/h2/text()') # 获取标题\n",
    "    if title:\n",
    "        title = title[0] # 因为xpath获取都是列表形式，所以取第一个\n",
    "    img_dir_path = \"images/{}\".format(title.split('...')[0])\n",
    "    print(img_dir_path,imgs)\n",
    "    \n",
    "    download_img(imgs,img_dir_path) #调用函数\n",
    "    \n",
    "    next_links = html.xpath('.//div[@id=\"page\"]/a/@href') # 当前图片页面下的所有图片的链接页面，也就是下面的\"12345下一页\"\n",
    "    for i in next_links:\n",
    "        base_url = 'http://angelimg.spbeen.com'\n",
    "        next_url = base_url + i\n",
    "        if next_url not in all_links:# 如果不在则添加进列表\n",
    "            all_links.append(next_url)\n",
    "\n",
    "for link in all_links: # 列表循环，因为后面还会append进来，所以可以多次循环，直到穷尽所有页面。于后述函数一起联动作用。\n",
    "    print(\"当前请求的链接是：\",link)\n",
    "    get_next_links(link)# 这个函数会因为前述的for循环多次被触发，产生联动作用。\n",
    "    time.sleep(1) #暂停1秒再触发\n",
    "print(\"当前列表的链接内容为\",[i.split('/')[-1] for i in all_links]) # 提取所有图片网址中的页数"
   ]
  },
  {
   "cell_type": "markdown",
   "metadata": {},
   "source": [
    "## 网页的执行顺序"
   ]
  },
  {
   "cell_type": "markdown",
   "metadata": {},
   "source": [
    "执行顺序\n",
    "1. 浏览器先请求网址，拿到对应的响应，获取里面的html代码\n",
    "2. 获取html中各种静态资源的链接并加载\n",
    "    - link标签，加载图标和css静态资源\n",
    "    - script标签的src属性，加载js的代码文件\n",
    "    - img标签的src属性，加载图片文件\n",
    "    - 加载字体文件【有些字体文件是配合css加载，还有一部分是可以自行加载】\n",
    "3. 加载结束后，不管是失败还是成功，浏览器在界面上渲染网页\n",
    "4. 读取script标签的文本代码，并执行读取到的js代码\n",
    "\n",
    "PS:\n",
    "- js代码可以操作网页的html标签内容，以及浏览器的行为\n",
    "- 网页的加载，同样是从上往下读取的\n",
    "\n",
    "1、2、3为静态，4为动态"
   ]
  },
  {
   "cell_type": "code",
   "execution_count": null,
   "metadata": {},
   "outputs": [],
   "source": []
  },
  {
   "cell_type": "code",
   "execution_count": null,
   "metadata": {},
   "outputs": [],
   "source": []
  }
 ],
 "metadata": {
  "kernelspec": {
   "display_name": "Python 3",
   "language": "python",
   "name": "python3"
  },
  "language_info": {
   "codemirror_mode": {
    "name": "ipython",
    "version": 3
   },
   "file_extension": ".py",
   "mimetype": "text/x-python",
   "name": "python",
   "nbconvert_exporter": "python",
   "pygments_lexer": "ipython3",
   "version": "3.7.6"
  }
 },
 "nbformat": 4,
 "nbformat_minor": 2
}
