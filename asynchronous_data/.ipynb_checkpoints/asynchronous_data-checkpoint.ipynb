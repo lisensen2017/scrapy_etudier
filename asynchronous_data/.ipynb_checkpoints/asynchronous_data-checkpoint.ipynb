{
 "cells": [
  {
   "cell_type": "markdown",
   "metadata": {},
   "source": [
    "## 异步数据来源渠道\n",
    "\n",
    "- 异步请求数据【浏览器执行js代码，完成请求并获取数据，然后渲染到网页上】\n",
    "    1. 请求API【重要】\n",
    "    2. 请求js文件，然后让浏览器自动执行\n",
    "    3. 数据藏在css里面，通过页面结构的渲染自动读取上去\n",
    "- 异步数据渲染【浏览器执行js代码，读取某个特定的html数据，并把数据渲染到网页上】\n",
    "    1. 读取标签属性值，然后通过js的逻辑代码，渲染成html标签【重要】\n",
    "    2. 伪异步翻页数据"
   ]
  },
  {
   "cell_type": "markdown",
   "metadata": {},
   "source": [
    "测试目标网址：\n",
    "1.https://study.163.com/\n",
    "2.https://www.jianshu.com/\n",
    "3.https://nb.lianjia.com/zufang/\n"
   ]
  },
  {
   "cell_type": "markdown",
   "metadata": {},
   "source": [
    "# 异步数据的渲染"
   ]
  },
  {
   "cell_type": "code",
   "execution_count": 1,
   "metadata": {
    "ExecuteTime": {
     "end_time": "2020-06-23T13:17:38.294177Z",
     "start_time": "2020-06-23T13:17:37.733359Z"
    }
   },
   "outputs": [],
   "source": [
    "def requests_view(response):\n",
    "    import webbrowser\n",
    "    request_url = response.url\n",
    "    base_url = '<head><base href=\"%s\">' % (request_url)\n",
    "    base_url = base_url.encode()\n",
    "    content = response.content.replace(b'<head>',base_url)\n",
    "    tem_html = open('tmp.html','wb')\n",
    "    tem_html.write(content)\n",
    "    tem_html.close()\n",
    "    webbrowser.open_new_tab(\"tmp.html\")\n",
    "import requests\n",
    "url = 'https://study.163.com/'\n",
    "requests_view(requests.get(url))"
   ]
  },
  {
   "cell_type": "code",
   "execution_count": 7,
   "metadata": {
    "ExecuteTime": {
     "end_time": "2020-06-23T14:31:43.541047Z",
     "start_time": "2020-06-23T14:29:33.038361Z"
    },
    "scrolled": true
   },
   "outputs": [
    {
     "name": "stdout",
     "output_type": "stream",
     "text": [
      "[<Element div at 0x7fbf4c679a50>]\n",
      "200 https://nb.lianjia.com/zufang/pg2/#contentList\n",
      "200 https://nb.lianjia.com/zufang/pg3/#contentList\n",
      "200 https://nb.lianjia.com/zufang/pg4/#contentList\n",
      "200 https://nb.lianjia.com/zufang/pg5/#contentList\n",
      "200 https://nb.lianjia.com/zufang/pg6/#contentList\n",
      "200 https://nb.lianjia.com/zufang/pg7/#contentList\n",
      "200 https://nb.lianjia.com/zufang/pg8/#contentList\n",
      "200 https://nb.lianjia.com/zufang/pg9/#contentList\n",
      "200 https://nb.lianjia.com/zufang/pg10/#contentList\n",
      "200 https://nb.lianjia.com/zufang/pg11/#contentList\n",
      "200 https://nb.lianjia.com/zufang/pg12/#contentList\n",
      "200 https://nb.lianjia.com/zufang/pg13/#contentList\n",
      "200 https://nb.lianjia.com/zufang/pg14/#contentList\n",
      "200 https://nb.lianjia.com/zufang/pg15/#contentList\n",
      "200 https://nb.lianjia.com/zufang/pg16/#contentList\n",
      "200 https://nb.lianjia.com/zufang/pg17/#contentList\n",
      "200 https://nb.lianjia.com/zufang/pg18/#contentList\n",
      "200 https://nb.lianjia.com/zufang/pg19/#contentList\n",
      "200 https://nb.lianjia.com/zufang/pg20/#contentList\n",
      "200 https://nb.lianjia.com/zufang/pg21/#contentList\n",
      "200 https://nb.lianjia.com/zufang/pg22/#contentList\n",
      "200 https://nb.lianjia.com/zufang/pg23/#contentList\n",
      "200 https://nb.lianjia.com/zufang/pg24/#contentList\n",
      "200 https://nb.lianjia.com/zufang/pg25/#contentList\n",
      "200 https://nb.lianjia.com/zufang/pg26/#contentList\n",
      "200 https://nb.lianjia.com/zufang/pg27/#contentList\n",
      "200 https://nb.lianjia.com/zufang/pg28/#contentList\n",
      "200 https://nb.lianjia.com/zufang/pg29/#contentList\n",
      "200 https://nb.lianjia.com/zufang/pg30/#contentList\n",
      "200 https://nb.lianjia.com/zufang/pg31/#contentList\n",
      "200 https://nb.lianjia.com/zufang/pg32/#contentList\n",
      "200 https://nb.lianjia.com/zufang/pg33/#contentList\n",
      "200 https://nb.lianjia.com/zufang/pg34/#contentList\n",
      "200 https://nb.lianjia.com/zufang/pg35/#contentList\n",
      "200 https://nb.lianjia.com/zufang/pg36/#contentList\n",
      "200 https://nb.lianjia.com/zufang/pg37/#contentList\n",
      "200 https://nb.lianjia.com/zufang/pg38/#contentList\n",
      "200 https://nb.lianjia.com/zufang/pg39/#contentList\n",
      "200 https://nb.lianjia.com/zufang/pg40/#contentList\n",
      "200 https://nb.lianjia.com/zufang/pg41/#contentList\n",
      "200 https://nb.lianjia.com/zufang/pg42/#contentList\n",
      "200 https://nb.lianjia.com/zufang/pg43/#contentList\n",
      "200 https://nb.lianjia.com/zufang/pg44/#contentList\n",
      "200 https://nb.lianjia.com/zufang/pg45/#contentList\n",
      "200 https://nb.lianjia.com/zufang/pg46/#contentList\n",
      "200 https://nb.lianjia.com/zufang/pg47/#contentList\n",
      "200 https://nb.lianjia.com/zufang/pg48/#contentList\n",
      "200 https://nb.lianjia.com/zufang/pg49/#contentList\n",
      "200 https://nb.lianjia.com/zufang/pg50/#contentList\n",
      "200 https://nb.lianjia.com/zufang/pg51/#contentList\n",
      "200 https://nb.lianjia.com/zufang/pg52/#contentList\n",
      "200 https://nb.lianjia.com/zufang/pg53/#contentList\n",
      "200 https://nb.lianjia.com/zufang/pg54/#contentList\n",
      "200 https://nb.lianjia.com/zufang/pg55/#contentList\n",
      "200 https://nb.lianjia.com/zufang/pg56/#contentList\n",
      "200 https://nb.lianjia.com/zufang/pg57/#contentList\n",
      "200 https://nb.lianjia.com/zufang/pg58/#contentList\n",
      "200 https://nb.lianjia.com/zufang/pg59/#contentList\n",
      "200 https://nb.lianjia.com/zufang/pg60/#contentList\n",
      "200 https://nb.lianjia.com/zufang/pg61/#contentList\n",
      "200 https://nb.lianjia.com/zufang/pg62/#contentList\n",
      "200 https://nb.lianjia.com/zufang/pg63/#contentList\n",
      "200 https://nb.lianjia.com/zufang/pg64/#contentList\n",
      "200 https://nb.lianjia.com/zufang/pg65/#contentList\n",
      "200 https://nb.lianjia.com/zufang/pg66/#contentList\n",
      "200 https://nb.lianjia.com/zufang/pg67/#contentList\n",
      "200 https://nb.lianjia.com/zufang/pg68/#contentList\n",
      "200 https://nb.lianjia.com/zufang/pg69/#contentList\n",
      "200 https://nb.lianjia.com/zufang/pg70/#contentList\n",
      "200 https://nb.lianjia.com/zufang/pg71/#contentList\n",
      "200 https://nb.lianjia.com/zufang/pg72/#contentList\n",
      "200 https://nb.lianjia.com/zufang/pg73/#contentList\n",
      "200 https://nb.lianjia.com/zufang/pg74/#contentList\n",
      "200 https://nb.lianjia.com/zufang/pg75/#contentList\n",
      "200 https://nb.lianjia.com/zufang/pg76/#contentList\n",
      "200 https://nb.lianjia.com/zufang/pg77/#contentList\n",
      "200 https://nb.lianjia.com/zufang/pg78/#contentList\n",
      "200 https://nb.lianjia.com/zufang/pg79/#contentList\n",
      "200 https://nb.lianjia.com/zufang/pg80/#contentList\n",
      "200 https://nb.lianjia.com/zufang/pg81/#contentList\n",
      "200 https://nb.lianjia.com/zufang/pg82/#contentList\n",
      "200 https://nb.lianjia.com/zufang/pg83/#contentList\n",
      "200 https://nb.lianjia.com/zufang/pg84/#contentList\n",
      "200 https://nb.lianjia.com/zufang/pg85/#contentList\n",
      "200 https://nb.lianjia.com/zufang/pg86/#contentList\n",
      "200 https://nb.lianjia.com/zufang/pg87/#contentList\n",
      "200 https://nb.lianjia.com/zufang/pg88/#contentList\n",
      "200 https://nb.lianjia.com/zufang/pg89/#contentList\n",
      "200 https://nb.lianjia.com/zufang/pg90/#contentList\n",
      "200 https://nb.lianjia.com/zufang/pg91/#contentList\n",
      "200 https://nb.lianjia.com/zufang/pg92/#contentList\n",
      "200 https://nb.lianjia.com/zufang/pg93/#contentList\n",
      "200 https://nb.lianjia.com/zufang/pg94/#contentList\n",
      "200 https://nb.lianjia.com/zufang/pg95/#contentList\n",
      "200 https://nb.lianjia.com/zufang/pg96/#contentList\n",
      "200 https://nb.lianjia.com/zufang/pg97/#contentList\n",
      "200 https://nb.lianjia.com/zufang/pg98/#contentList\n",
      "200 https://nb.lianjia.com/zufang/pg99/#contentList\n",
      "200 https://nb.lianjia.com/zufang/pg100/#contentList\n"
     ]
    }
   ],
   "source": [
    "import requests\n",
    "from lxml import etree\n",
    "from time import sleep\n",
    "\n",
    "url = 'https://nb.lianjia.com/zufang/#contentList'\n",
    "base_url = 'https://nb.lianjia.com/zufang/pg{}/#contentList'\n",
    "headers = {\n",
    "    'User-Agent':'Mozilla/5.0 (Macintosh; Intel Mac OS X 10_13_6) AppleWebKit/537.36 (KHTML, like Gecko) Chrome/83.0.4103.97 Safari/537.36'\n",
    "}\n",
    "\n",
    "response = requests.get(url, headers = headers)\n",
    "\n",
    "html = etree.HTML(response.text)\n",
    "tag = html.xpath('.//div[@class=\"content__pg\"]') # html是全局的标签对象\n",
    "print(tag)\n",
    "if tag:\n",
    "    tag = tag[0] # tag是列表，所以用[0]\n",
    "total = tag.xpath('@data-totalpage') # tag是单个的标签对象\n",
    "cur = tag.xpath('@data-curpage')\n",
    "#print(cur,total)\n",
    "if cur:\n",
    "    cur = int(cur[0])\n",
    "if total:\n",
    "    total = int(total[0])\n",
    "#print(cur,total)\n",
    "\n",
    "for i in range(cur + 1,total + 1):\n",
    "    request_url = base_url.format(i)\n",
    "    resp = requests.get(request_url,headers = headers) #resp获取响应\n",
    "    print(resp.status_code,resp.url) # 用url获取的响应里的状态码和url\n",
    "    sleep(1)b"
   ]
  },
  {
   "cell_type": "markdown",
   "metadata": {},
   "source": [
    "## 因为翻页是异步渲染的，get里没有翻页的内容，所以需要上述步骤"
   ]
  },
  {
   "cell_type": "markdown",
   "metadata": {
    "ExecuteTime": {
     "end_time": "2020-06-28T13:01:16.481344Z",
     "start_time": "2020-06-28T13:01:16.475264Z"
    }
   },
   "source": [
    "# 异步数据请求"
   ]
  },
  {
   "cell_type": "code",
   "execution_count": 23,
   "metadata": {
    "ExecuteTime": {
     "end_time": "2020-06-28T14:46:00.112359Z",
     "start_time": "2020-06-28T14:45:59.587995Z"
    }
   },
   "outputs": [
    {
     "name": "stdout",
     "output_type": "stream",
     "text": [
      "<p>同时启动二三十个项目，一个人负责几个，哪个能活下来，就拿出去吹牛b，其他的都砍掉，然后指责你能力不行，加班时间不够——这就是某些中层的工作方式，还美其名曰“腰部发力”</p>\n",
      "<p>同时启动二三十个项目，一个人负责几个，哪个能活下来，就拿出去吹牛b，其他的都砍掉，然后指责你能力不行，加班时间不够——这就是某些中层的工作方式，还美其名曰“腰部发力”</p>\n",
      "挣钱就完了\n",
      "<p>阿里能活多久</p>\n",
      "从我就职过多个一二线厂的经历来说，吹牛撕逼现象都很严重，不过阿里确实更为突出一些。\n",
      "<p>天天加班到10点的工作，大年三十都有工作上的事情找你，这种工作干个八天就可以辞职了。</p>\n",
      "项目是意淫出来的[好奇]\n",
      "卧槽，说的很是形象，我也是被优化的人员之一\n",
      "<p>价值观不符啊这是，哈哈哈</p>\n",
      "<p>CCO？</p>\n",
      "当一个公司庞大到需要哗众取宠时，和某些ZW部门真的是异曲同工啊\n",
      "有钱经得起耗\n",
      "不会吹牛逼就等着拿1吧\n",
      "这么可怕吗\n",
      "<p>和牢厂异曲同工，这种管理和创始人关系太大，上面希望搞你们但是确实没有事情就只能让你们斗争内耗了。未来也许字节能给几万的大公司管理一个满意的答案。</p>\n",
      "对岗位边界不清晰，工作内容及性质与招聘差异大深有感触。离开未必是坏事，祝好！\n",
      "运营嘛\n",
      "你就是阿里向社会输送的人才！\n",
      "<p>看到“同时有两个上级”，我还以为在说我。虽然不在阿里，但是内部情况和楼主说的八九不离十啊。大公司通病，极其痛苦，如果不是看在钱的份上谁他妈受虐啊。</p>\n",
      "恭喜脱坑。\n"
     ]
    }
   ],
   "source": [
    "import requests\n",
    "import json #注意Response Headers里的Cotent-Type\n",
    "# 知乎的回复 json格式\n",
    "url = 'https://www.zhihu.com/api/v4/answers/1292516151/root_comments?order=normal&limit=20&offset=0&status=open' #url自带查询的字符串参数\n",
    "headers = {\n",
    "    'user-agent':'Mozilla/5.0 (Macintosh; Intel Mac OS X 10_13_6) AppleWebKit/537.36 (KHTML, like Gecko) Chrome/83.0.4103.116 Safari/537.36'\n",
    "}\n",
    "\n",
    "response_zhihu = requests.get(url , headers = headers)\n",
    "#response_zhihu.status_code\n",
    "#response_zhihu.text\n",
    "info = json.loads(response_zhihu.text)\n",
    "#print(info,type(info))\n",
    "for data in info['data']: # \"info['data']\"就是一个列表，然后循环这个列表\n",
    "    print(data['content'])"
   ]
  },
  {
   "cell_type": "code",
   "execution_count": 24,
   "metadata": {
    "ExecuteTime": {
     "end_time": "2020-06-28T14:46:06.740234Z",
     "start_time": "2020-06-28T14:46:06.381326Z"
    }
   },
   "outputs": [
    {
     "name": "stdout",
     "output_type": "stream",
     "text": [
      "这艺术角度很刁\n",
      "有一次，在跟老公房事的过程中，老公在她耳边试探性的说，什么时候那谁能再来一次啊。<br>有一天，我对张二说：什么时候能再来一篇吧，好过瘾的故事，都是没用的男人给女人把风，吃软饭，你倒好，逆反了，男人能够享受“半推半就”的，不多。\n",
      "木有这样的事情吧？世上只有男嫖妹，木有听说妹嫖男。您的标题忒冷癖，好好老公放野马🐴？或者老公忒威猛，家中饭菜忒可怜？也许如今阴气盛，娘子红颜把家当？老公不服娘子管，放放野马又何妨？？？\n",
      "我感觉简书是一个 可以把话题说得很正式的感觉\n",
      "流星好猛\n",
      "这个建议你换个老公现在交友软件那么多糖呗社交上多的是🉑🉑\n",
      "不管真假，以我的见识，生活中确实有流心这种女人，也还真挺义气的一个娘们，这种女人也只是生性风流，不归纳入坏人一类。\n",
      "啊\n",
      "电视剧吗\n",
      "男人呀\n"
     ]
    }
   ],
   "source": [
    "import requests\n",
    "import json #注意Response Headers里的Cotent-Type\n",
    "# 简书的评论 json格式\n",
    "url = 'https://www.jianshu.com/shakespeare/notes/71374623/comments?page=1&count=10&author_only=false&order_by=desc' #url自带查询的字符串参数\n",
    "headers = {\n",
    "    'user-agent':'Mozilla/5.0 (Macintosh; Intel Mac OS X 10_13_6) AppleWebKit/537.36 (KHTML, like Gecko) Chrome/83.0.4103.116 Safari/537.36'\n",
    "}\n",
    "\n",
    "response_jianshu = requests.get(url , headers = headers)\n",
    "#response_jianshu.status_code\n",
    "#response_jianshu.text\n",
    "info = json.loads(response_jianshu.text)\n",
    "#print(info,type(info))\n",
    "for comment in info['comments']: # \"info['comments']\"就是一个列表，然后循环这个列表\n",
    "    print(comment['compiled_content'])"
   ]
  },
  {
   "cell_type": "code",
   "execution_count": 46,
   "metadata": {
    "ExecuteTime": {
     "end_time": "2020-06-29T13:58:17.826184Z",
     "start_time": "2020-06-29T13:58:17.449779Z"
    }
   },
   "outputs": [
    {
     "name": "stdout",
     "output_type": "stream",
     "text": [
      "4\n",
      "['47岁的陶虹：绝顶聪明的女人，都不声不响地拥有了全世界'] https://www.jianshu.com/p/738424ac4a8b\n",
      "['做了这么久的程序员，你知道为什么会有Lambda表达式吗？'] https://www.jianshu.com/p/be81b1987af1\n",
      "['照片拍完之后，他们就死了……'] https://www.jianshu.com/p/26cdfddb4d4f\n",
      "['怀孕女子大巴上假装肚子疼，逼迫司机半路停车，却救回一车人性命'] https://www.jianshu.com/p/95ed902d5666\n"
     ]
    }
   ],
   "source": [
    "import requests\n",
    "from lxml import etree\n",
    "# 简书的下拉 html格式\n",
    "url = 'https://www.jianshu.com/trending_notes'\n",
    "headers = {\n",
    "    'user-agent':'Mozilla/5.0 (Macintosh; Intel Mac OS X 10_13_6) AppleWebKit/537.36 (KHTML, like Gecko) Chrome/83.0.4103.116 Safari/537.36',\n",
    "    'X-CSRF-Token': 'p3tIV3nQwcozU/7AAfg8W/aOdsQqdI25R41vBJ4hYBMuRripIX1cT/YMcFmDt1xaccbmxmZ1s3wGjqC+qT/Y7g==',\n",
    "    'X-PJAX': 'true',\n",
    "    'X-Requested-With': 'XMLHttpRequest'\n",
    "}\n",
    "response_jianshu = requests.post(url , headers = headers)\n",
    "base_url = 'https://www.jianshu.com'\n",
    "#response_jianshu\n",
    "#response_jianshu.text\n",
    "#response_jianshu.headers\n",
    "html = etree.HTML(response_jianshu.text)\n",
    "lis = html.xpath('.//li')\n",
    "print(len(lis))\n",
    "for li in lis:\n",
    "    title = li.xpath('./div[@class=\"content\"]/a/text()')\n",
    "    link = li.xpath('./div[@class=\"content\"]/a/@href')\n",
    "    full_link = base_url + link[0]\n",
    "    print(title,full_link)"
   ]
  },
  {
   "cell_type": "code",
   "execution_count": 13,
   "metadata": {
    "ExecuteTime": {
     "end_time": "2020-06-30T13:28:58.732873Z",
     "start_time": "2020-06-30T13:28:58.609047Z"
    }
   },
   "outputs": [
    {
     "name": "stdout",
     "output_type": "stream",
     "text": [
      "直播主题：张小碗儿 网易特邀设计师\n",
      "讲师：3步搞定流行loading动画设计\n",
      "直播链接：https://study.163.com/lessonlive/h5/1281062487.htm\n",
      "--------\n",
      "直播主题：王冕  网易特邀大数据开发工程师\n",
      "讲师：【量化】用Python做股票指标分析和买卖时机选择（RSI指标篇）\n",
      "直播链接：https://study.163.com/lessonlive/h5/1281063335.htm\n",
      "--------\n",
      "直播主题：张雨薇 前网易云音乐资深产品经理\n",
      "讲师：以月活5.1亿微博为例，深度拆解产品核心功能\n",
      "直播链接：https://study.163.com/lessonlive/h5/1281068067.htm\n",
      "--------\n",
      "直播主题：肖春平 网易特邀Java高级开发工程师\n",
      "讲师：大型分布式集群架构高并发优化方案实战\n",
      "直播链接：https://study.163.com/lessonlive/h5/1281062559.htm\n",
      "--------\n",
      "直播主题：赵强  网易特邀大数据开发工程师\n",
      "讲师：分布式文件系统HDFS\n",
      "直播链接：https://study.163.com/lessonlive/h5/1281065595.htm\n",
      "--------\n",
      "直播主题：木松子旭 网易特邀设计师\n",
      "讲师：不加班秘籍—花式玩转AI高效设计技巧\n",
      "直播链接：https://study.163.com/lessonlive/h5/1281062488.htm\n",
      "--------\n"
     ]
    }
   ],
   "source": [
    "import requests\n",
    "import json\n",
    "# 网易云课堂首页 json格式\n",
    "url = 'https://study.163.com/home/j/web/getLiveCardList.json?categoryId=-1&t=1593519666950'\n",
    "headers = {\n",
    "    'user-agent':'Mozilla/5.0 (Macintosh; Intel Mac OS X 10_13_6) AppleWebKit/537.36 (KHTML, like Gecko) Chrome/83.0.4103.116 Safari/537.36',\n",
    "}\n",
    "response_wy = requests.get(url , headers = headers)\n",
    "response_wy.text\n",
    "info = json.loads(response_wy.text)\n",
    "for card in info['result']['list']:\n",
    "    title = card['lector']\n",
    "    teacher = card['liveName']\n",
    "    link = card['urlLink']\n",
    "    print(\"直播主题：\" + title , \"讲师：\" + teacher , \"直播链接：\" + link , sep = '\\n' , end = '\\n--------\\n')"
   ]
  },
  {
   "cell_type": "code",
   "execution_count": 21,
   "metadata": {
    "ExecuteTime": {
     "end_time": "2020-07-02T13:10:35.580627Z",
     "start_time": "2020-07-02T13:10:35.277089Z"
    }
   },
   "outputs": [
    {
     "name": "stdout",
     "output_type": "stream",
     "text": [
      "17 {'hasNextPage': True, 'endCursor': '3.78858191551260015'}\n",
      "Vue、Nuxt服务端渲染、NodeJS全栈项目~面向小白的完美系统~ 李白不吃茶v https://juejin.im/post/5efc8c9f6fb9a07e8c6891cc 第一次发帖子，有点小紧张，不知道待会给我点赞的会是哪位帅气的哥哥，还是漂亮的姐姐呢，嘿嘿。 这是一个入门全栈之路的小项目，从设计、前端、后端，一路狂飙的学习，不发水帖，出贴必属精品。 前后台均为绞尽脑汁的设计，整体风格为简约风，人的心灵到达一定阶段，心思愈渐愈偏向于简单，「大道… ------\n",
      "\n",
      "【每日鲜蘑】不同人的不同编码风格 襄垣云原生 https://juejin.im/post/5efd7dbdf265da22a77c4746  ------\n",
      "\n",
      "《前端会客厅》对话winter和尤雨溪，深度探寻Vue3设计思想(上) 蜗牛老湿_大圣 https://juejin.im/post/5ef2a4bff265da02972f74e7  ------\n",
      "\n",
      "24岁我全款买了人生的第一辆车 敖丙 https://juejin.im/post/5efd3263f265da22fe240e7e 昂，就在昨天我送给老爸的父亲节礼物到了他手上，一辆大众，我也第一时间在朋友圈分享了自己的喜悦，你们也让我知道了刷朋友圈原来也会卡，来我让你们也感受一下。 其实买车这件事太正常不过了，特别是这种十多万的车，但是在我这样的家庭可能就显得格外有意义了，诺大二之前这就是我家。 当然现在… ------\n",
      "\n",
      "前端工程 - 什么是前端工程管理? 掘金泥石流 https://juejin.im/post/5efd3d8e5188252e505c1162 当我作为面试官和一些候选人聊这个话题的时候, 我得到的答案五花八门, 比如谈目录规范, 编码规范, 做个脚手架, 增加单元测试, CodeReview 等等, 我的直觉告诉我这些和前端工程管理有关系, 但这些一定不是前端工程管理的本质, 但是当我们理不清本质的时候, 可以试着从… ------\n",
      "\n",
      "不走寻常路，)CSS垂直居中的另类实现 快狗打车前端团队 https://juejin.im/post/5efd952be51d4534681052e9 ... ------\n",
      "\n",
      "大家都在拼命进大厂，就我偏偏往二线跑 程序员cxuan https://juejin.im/post/5efdd545e51d4534b97908a7 归乡已经一年半了，谈谈这一年半以来自己的生活感悟。 上班的距离明显感觉要比北京近很多，北京，通勤距离一般都以 10 公里为基准。10 公里一迭代。而我在老家的通勤距离最多也就 10 公里，这几乎都算是最远的距离了。而且北上广深的上班族几乎都是装在地铁里的人，同为码农的你，想一想… ------\n",
      "\n",
      "手撕 Promise Allan91 https://juejin.im/post/5d6a1f246fb9a06aca383504 理解一个东西最好的办法之一就是动手自己写，So，他（Promise）来了。废话不多说，看如何实现。 Ok，fine，接下来，我们来实现她的三种状态。 那么Promise应该是初始状态。我们将上面代码执行测试一下，得到结果如下： 此时状态是：{status: \"pending\"}… ------\n",
      "\n",
      "Vue3 源码逐行解析 Mokou https://juejin.im/post/5efd8dfce51d453472469ebd 本文编写于 2020-06-10，脚手架使用 vite-app 版本 0.20.0，内置 vue 3.0.0-beta.14。 异常2：The engine \"node\" is incompatible with this module. Expected version \">… ------\n",
      "\n",
      "CSS Viewport 单位，很多人还不知道使用它来快速布局！ 前端小智 https://juejin.im/post/5efd21f2f265da2307399020 **CSS Viewport units(视口单位)**在过去几年已经出现了，随着时间的推移，越来越多的开发人员开始使用它们。它们的好处在于为我们提供了一种不需要使用J avaScript 就能以动态的方式调整大小的方法。而且，如果它失效，也有很多备用方案。 在本文中，我们将学… ------\n",
      "\n",
      "React Hooks为我们带来了什么 dykingdy https://juejin.im/post/5efda5185188252e4012307a 目前组件化开发思想已经成为了前端的主流。三大框架(Vue, React, Angular)都是组件化开发最好的引领者。 社区有很多的文章告诉我们如何做组件划分，应该遵循哪些原则。并且在做项目的过程中你也一定有一些自己的关于组件划分的心得体会。 所有的这些，归根结底，都是在教导我… ------\n",
      "\n",
      "（下）Vue+Echarts构建大数据可视化酷炫展示公司品牌实战项目分享（附源码） 懒人码农 https://juejin.im/post/5efca542f265da22c058d8ed 前端的学习，不能仅仅依靠知识点的学习，实战项目的操作可以帮助我们整理知识点以及提高编程能力，更有助于学习和实践，最重要的是提高自己的项目经验，对于找工作而言有着大大的帮助。 作者用心之作，请动动你可爱的小手点亮大拇指。你的鼓励是作者继续创作的动力... 一个基于Vue前端框架和… ------\n",
      "\n",
      "十分钟上手小程序开发，史上最全的《入门级》小程序开发 吃猫的鱼zk https://juejin.im/post/5efd4c765188252e362e0d2d 访问注册页面，耐心完成注册即可。 由于后期调用微信小程序的接口等功能，需要索取开发者的小程序中的APPID，所以在注册成功后，可登录，然后获取 APPID。 然后复制你的 APPID,悄悄的保存起来，不要给别人看到 😄。 微信小程序自带开发者工具，集 开发 预览 调试 发布 … ------\n",
      "\n",
      "聊聊Java中的异常及处理 良许Linux https://juejin.im/post/5efdcff86fb9a07eb15233f3  ------\n",
      "\n",
      "再看CSS长度单位使用，做到胸有成竹 掘金安东尼 https://juejin.im/post/5efd8391e51d4534767127b7 在日常的开发过程中，对长度单位的使用较为混乱。本瓜称之为“黑盒长度单位使用”。 涉及到网站需同时兼容 PC 和移动端情况更甚：px、百分比、em、rem、vw etc. 像素（px）在不同的设备有不同表现。对于低 dpi 的设备，1px 是显示器的一个设备像素（点）。对于打印机… ------\n",
      "\n",
      "由浅入深，66条JavaScript面试知识点 Jake Zhang https://juejin.im/post/5ef8377f6fb9a07e693a6061 我只想面个CV工程师，面试官偏偏让我挑战造火箭工程师，加上今年这个情况更是前后两男，但再难苟且的生活还要继续，饭碗还是要继续找的。在最近的面试中我一直在总结，每次面试回来也都会复盘，下面是我这几天遇到的面试知识点。但今天主题是标题所写的66条JavaScript知识点，由浅入深… ------\n",
      "\n",
      "【译】Flutter vs React Native vs Native：深度性能比较 恋猫de小郭 https://juejin.im/post/5efbffa65188252e800ce5d3 inVerita(https://inveritasoft.com/)一直致力于移动跨平台方案的性能问题，以此来解答哪种场景下开发者需要使用 Flutter 、 React Native 或原生开发，甚至是你需要选择哪个职业。 在之前的 《Flutter vs Native v… ------\n",
      "\n",
      "{'hasNextPage': True, 'endCursor': '3.78858191551260015'}\n"
     ]
    }
   ],
   "source": [
    "import requests\n",
    "import json\n",
    "# 网易云课堂首页 json格式\n",
    "url = 'https://web-api.juejin.im/query'\n",
    "headers = {\n",
    "    'User-Agent':'Mozilla/5.0 (Macintosh; Intel Mac OS X 10_13_6) AppleWebKit/537.36 (KHTML, like Gecko) Chrome/83.0.4103.116 Safari/537.36',\n",
    "    'X-Agent': 'Juejin/Web', # missing后加的\n",
    "    'Content-Type': 'application/json' # missing后加的\n",
    "}\n",
    "info = {\"operationName\":\"\",\"query\":\"\",\"variables\":{\"first\":20,\"after\":\"\",\"order\":\"POPULAR\"},\"extensions\":{\"query\":{\"id\":\"21207e9ddb1de777adeaca7a2fb38030\"}}}\n",
    "response = requests.post(url , headers = headers , data = json.dumps(info)) # data需要字符串形式，info是字典形式\n",
    "response.text # 如果有问题则用response.content.decode('utf8')进行手动解码\n",
    "response.content.decode('utf8')\n",
    "\n",
    "data = json.loads(response.content.decode('utf8'))\n",
    "edges = data['data']['articleFeed']['items']['edges']\n",
    "pageinfo = data['data']['articleFeed']['items']['pageInfo']\n",
    "print(len(edges) , pageinfo)\n",
    "for edge in edges:\n",
    "    node = edge['node']\n",
    "    title = node['title']\n",
    "    username = node['user']['username']\n",
    "    content = node['content']\n",
    "    link = node['originalUrl']\n",
    "    print(title , username , link , content , '------\\n')\n",
    "if pageinfo['hasNextPage']:\n",
    "    print(pageinfo)"
   ]
  },
  {
   "cell_type": "code",
   "execution_count": 22,
   "metadata": {
    "ExecuteTime": {
     "end_time": "2020-07-02T13:42:19.983422Z",
     "start_time": "2020-07-02T13:42:19.634776Z"
    }
   },
   "outputs": [
    {
     "name": "stdout",
     "output_type": "stream",
     "text": [
      "20 {'hasNextPage': True, 'endCursor': '2.04438866573529987'}\n",
      "再看CSS长度单位使用，做到胸有成竹 掘金安东尼 https://juejin.im/post/5efd8391e51d4534767127b7 在日常的开发过程中，对长度单位的使用较为混乱。本瓜称之为“黑盒长度单位使用”。 涉及到网站需同时兼容 PC 和移动端情况更甚：px、百分比、em、rem、vw etc. 像素（px）在不同的设备有不同表现。对于低 dpi 的设备，1px 是显示器的一个设备像素（点）。对于打印机… ------\n",
      "\n",
      "【译】Flutter vs React Native vs Native：深度性能比较 恋猫de小郭 https://juejin.im/post/5efbffa65188252e800ce5d3 inVerita(https://inveritasoft.com/)一直致力于移动跨平台方案的性能问题，以此来解答哪种场景下开发者需要使用 Flutter 、 React Native 或原生开发，甚至是你需要选择哪个职业。 在之前的 《Flutter vs Native v… ------\n",
      "\n",
      "jQuery 写小程序？Taro 3 正式版发布：开放式跨端跨框架解决方案 凹凸实验室 https://juejin.im/post/5efbdb786fb9a07ea929c967 从 Taro 第一个版本发布到现在，Taro 已经接受了来自于开源社区两年多的考验。今天我们很高兴地在党的生日发布 Taro 3（Taro Next）正式版，希望 Taro 未来的更多两年能像一名共产主义战士一样经受住更多的考验。以下是 Taro 3 的一些新增特性： 在旧版本… ------\n",
      "\n",
      "阿姨，React源码好难懂，我不想努力了 卡颂 https://juejin.im/post/5efb2ece6fb9a07e6e114629 应届生小A：在学校用React + antd做过后台管理系统，熟悉React技术栈。 两年前端小B：公司技术栈是React，都用了一年了，我React贼六。 五年前端老C：带团队把公司的粪坑项目用React重构了。React对我来说就跟呼吸一样容易。 小A、小B、老C：要不学学… ------\n",
      "\n",
      "用了babel还需要polyfill吗？？？ wens https://juejin.im/post/5efdaa8ff265da22b6493339 前两天一个同事跟我说了这么一个面试题，面试官上来就问他：“项目中用了babel还需要polyfill吗？” 开始他的内心是懵比的，怎么还有如此不按套路出牌的问题，按照面试的基本原则，答案一定是需要的，不然还怎么往下问啊。于是他说“要的”。当面试官深挖下去的时候他终于顶不住了。 … ------\n",
      "\n",
      "Iterator遍历器基础 佛大一叶 https://juejin.im/post/5efd7df46fb9a07e5f5173d2 一. 遍历器Iterator 1. 基本概念 js原有的表示\"集合\"的数据结构，主要是数组和对象。ES6添加了Map和Set。 这样就有了四种数据结构可以用于描述集合。但是需要一种接口体制来处理所有不同的数据结构 任何数据结构只要部署了Iterator接口，就可以完成遍历操作(… ------\n",
      "\n",
      "深度分析：面试腾讯，阿里面试官都喜欢问的String源码，看完你学会了吗？ 前程有光 https://juejin.im/post/5efd76515188252e456726c6 最近花了两天时间，整理了一下String的源码。这个整理并不全面但是也涵盖了大部分Spring源码中的方法。后续如果有时间还会将剩余的未整理的方法更新到这篇文章中。方便以后的复习和面试使用。如果文章中有地方有问题还请指出。 String的底层使用的是char数组用于存储。 ------\n",
      "\n",
      "GET 新技能！自己的网站突然就不香了 江南一点雨 https://juejin.im/post/5efd35eae51d4534791d42b3 一个就是大家看到的 www.javaboy.org，这个网站是基于 GitHub Pages 做的，使用的技术栈是 hexo+icarus，公众号上的所有文章我都会同步到这个网站上去。 这一类电子书网站技术栈是 Jekyll + jekyll-TeXt-theme，这个松哥在之… ------\n",
      "\n",
      "聊聊Java中的异常及处理 良许Linux https://juejin.im/post/5efdcff86fb9a07eb15233f3  ------\n",
      "\n",
      "Cookie 入门到入门（js-cookie插件） 说过的玩笑 https://juejin.im/post/5efd839de51d4534c14da305  ------\n",
      "\n",
      "通俗易懂的Vue响应式原理以及依赖收集 hello等风来 https://juejin.im/post/5efd3282e51d4534c45511e3 最近在看一些底层方面的知识。所以想做个系列尝试去聊聊这些比较复杂又很重要的知识点。学习就好比是座大山，只有自己去登山，才能看到不一样的风景，体会更加深刻。今天我们就来聊聊Vue中比较重要的响应式原理以及依赖收集。 Object.defineProperty() 和 Proxy … ------\n",
      "\n",
      "Fish vs. Zsh vs. Bash以及为什么要改用Fish 杜尼卜 https://juejin.im/post/5efdc7e6f265da23101a0041 事实上，大多数开发人员都喜欢Unix和类似Unix（基于Linux）的操作系统，例如macOS，Ubuntu等。它们稳定，强大，高度可定制，并且具有强大的Unix Shell。 Shell是基础操作系统的接口。它允许你使用文本和命令来执行操作，并且为用户提供了高级功能，例如能够… ------\n",
      "\n",
      "Linux 操作系统！开篇！！！ 程序员cxuan https://juejin.im/post/5efd69dae51d4534854543e4 此篇文章主要会带你介绍 Linux 操作系统，包括 Linux 本身、Linux 如何使用、以及系统调用和 Linux 是如何工作的。 UNIX 是一个交互式系统，用于同时处理多进程和多用户同时在线。为什么要说 UNIX，那是因为 Linux 是由 UNIX 发展而来的，UNI… ------\n",
      "\n",
      "谈谈git分支管理的本质 Wetoria https://juejin.im/post/5efd9d945188252e974ee581 想了想工作两年中自己做的事情，发现这方面还算不错，所以拎出来说说自己对 git 的一些理解。 粗略浏览了一下网上存在的 Git 相关的中文文章，大多数是介绍 Git 的一些命令怎么使用，或者是介绍 Git 分支管理策略里有哪些类型的分支，似乎没有一篇文章是在解释为什么要这么做。… ------\n",
      "\n",
      "JavaScript ES6代理的实际用例 杜尼卜 https://juejin.im/post/5efd6683e51d453475009ea6 元编程是一种强大的技术，使你能够编写可以创建其他程序的程序。ES6借助代理和许多类似功能，使在JavaScript中利用元编程变得更加容易。ES6 Proxy（代理） 有助于重新定义对象的基本操作，从而为各种可能性打开了大门。 本教程主要针对有JavaScript经验的开发人员… ------\n",
      "\n",
      "不会吧！都2020年了你还不会这些VUE面试题？ Jone_Yu https://juejin.im/post/5efb3b246fb9a07eb3290e3f 面试中可以问的问题很多，最近几年，我也面试，或者视频面试过很多工作 2-4 年的前端，我一般会抓住他们做的项目，进行更详细的追问。所以，初中级前端面试的时候，除了掌握基础知识之外，项目中用到的技术要理清楚，假如你项目中用到的技术，问的时候却一问三不知，那么，基本上就会 pass… ------\n",
      "\n",
      "为京东PLUS会员保驾护航的日子 京东设计中心JDC https://juejin.im/post/5efbdc116fb9a07e8020328f 改版页面增加沉浸式以及楼层换肤功能，烘托氛围，增强用户感知；以及整个页面实现配置化，减少后期前端维护上线成本。 目前正式用户已经接近两千万大关，一切是那么的欣欣向荣、朝气蓬勃。 然而沉下心来，无论是技术的升级，还是项目的不断完善，在《2019年京东PLUS会员前端开发之路》一文… ------\n",
      "\n",
      "浅谈观察者模式和发布订阅者模式 longhanghang https://juejin.im/post/5efd7c6f5188252e62284902 对象间一种一对多的依赖关系，当目标对象 Subject 的状态发生改变时，所有依赖它的对象 Observer 都会得到通知。 对象间一种一对多的依赖关系，当目标对象指定的动作发生改变时，订阅该动作的依赖对象会收到相应的通知。 设计模式是在特定场景下面可以使用的解决方案，是前辈们… ------\n",
      "\n",
      "打造一款适合自己的快速开发框架-前端篇之权限管理 mldong https://juejin.im/post/5efcb274f265da22df3cc314 在后端篇中已对权限资源进行了分类：API接口、路由菜单、页面按钮。本文重点讲一下如何对这些权限资源进行分配并对不同的登录用户，根据权限的不同，呈现不一样的功能菜单、按钮进行统一处理。 这里只是简单的介绍，想详细了解的，可自行查看资料。 vue可以自定义指令，拿当前dom元素，然… ------\n",
      "\n",
      "前方高能，这是最新的一波Vue实战技巧，不用则已，一用惊人 前端进击者 https://juejin.im/post/5ef6d1325188252e75366ab5 最近一直在开发后台管理系统，日复一日的重复着表单表格表格表单，标准的CV仔，感觉好无聊，如何能在这种无聊的开发过程中去提升自己，小编今天又整理了一波新的Vue实战技巧，这些技巧，不用则已，一用惊人。同时你也可以点击下面的链接阅读近期小编的文章。 插槽，相信每一位Vue都有使用过… ------\n",
      "\n",
      "{'hasNextPage': True, 'endCursor': '2.04438866573529987'}\n"
     ]
    }
   ],
   "source": [
    "import requests\n",
    "import json\n",
    "# 网易云课堂首页 json格式\n",
    "url = 'https://web-api.juejin.im/query'\n",
    "headers = {\n",
    "    'User-Agent':'Mozilla/5.0 (Macintosh; Intel Mac OS X 10_13_6) AppleWebKit/537.36 (KHTML, like Gecko) Chrome/83.0.4103.116 Safari/537.36',\n",
    "    'X-Agent': 'Juejin/Web', # missing后加的\n",
    "    'Content-Type': 'application/json' # missing后加的\n",
    "}\n",
    "info = {\"operationName\":\"\",\"query\":\"\",\"variables\":{\"first\":20,\"after\":\"\",\"order\":\"POPULAR\"},\"extensions\":{\"query\":{\"id\":\"21207e9ddb1de777adeaca7a2fb38030\"}}}\n",
    "info['variables']['after'] = pageinfo['endCursor'] #上一页的info中的值加到下一页的payload请求中\n",
    "response = requests.post(url , headers = headers , data = json.dumps(info)) # data需要字符串形式，info是字典形式\n",
    "response.text # 如果有问题则用response.content.decode('utf8')进行手动解码\n",
    "response.content.decode('utf8')\n",
    "\n",
    "data = json.loads(response.content.decode('utf8'))\n",
    "edges = data['data']['articleFeed']['items']['edges']\n",
    "pageinfo = data['data']['articleFeed']['items']['pageInfo']\n",
    "print(len(edges) , pageinfo)\n",
    "for edge in edges:\n",
    "    node = edge['node']\n",
    "    title = node['title']\n",
    "    username = node['user']['username']\n",
    "    content = node['content']\n",
    "    link = node['originalUrl']\n",
    "    print(title , username , link , content , '------\\n')\n",
    "if pageinfo['hasNextPage']:\n",
    "    print(pageinfo)"
   ]
  }
 ],
 "metadata": {
  "kernelspec": {
   "display_name": "Python 3",
   "language": "python",
   "name": "python3"
  },
  "language_info": {
   "codemirror_mode": {
    "name": "ipython",
    "version": 3
   },
   "file_extension": ".py",
   "mimetype": "text/x-python",
   "name": "python",
   "nbconvert_exporter": "python",
   "pygments_lexer": "ipython3",
   "version": "3.7.6"
  },
  "varInspector": {
   "cols": {
    "lenName": 16,
    "lenType": 16,
    "lenVar": 40
   },
   "kernels_config": {
    "python": {
     "delete_cmd_postfix": "",
     "delete_cmd_prefix": "del ",
     "library": "var_list.py",
     "varRefreshCmd": "print(var_dic_list())"
    },
    "r": {
     "delete_cmd_postfix": ") ",
     "delete_cmd_prefix": "rm(",
     "library": "var_list.r",
     "varRefreshCmd": "cat(var_dic_list()) "
    }
   },
   "types_to_exclude": [
    "module",
    "function",
    "builtin_function_or_method",
    "instance",
    "_Feature"
   ],
   "window_display": false
  }
 },
 "nbformat": 4,
 "nbformat_minor": 2
}
